{
 "cells": [
  {
   "cell_type": "markdown",
   "metadata": {
    "deletable": true,
    "editable": true
   },
   "source": [
    "# itertools模块使用说明\n",
    "`itertools`是Python内建的一个模块，用于迭代计算实现高效的循环计算。迭代器有一个特点就是非常懒，只有到提示到deadline的时候，也就是迭代到某个值的时候，才会进行计算。如果有大文件就很适合迭代器，这样我们可以不用把所有数据缓存到内存中。`itertools`中提供了各类函数，这些函数都会返回迭代器，我们可以用`for`循环来遍历，或者使用`next()`方法来获得下一个值。关于迭代器的介绍可以参考[迭代器-瘳雪峰](http://www.liaoxuefeng.com/wiki/0014316089557264a6b348958f449949df42a6d3a2e542c000/00143178254193589df9c612d2449618ea460e7a672a366000)"
   ]
  },
  {
   "cell_type": "markdown",
   "metadata": {
    "deletable": true,
    "editable": true
   },
   "source": [
    "## 1. 无限迭代器\n",
    "这里讲的3个迭代器可以无限迭代，直到Python里面设置的最大迭代次数就会停止了。"
   ]
  },
  {
   "cell_type": "markdown",
   "metadata": {
    "deletable": true,
    "editable": true
   },
   "source": [
    "### 1.1 count\n",
    "默认情况下从0开始计数，每次加1，直到世界的尽头（Python中最大的sys.maxint-1），用法`count(start, [step])`。"
   ]
  },
  {
   "cell_type": "code",
   "execution_count": 3,
   "metadata": {
    "collapsed": false,
    "deletable": true,
    "editable": true
   },
   "outputs": [
    {
     "name": "stdout",
     "output_type": "stream",
     "text": [
      "0\n",
      "1\n",
      "2\n",
      "3\n",
      "4\n",
      "5\n",
      "6\n",
      "7\n",
      "8\n",
      "9\n",
      "10\n",
      "---------------\n",
      "6\n",
      "6.5\n",
      "7.0\n",
      "7.5\n",
      "8.0\n",
      "8.5\n",
      "9.0\n",
      "9.5\n",
      "10.0\n"
     ]
    }
   ],
   "source": [
    "from itertools import count\n",
    "# 不加参数使用默认参数\n",
    "for i in count():\n",
    "    if i > 10:\n",
    "        break\n",
    "    print i\n",
    "    \n",
    "print '-'*15\n",
    "# 添加起始和间隔步长\n",
    "for i in count(6,0.5):\n",
    "    if i > 10:\n",
    "        break\n",
    "    print i"
   ]
  },
  {
   "cell_type": "markdown",
   "metadata": {
    "deletable": true,
    "editable": true
   },
   "source": [
    "### 1.2 cycle\n",
    "无限循环函数，给定一个序列或字符等可以迭代的对象，可以一直循环输出，`cycle(seq)`"
   ]
  },
  {
   "cell_type": "code",
   "execution_count": 7,
   "metadata": {
    "collapsed": false,
    "deletable": true,
    "editable": true
   },
   "outputs": [
    {
     "name": "stdout",
     "output_type": "stream",
     "text": [
      "A\n",
      "T\n",
      "C\n",
      "G\n",
      "A\n",
      "T\n",
      "C\n",
      "G\n",
      "A\n",
      "T\n",
      "C\n"
     ]
    }
   ],
   "source": [
    "from itertools import cycle\n",
    "# 如果不加条件会一直循环下去\n",
    "n = 0\n",
    "for i in cycle('ATCG'):\n",
    "    if n > 10:\n",
    "        break\n",
    "    print i\n",
    "    n += 1"
   ]
  },
  {
   "cell_type": "markdown",
   "metadata": {
    "deletable": true,
    "editable": true
   },
   "source": [
    "### 1.3 repeat\n",
    "这个也是默认无限次重复，这里只重复一个元素,`repeat(element, [n])`后面的n可以用于指定重复的次数"
   ]
  },
  {
   "cell_type": "code",
   "execution_count": 8,
   "metadata": {
    "collapsed": false,
    "deletable": true,
    "editable": true
   },
   "outputs": [
    {
     "name": "stdout",
     "output_type": "stream",
     "text": [
      "A\n",
      "A\n",
      "A\n",
      "A\n",
      "A\n"
     ]
    }
   ],
   "source": [
    "from itertools import repeat\n",
    "\n",
    "for i in repeat('A', 5):\n",
    "    print i"
   ]
  },
  {
   "cell_type": "markdown",
   "metadata": {
    "deletable": true,
    "editable": true
   },
   "source": [
    "## 2. 短序列上的迭代\n",
    "下面的函数都是在有限序列上进行迭代操作，功能还是很有意思的。"
   ]
  },
  {
   "cell_type": "markdown",
   "metadata": {
    "deletable": true,
    "editable": true
   },
   "source": [
    "### 2.1 chain\n",
    "从第一个可迭代的对象开始，一个接一个的迭代下去，`chain(*iterables)`。不明白**\\***用法的，可以复习下函数里面参数那一部分内容。"
   ]
  },
  {
   "cell_type": "code",
   "execution_count": 9,
   "metadata": {
    "collapsed": false,
    "deletable": true,
    "editable": true
   },
   "outputs": [
    {
     "name": "stdout",
     "output_type": "stream",
     "text": [
      "A\n",
      "T\n",
      "C\n",
      "G\n",
      "1\n",
      "2\n",
      "3\n",
      "4\n"
     ]
    }
   ],
   "source": [
    "from itertools import chain\n",
    "\n",
    "for i in chain('ATCG','1234'):\n",
    "    print i"
   ]
  },
  {
   "cell_type": "markdown",
   "metadata": {
    "deletable": true,
    "editable": true
   },
   "source": [
    "### 2.2 compress\n",
    "compress也就是压缩的意思，就是把不必要的东西过滤掉，过滤的时候需要指定一个选择器来进行选择。`compress(data, selector)`，需要指定一个数据和selector, selector和data之间的长度可以不一样。相当于每次进行一次判断，如果selector里面该位置的值为**True**，data中对应位置的值就保留下来。"
   ]
  },
  {
   "cell_type": "code",
   "execution_count": 14,
   "metadata": {
    "collapsed": false,
    "deletable": true,
    "editable": true
   },
   "outputs": [
    {
     "name": "stdout",
     "output_type": "stream",
     "text": [
      "['T', 'G']\n",
      "['T', 'G', 'G']\n"
     ]
    }
   ],
   "source": [
    "from itertools import compress\n",
    "\n",
    "data = 'ATG'\n",
    "selector = [0,1,2,'',3,1,0]\n",
    "print list(compress(data, selector))\n",
    "\n",
    "data = 'ATGCGTAGT'\n",
    "selector = [0,1,2,'',1]\n",
    "print list(compress(data, selector))"
   ]
  },
  {
   "cell_type": "markdown",
   "metadata": {
    "deletable": true,
    "editable": true
   },
   "source": [
    "### 2.3 dropwhile\n",
    "看字面上的意思，是指while <某个条件>的时候，把相关元素drop了。`dropwhile(predicate, iterable)`， predicate可以是某个表达式用于iterable中输入值的判断，会把前面判断为True的结果都去掉，直到出现False，同时后面的元素不管判断结果是True或False都返回。"
   ]
  },
  {
   "cell_type": "code",
   "execution_count": 4,
   "metadata": {
    "collapsed": false,
    "deletable": true,
    "editable": true
   },
   "outputs": [
    {
     "name": "stdout",
     "output_type": "stream",
     "text": [
      "4\n",
      "2\n",
      "1\n"
     ]
    }
   ],
   "source": [
    "from itertools import dropwhile\n",
    "for i in dropwhile(lambda x : x<4, [1,2,3,2,4,2,1]):\n",
    "    print i"
   ]
  },
  {
   "cell_type": "markdown",
   "metadata": {
    "deletable": true,
    "editable": true
   },
   "source": [
    "### 2.4 groupby\n",
    "根据提供的keyfunction，把每个元素通过keyfunction得到一个key值，按照key值进行分组，一般来说在进行处理前，数据需要进行排序。`groupby(data, keyfunction)`，下面根据这个方法，区分奇偶数"
   ]
  },
  {
   "cell_type": "code",
   "execution_count": 13,
   "metadata": {
    "collapsed": false,
    "deletable": true,
    "editable": true
   },
   "outputs": [
    {
     "name": "stdout",
     "output_type": "stream",
     "text": [
      "0 [0]\n",
      "1 [1]\n",
      "0 [2]\n",
      "1 [3]\n",
      "0 [4]\n",
      "1 [5]\n",
      "0 [6]\n",
      "1 [7]\n",
      "0 [8]\n",
      "1 [9]\n"
     ]
    }
   ],
   "source": [
    "from itertools import groupby\n",
    "\n",
    "data = range(10)\n",
    "for k,v in groupby(data, lambda x: x%2):\n",
    "    print k,list(v)"
   ]
  },
  {
   "cell_type": "markdown",
   "metadata": {
    "deletable": true,
    "editable": true
   },
   "source": [
    "上面的结果虽然给出了奇偶数，可是还是不能把数字按照奇偶分成两组，我们可以先把数组按照奇偶进行排序，然后再用`groupby`"
   ]
  },
  {
   "cell_type": "code",
   "execution_count": 17,
   "metadata": {
    "collapsed": false,
    "deletable": true,
    "editable": true
   },
   "outputs": [
    {
     "name": "stdout",
     "output_type": "stream",
     "text": [
      "[0, 2, 4, 6, 8, 1, 3, 5, 7, 9]\n",
      "even, 0,2,4,6,8\n",
      "odd, 1,3,5,7,9\n"
     ]
    }
   ],
   "source": [
    "f = lambda x: 'even' if x%2 == 0 else 'odd'\n",
    "data = range(10)\n",
    "data_sorted = sorted(data, key=f)\n",
    "print data_sorted    # 按照奇偶进行排序\n",
    "\n",
    "for k,v in groupby(data_sorted, f):\n",
    "    print '%s, %s' % (k, ','.join(map(str,v)))"
   ]
  },
  {
   "cell_type": "markdown",
   "metadata": {},
   "source": [
    "### 2.5 ifilter and ifilterfalse\n",
    "`ifilter(pred, seq)`，每个元素在表达式pred结果为True的保留，`ifilterfalse(pred, seq)`和前面相反，保留结果为False的元素。"
   ]
  },
  {
   "cell_type": "code",
   "execution_count": 4,
   "metadata": {
    "collapsed": false
   },
   "outputs": [
    {
     "name": "stdout",
     "output_type": "stream",
     "text": [
      "[1, 3, 5, 7, 9]\n",
      "[0, 2, 4, 6, 8]\n"
     ]
    }
   ],
   "source": [
    "from itertools import ifilter, ifilterfalse\n",
    "\n",
    "# 奇偶数\n",
    "print list(ifilter(lambda x:x%2, range(10)))\n",
    "print list(ifilterfalse(lambda x:x%2, range(10)))"
   ]
  },
  {
   "cell_type": "markdown",
   "metadata": {},
   "source": [
    "### 2.6 islice\n",
    "`islice(seq, [start], stop, [step])`效果类似列表中的切片操作，不过这里只是生成一个迭代器，列表切片的结果是产生一个新的列表。其中stop参数一定需要指定，如果是遍历整个列表，可以使用**None**，其他参数的意思可以参考列表的操作。"
   ]
  },
  {
   "cell_type": "code",
   "execution_count": 9,
   "metadata": {
    "collapsed": false
   },
   "outputs": [
    {
     "name": "stdout",
     "output_type": "stream",
     "text": [
      "1\n",
      "3\n",
      "5\n",
      "7\n",
      "9\n"
     ]
    }
   ],
   "source": [
    "from itertools import islice\n",
    "\n",
    "for i in islice(range(10), 1,None,2):\n",
    "    print i"
   ]
  },
  {
   "cell_type": "markdown",
   "metadata": {},
   "source": [
    "### 2.7 imap\n",
    "`imap(func, p, q)`将输入的可迭代对象p和q中的元素作为参数分别传入到函数func中，具体可以看例子："
   ]
  },
  {
   "cell_type": "code",
   "execution_count": 12,
   "metadata": {
    "collapsed": false
   },
   "outputs": [
    {
     "name": "stdout",
     "output_type": "stream",
     "text": [
      "8\n",
      "81\n",
      "1024\n"
     ]
    }
   ],
   "source": [
    "from itertools import imap\n",
    "\n",
    "for i in imap(pow, (2,3,4),(3,4,5)):\n",
    "# 可以试试两个长度不一样的结果有什么不一样\n",
    "#for i in imap(pow, (2,3,4),(3,4)):\n",
    "    print i"
   ]
  },
  {
   "cell_type": "markdown",
   "metadata": {},
   "source": [
    "### 2.8 starmap\n",
    "`starmap(func, seq)`和上面的`imap`不同，这里会把seq中的每个元素当成参数传入到func中，效果同func(*seq[0]),func(*seq[1]),...，前面的**star**应该是参数传入时候的星号了。"
   ]
  },
  {
   "cell_type": "code",
   "execution_count": 14,
   "metadata": {
    "collapsed": false
   },
   "outputs": [
    {
     "name": "stdout",
     "output_type": "stream",
     "text": [
      "8\n",
      "9\n",
      "16\n"
     ]
    }
   ],
   "source": [
    "from itertools import starmap\n",
    "\n",
    "for i in starmap(pow, [(2,3),(3,2),(2,4)]):\n",
    "    print i"
   ]
  },
  {
   "cell_type": "markdown",
   "metadata": {},
   "source": [
    "### 2.9 tee\n"
   ]
  },
  {
   "cell_type": "code",
   "execution_count": 17,
   "metadata": {
    "collapsed": false
   },
   "outputs": [
    {
     "name": "stdout",
     "output_type": "stream",
     "text": [
      "[0, 1, 2, 3, 4, 5, 6, 7, 8, 9]\n",
      "[0, 1, 2, 3, 4, 5, 6, 7, 8, 9]\n",
      "[0, 1, 2, 3, 4, 5, 6, 7, 8, 9]\n",
      "[0, 1, 2, 3, 4, 5, 6, 7, 8, 9]\n",
      "[0, 1, 2, 3, 4, 5, 6, 7, 8, 9]\n",
      "0\n",
      "1\n",
      "2\n",
      "3\n",
      "4\n"
     ]
    }
   ],
   "source": [
    "from itertools import tee\n",
    "\n",
    "for i in tee(range(10), 5):\n",
    "    print list(i)\n",
    "    \n",
    "r = islice(range(10),5)\n",
    "for i in r:\n",
    "    print i"
   ]
  },
  {
   "cell_type": "markdown",
   "metadata": {
    "deletable": true,
    "editable": true
   },
   "source": [
    "## 3. 排列组合\n",
    "### 3.1 product\n",
    "`product(seq, repeat=1)`，这里面用法有点类似以前学习的排列组合的内容，有放回而且排序位置也是有关系的排列组合关系。`seq`可以有多个序列，参考后面的例子，`repeat`我的理解是类似从排列组合里面常见的取出几个球，如果只有一个seq的话，相当于只有一个盒子，如果有多个seq，就相当于从每个盒子里面取出几个球。"
   ]
  },
  {
   "cell_type": "code",
   "execution_count": 5,
   "metadata": {
    "collapsed": false,
    "deletable": true,
    "editable": true
   },
   "outputs": [
    {
     "name": "stdout",
     "output_type": "stream",
     "text": [
      "('A', 'A')\n",
      "('A', 'T')\n",
      "('A', 'C')\n",
      "('A', 'G')\n",
      "('T', 'A')\n",
      "('T', 'T')\n",
      "('T', 'C')\n",
      "('T', 'G')\n",
      "('C', 'A')\n",
      "('C', 'T')\n",
      "('C', 'C')\n",
      "('C', 'G')\n",
      "('G', 'A')\n",
      "('G', 'T')\n",
      "('G', 'C')\n",
      "('G', 'G')\n"
     ]
    }
   ],
   "source": [
    "from itertools import product\n",
    "# 当repeat=2时，重复2次碱基\n",
    "for i in product('ATCG', repeat=2):\n",
    "    print i"
   ]
  },
  {
   "cell_type": "markdown",
   "metadata": {
    "deletable": true,
    "editable": true
   },
   "source": [
    "### 3.2 permutations\n",
    "在上面的`produce`相似，去除了相同元素的组合，`permutations(seq, [n])`，也就是无放回且排列位置有关的排列组合。"
   ]
  },
  {
   "cell_type": "code",
   "execution_count": 6,
   "metadata": {
    "collapsed": false,
    "deletable": true,
    "editable": true
   },
   "outputs": [
    {
     "name": "stdout",
     "output_type": "stream",
     "text": [
      "('A', 'T')\n",
      "('A', 'C')\n",
      "('A', 'G')\n",
      "('T', 'A')\n",
      "('T', 'C')\n",
      "('T', 'G')\n",
      "('C', 'A')\n",
      "('C', 'T')\n",
      "('C', 'G')\n",
      "('G', 'A')\n",
      "('G', 'T')\n",
      "('G', 'C')\n"
     ]
    }
   ],
   "source": [
    "from itertools import permutations\n",
    "\n",
    "for i in permutations('ATCG', 2):\n",
    "    print i"
   ]
  },
  {
   "cell_type": "markdown",
   "metadata": {
    "deletable": true,
    "editable": true
   },
   "source": [
    "### 3.3 combinations\n",
    "和前一个`permutations`相比，不考虑排列顺序，把元素相同的组合去掉了，也就是不放回而且位置无关的排列组合（AT和TA只是一种组合，只保留其中一种）。"
   ]
  },
  {
   "cell_type": "code",
   "execution_count": 8,
   "metadata": {
    "collapsed": false,
    "deletable": true,
    "editable": true
   },
   "outputs": [
    {
     "name": "stdout",
     "output_type": "stream",
     "text": [
      "('A', 'T')\n",
      "('A', 'C')\n",
      "('A', 'G')\n",
      "('T', 'C')\n",
      "('T', 'G')\n",
      "('C', 'G')\n"
     ]
    }
   ],
   "source": [
    "from itertools import combinations\n",
    "\n",
    "for i in combinations('ATCG',2):\n",
    "    print i"
   ]
  },
  {
   "cell_type": "markdown",
   "metadata": {
    "deletable": true,
    "editable": true
   },
   "source": [
    "### 3.4 combinations_with_replacement\n",
    "这个是在原来的基础上，把相同元素的组合也保留下来"
   ]
  },
  {
   "cell_type": "code",
   "execution_count": 9,
   "metadata": {
    "collapsed": false,
    "deletable": true,
    "editable": true
   },
   "outputs": [
    {
     "name": "stdout",
     "output_type": "stream",
     "text": [
      "('A', 'A')\n",
      "('A', 'T')\n",
      "('A', 'C')\n",
      "('A', 'G')\n",
      "('T', 'T')\n",
      "('T', 'C')\n",
      "('T', 'G')\n",
      "('C', 'C')\n",
      "('C', 'G')\n",
      "('G', 'G')\n"
     ]
    }
   ],
   "source": [
    "from itertools import combinations_with_replacement\n",
    "\n",
    "for i in combinations_with_replacement('ATCG', 2):\n",
    "    print i"
   ]
  },
  {
   "cell_type": "markdown",
   "metadata": {
    "deletable": true,
    "editable": true
   },
   "source": [
    "## 4. 看看itertools在序列分析上能做些什么\n",
    "这里把之前在stackoverflow上看到的一些例子，抛砖引玉，让大家更好的理解itertools的用法。\n"
   ]
  },
  {
   "cell_type": "markdown",
   "metadata": {
    "deletable": true,
    "editable": true
   },
   "source": [
    "### 4.1 mismatch序列的集合\n",
    "[原贴地址](https://stackoverflow.com/questions/19822847/how-to-generate-all-strings-with-d-mismatches-python)，提问者想知道和原序列有N个碱基错配的所有序列，下面的代码添加了注释，加了打印过程变量，方便理解"
   ]
  },
  {
   "cell_type": "code",
   "execution_count": 16,
   "metadata": {
    "collapsed": true,
    "deletable": true,
    "editable": true
   },
   "outputs": [],
   "source": [
    "from itertools import combinations, product\n",
    "\n",
    "def generate(s, d=2):\n",
    "    N = len(s)\n",
    "    letters = 'ACGT'\n",
    "    pool = list(s)\n",
    "    \n",
    "    # 选出需要进行替换的碱基位置\n",
    "    for indices in combinations(range(N), d):\n",
    "        # 生成需要替换的碱基字母\n",
    "        for replacements in product(letters, repeat=d):\n",
    "            skip = False\n",
    "            for i, a in zip(indices, replacements):\n",
    "                # 如果是和原序列相同，就pass\n",
    "                if pool[i] == a: \n",
    "                    skip = True\n",
    "            if skip: \n",
    "                continue\n",
    "\n",
    "            keys = dict(zip(indices, replacements))\n",
    "            print 'keys',keys, indices\n",
    "            print ''.join([pool[i] if i not in indices else keys[i] \n",
    "                           for i in range(N)])"
   ]
  },
  {
   "cell_type": "code",
   "execution_count": null,
   "metadata": {
    "collapsed": true,
    "deletable": true,
    "editable": true
   },
   "outputs": [],
   "source": [
    "# 打印内容比较多，可自行运行看看\n",
    "generate('AACCGGTTT')"
   ]
  },
  {
   "cell_type": "markdown",
   "metadata": {
    "deletable": true,
    "editable": true
   },
   "source": [
    "### 4.2 含有兼并碱基DNA序列翻译成蛋白\n",
    "[帖子](https://stackoverflow.com/questions/27551921/how-to-extend-ambiguous-dna-sequence)，是想获得含有兼并碱基序列的所有可能序列，类似上面一个问题。"
   ]
  },
  {
   "cell_type": "code",
   "execution_count": 38,
   "metadata": {
    "collapsed": false,
    "deletable": true,
    "editable": true
   },
   "outputs": [
    {
     "name": "stdout",
     "output_type": "stream",
     "text": [
      "{'A': 'A', 'C': 'C', 'B': 'CGT', 'D': 'AGT', 'G': 'G', 'H': 'ACT', 'K': 'GT', 'M': 'AC', 'N': 'GATC', 'S': 'CG', 'R': 'AG', 'T': 'T', 'W': 'AT', 'V': 'ACG', 'Y': 'CT', 'X': 'GATC'}\n"
     ]
    }
   ],
   "source": [
    "from itertools import product\n",
    "# 导入biopython包\n",
    "from Bio import Seq\n",
    "\n",
    "# 获得各类兼并碱基字母的字典，也可以自己构建，就是麻烦些\n",
    "d = Seq.IUPAC.IUPACData.ambiguous_dna_values\n",
    "print d\n",
    "def extend_ambiguous_dna(seq):  \n",
    "   d = Seq.IUPAC.IUPACData.ambiguous_dna_values\n",
    "   return [ list(map(\"\".join, product(*map(d.get, seq)))) ]"
   ]
  },
  {
   "cell_type": "code",
   "execution_count": null,
   "metadata": {
    "collapsed": true,
    "deletable": true,
    "editable": true
   },
   "outputs": [],
   "source": [
    "extend_ambiguous_dna('AATCRVTAA')"
   ]
  },
  {
   "cell_type": "markdown",
   "metadata": {
    "deletable": true,
    "editable": true
   },
   "source": [
    "这里也只是简单找到几个示例来说明下itertools在处理生物信息问题上的用处，上面的例子也只是用了其中几个函数，还有其他函数的使用，也需要大家在实践过程当中根据具体问题，灵活运用，不过感觉要用好这几个工具，还是需要有相当的技巧的。另外贴上另一篇[博客](http://bpbio.blogspot.jp/2010/06/python-tools-for-bioinformatics-ii.html)，也是itertools在序列处理上的运用。\n",
    "\n",
    "## 参考\n",
    "+ [itertools， python packages document](https://docs.python.org/2/library/itertools.html#itertools.product)"
   ]
  }
 ],
 "metadata": {
  "kernelspec": {
   "display_name": "Python 2",
   "language": "python",
   "name": "python2"
  },
  "language_info": {
   "codemirror_mode": {
    "name": "ipython",
    "version": 2
   },
   "file_extension": ".py",
   "mimetype": "text/x-python",
   "name": "python",
   "nbconvert_exporter": "python",
   "pygments_lexer": "ipython2",
   "version": "2.7.12"
  }
 },
 "nbformat": 4,
 "nbformat_minor": 2
}
