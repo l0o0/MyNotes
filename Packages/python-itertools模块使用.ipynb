{
 "cells": [
  {
   "cell_type": "markdown",
   "metadata": {
    "deletable": true,
    "editable": true
   },
   "source": [
    "# itertools模块使用说明\n"
   ]
  },
  {
   "cell_type": "markdown",
   "metadata": {
    "deletable": true,
    "editable": true
   },
   "source": [
    "## 1. 无限迭代器\n",
    "这里讲的3个迭代器可以无限迭代，直到Python里面设置的最大迭代次数就会停止了。"
   ]
  },
  {
   "cell_type": "markdown",
   "metadata": {
    "deletable": true,
    "editable": true
   },
   "source": [
    "### 1.1 count\n",
    "默认情况下从0开始计数，每次加1，直到世界的尽头（Python中最大的sys.maxint-1），用法`count(start, [step])`。"
   ]
  },
  {
   "cell_type": "code",
   "execution_count": 3,
   "metadata": {
    "collapsed": false,
    "deletable": true,
    "editable": true
   },
   "outputs": [
    {
     "name": "stdout",
     "output_type": "stream",
     "text": [
      "0\n",
      "1\n",
      "2\n",
      "3\n",
      "4\n",
      "5\n",
      "6\n",
      "7\n",
      "8\n",
      "9\n",
      "10\n",
      "---------------\n",
      "6\n",
      "6.5\n",
      "7.0\n",
      "7.5\n",
      "8.0\n",
      "8.5\n",
      "9.0\n",
      "9.5\n",
      "10.0\n"
     ]
    }
   ],
   "source": [
    "from itertools import count\n",
    "# 不加参数使用默认参数\n",
    "for i in count():\n",
    "    if i > 10:\n",
    "        break\n",
    "    print i\n",
    "    \n",
    "print '-'*15\n",
    "# 添加起始和间隔步长\n",
    "for i in count(6,0.5):\n",
    "    if i > 10:\n",
    "        break\n",
    "    print i"
   ]
  },
  {
   "cell_type": "markdown",
   "metadata": {
    "deletable": true,
    "editable": true
   },
   "source": [
    "### 1.2 cycle\n",
    "无限循环函数，给定一个序列或字符等可以迭代的对象，可以一直循环输出，`cycle(seq)`"
   ]
  },
  {
   "cell_type": "code",
   "execution_count": 7,
   "metadata": {
    "collapsed": false,
    "deletable": true,
    "editable": true
   },
   "outputs": [
    {
     "name": "stdout",
     "output_type": "stream",
     "text": [
      "A\n",
      "T\n",
      "C\n",
      "G\n",
      "A\n",
      "T\n",
      "C\n",
      "G\n",
      "A\n",
      "T\n",
      "C\n"
     ]
    }
   ],
   "source": [
    "from itertools import cycle\n",
    "# 如果不加条件会一直循环下去\n",
    "n = 0\n",
    "for i in cycle('ATCG'):\n",
    "    if n > 10:\n",
    "        break\n",
    "    print i\n",
    "    n += 1"
   ]
  },
  {
   "cell_type": "markdown",
   "metadata": {
    "deletable": true,
    "editable": true
   },
   "source": [
    "### 1.3 repeat\n",
    "这个也是默认无限次重复，这里只重复一个元素,`repeat(element, [n])`后面的n可以用于指定重复的次数"
   ]
  },
  {
   "cell_type": "code",
   "execution_count": 8,
   "metadata": {
    "collapsed": false,
    "deletable": true,
    "editable": true
   },
   "outputs": [
    {
     "name": "stdout",
     "output_type": "stream",
     "text": [
      "A\n",
      "A\n",
      "A\n",
      "A\n",
      "A\n"
     ]
    }
   ],
   "source": [
    "from itertools import repeat\n",
    "\n",
    "for i in repeat('A', 5):\n",
    "    print i"
   ]
  },
  {
   "cell_type": "markdown",
   "metadata": {
    "deletable": true,
    "editable": true
   },
   "source": [
    "## 2. 短序列上的迭代\n",
    "下面的函数都是在有限序列上进行迭代操作，功能还是很有意思的。"
   ]
  },
  {
   "cell_type": "markdown",
   "metadata": {
    "deletable": true,
    "editable": true
   },
   "source": [
    "### 2.1 chain\n",
    "从第一个可迭代的对象开始，一个接一个的迭代下去，`chain(*iterables)`。不明白**\\***用法的，可以复习下函数里面参数那一部分内容。"
   ]
  },
  {
   "cell_type": "code",
   "execution_count": 9,
   "metadata": {
    "collapsed": false,
    "deletable": true,
    "editable": true
   },
   "outputs": [
    {
     "name": "stdout",
     "output_type": "stream",
     "text": [
      "A\n",
      "T\n",
      "C\n",
      "G\n",
      "1\n",
      "2\n",
      "3\n",
      "4\n"
     ]
    }
   ],
   "source": [
    "from itertools import chain\n",
    "\n",
    "for i in chain('ATCG','1234'):\n",
    "    print i"
   ]
  },
  {
   "cell_type": "markdown",
   "metadata": {
    "deletable": true,
    "editable": true
   },
   "source": [
    "### 2.2 compress\n",
    "compress也就是压缩的意思，就是把不必要的东西过滤掉，过滤的时候需要指定一个选择器来进行选择。`compress(data, selector)`，需要指定一个数据和selector, selector和data之间的长度可以不一样。相当于每次进行一次判断，如果selector里面该位置的值为**True**，data中对应位置的值就保留下来。"
   ]
  },
  {
   "cell_type": "code",
   "execution_count": 14,
   "metadata": {
    "collapsed": false,
    "deletable": true,
    "editable": true
   },
   "outputs": [
    {
     "name": "stdout",
     "output_type": "stream",
     "text": [
      "['T', 'G']\n",
      "['T', 'G', 'G']\n"
     ]
    }
   ],
   "source": [
    "from itertools import compress\n",
    "\n",
    "data = 'ATG'\n",
    "selector = [0,1,2,'',3,1,0]\n",
    "print list(compress(data, selector))\n",
    "\n",
    "data = 'ATGCGTAGT'\n",
    "selector = [0,1,2,'',1]\n",
    "print list(compress(data, selector))"
   ]
  },
  {
   "cell_type": "markdown",
   "metadata": {},
   "source": [
    "### 2.3 dropwhile\n",
    "看字面上的意思，是指while <某个条件>的时候，把相关元素drop了。`dropwhile(predicate, iterable)`， predicate可以是某个表达式用于iterable中输入值的判断，会把前面判断为True的结果都去掉，直到出现False，同时后面的元素不管判断结果是True或False都返回。"
   ]
  },
  {
   "cell_type": "code",
   "execution_count": 4,
   "metadata": {
    "collapsed": false
   },
   "outputs": [
    {
     "name": "stdout",
     "output_type": "stream",
     "text": [
      "4\n",
      "2\n",
      "1\n"
     ]
    }
   ],
   "source": [
    "from itertools import dropwhile\n",
    "for i in dropwhile(lambda x : x<4, [1,2,3,2,4,2,1]):\n",
    "    print i"
   ]
  },
  {
   "cell_type": "markdown",
   "metadata": {},
   "source": [
    "### 2.4 groupby\n",
    "根据提供的keyfunction，把每个元素通过keyfunction得到一个key值，按照key值进行分组，一般来说在进行处理前，数据需要进行排序。`groupby(data, keyfunction)`，下面根据这个方法，区分奇偶数"
   ]
  },
  {
   "cell_type": "code",
   "execution_count": 13,
   "metadata": {
    "collapsed": false
   },
   "outputs": [
    {
     "name": "stdout",
     "output_type": "stream",
     "text": [
      "0 [0]\n",
      "1 [1]\n",
      "0 [2]\n",
      "1 [3]\n",
      "0 [4]\n",
      "1 [5]\n",
      "0 [6]\n",
      "1 [7]\n",
      "0 [8]\n",
      "1 [9]\n"
     ]
    }
   ],
   "source": [
    "from itertools import groupby\n",
    "\n",
    "data = range(10)\n",
    "for k,v in groupby(data, lambda x: x%2):\n",
    "    print k,list(v)"
   ]
  },
  {
   "cell_type": "markdown",
   "metadata": {},
   "source": [
    "上面的结果虽然给出了奇偶数，可是还是不能把数字按照奇偶分成两组，我们可以先把数组按照奇偶进行排序，然后再用`groupby`"
   ]
  },
  {
   "cell_type": "code",
   "execution_count": 17,
   "metadata": {
    "collapsed": false
   },
   "outputs": [
    {
     "name": "stdout",
     "output_type": "stream",
     "text": [
      "[0, 2, 4, 6, 8, 1, 3, 5, 7, 9]\n",
      "even, 0,2,4,6,8\n",
      "odd, 1,3,5,7,9\n"
     ]
    }
   ],
   "source": [
    "f = lambda x: 'even' if x%2 == 0 else 'odd'\n",
    "data = range(10)\n",
    "data_sorted = sorted(data, key=f)\n",
    "print data_sorted    # 按照奇偶进行排序\n",
    "\n",
    "for k,v in groupby(data_sorted, f):\n",
    "    print '%s, %s' % (k, ','.join(map(str,v)))"
   ]
  },
  {
   "cell_type": "markdown",
   "metadata": {
    "deletable": true,
    "editable": true
   },
   "source": [
    "## 3. 排列组合"
   ]
  },
  {
   "cell_type": "markdown",
   "metadata": {},
   "source": [
    "### 参考：\n",
    "1. [iteretools文档](https://docs.python.org/2/library/itertools.html)"
   ]
  }
 ],
 "metadata": {
  "kernelspec": {
   "display_name": "Python 2",
   "language": "python",
   "name": "python2"
  },
  "language_info": {
   "codemirror_mode": {
    "name": "ipython",
    "version": 2
   },
   "file_extension": ".py",
   "mimetype": "text/x-python",
   "name": "python",
   "nbconvert_exporter": "python",
   "pygments_lexer": "ipython2",
   "version": "2.7.12"
  }
 },
 "nbformat": 4,
 "nbformat_minor": 2
}
