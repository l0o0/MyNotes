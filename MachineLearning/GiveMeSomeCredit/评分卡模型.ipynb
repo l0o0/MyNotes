{
 "cells": [
  {
   "cell_type": "code",
   "execution_count": 1,
   "metadata": {},
   "outputs": [],
   "source": [
    "import pandas as pd"
   ]
  },
  {
   "cell_type": "code",
   "execution_count": 2,
   "metadata": {},
   "outputs": [
    {
     "name": "stdout",
     "output_type": "stream",
     "text": [
      "Test data shape:  (101503, 12)\n",
      "Training data shape:  (150000, 12)\n"
     ]
    }
   ],
   "source": [
    "# 读取数据文件  \n",
    "\n",
    "test = pd.read_csv('cs-test.csv')\n",
    "train = pd.read_csv('cs-training.csv')\n",
    "print \"Test data shape: \", test.shape\n",
    "print \"Training data shape: \", train.shape"
   ]
  },
  {
   "cell_type": "code",
   "execution_count": 3,
   "metadata": {
    "scrolled": true
   },
   "outputs": [
    {
     "data": {
      "text/html": [
       "<div>\n",
       "<style scoped>\n",
       "    .dataframe tbody tr th:only-of-type {\n",
       "        vertical-align: middle;\n",
       "    }\n",
       "\n",
       "    .dataframe tbody tr th {\n",
       "        vertical-align: top;\n",
       "    }\n",
       "\n",
       "    .dataframe thead th {\n",
       "        text-align: right;\n",
       "    }\n",
       "</style>\n",
       "<table border=\"1\" class=\"dataframe\">\n",
       "  <thead>\n",
       "    <tr style=\"text-align: right;\">\n",
       "      <th></th>\n",
       "      <th>Unnamed: 0</th>\n",
       "      <th>SeriousDlqin2yrs</th>\n",
       "      <th>RevolvingUtilizationOfUnsecuredLines</th>\n",
       "      <th>age</th>\n",
       "      <th>NumberOfTime30-59DaysPastDueNotWorse</th>\n",
       "      <th>DebtRatio</th>\n",
       "      <th>MonthlyIncome</th>\n",
       "      <th>NumberOfOpenCreditLinesAndLoans</th>\n",
       "      <th>NumberOfTimes90DaysLate</th>\n",
       "      <th>NumberRealEstateLoansOrLines</th>\n",
       "      <th>NumberOfTime60-89DaysPastDueNotWorse</th>\n",
       "      <th>NumberOfDependents</th>\n",
       "    </tr>\n",
       "  </thead>\n",
       "  <tbody>\n",
       "    <tr>\n",
       "      <th>0</th>\n",
       "      <td>1</td>\n",
       "      <td>NaN</td>\n",
       "      <td>0.885519</td>\n",
       "      <td>43</td>\n",
       "      <td>0</td>\n",
       "      <td>0.177513</td>\n",
       "      <td>5700.0</td>\n",
       "      <td>4</td>\n",
       "      <td>0</td>\n",
       "      <td>0</td>\n",
       "      <td>0</td>\n",
       "      <td>0.0</td>\n",
       "    </tr>\n",
       "    <tr>\n",
       "      <th>1</th>\n",
       "      <td>2</td>\n",
       "      <td>NaN</td>\n",
       "      <td>0.463295</td>\n",
       "      <td>57</td>\n",
       "      <td>0</td>\n",
       "      <td>0.527237</td>\n",
       "      <td>9141.0</td>\n",
       "      <td>15</td>\n",
       "      <td>0</td>\n",
       "      <td>4</td>\n",
       "      <td>0</td>\n",
       "      <td>2.0</td>\n",
       "    </tr>\n",
       "    <tr>\n",
       "      <th>2</th>\n",
       "      <td>3</td>\n",
       "      <td>NaN</td>\n",
       "      <td>0.043275</td>\n",
       "      <td>59</td>\n",
       "      <td>0</td>\n",
       "      <td>0.687648</td>\n",
       "      <td>5083.0</td>\n",
       "      <td>12</td>\n",
       "      <td>0</td>\n",
       "      <td>1</td>\n",
       "      <td>0</td>\n",
       "      <td>2.0</td>\n",
       "    </tr>\n",
       "    <tr>\n",
       "      <th>3</th>\n",
       "      <td>4</td>\n",
       "      <td>NaN</td>\n",
       "      <td>0.280308</td>\n",
       "      <td>38</td>\n",
       "      <td>1</td>\n",
       "      <td>0.925961</td>\n",
       "      <td>3200.0</td>\n",
       "      <td>7</td>\n",
       "      <td>0</td>\n",
       "      <td>2</td>\n",
       "      <td>0</td>\n",
       "      <td>0.0</td>\n",
       "    </tr>\n",
       "    <tr>\n",
       "      <th>4</th>\n",
       "      <td>5</td>\n",
       "      <td>NaN</td>\n",
       "      <td>1.000000</td>\n",
       "      <td>27</td>\n",
       "      <td>0</td>\n",
       "      <td>0.019917</td>\n",
       "      <td>3865.0</td>\n",
       "      <td>4</td>\n",
       "      <td>0</td>\n",
       "      <td>0</td>\n",
       "      <td>0</td>\n",
       "      <td>1.0</td>\n",
       "    </tr>\n",
       "  </tbody>\n",
       "</table>\n",
       "</div>"
      ],
      "text/plain": [
       "   Unnamed: 0  SeriousDlqin2yrs  RevolvingUtilizationOfUnsecuredLines  age  \\\n",
       "0           1               NaN                              0.885519   43   \n",
       "1           2               NaN                              0.463295   57   \n",
       "2           3               NaN                              0.043275   59   \n",
       "3           4               NaN                              0.280308   38   \n",
       "4           5               NaN                              1.000000   27   \n",
       "\n",
       "   NumberOfTime30-59DaysPastDueNotWorse  DebtRatio  MonthlyIncome  \\\n",
       "0                                     0   0.177513         5700.0   \n",
       "1                                     0   0.527237         9141.0   \n",
       "2                                     0   0.687648         5083.0   \n",
       "3                                     1   0.925961         3200.0   \n",
       "4                                     0   0.019917         3865.0   \n",
       "\n",
       "   NumberOfOpenCreditLinesAndLoans  NumberOfTimes90DaysLate  \\\n",
       "0                                4                        0   \n",
       "1                               15                        0   \n",
       "2                               12                        0   \n",
       "3                                7                        0   \n",
       "4                                4                        0   \n",
       "\n",
       "   NumberRealEstateLoansOrLines  NumberOfTime60-89DaysPastDueNotWorse  \\\n",
       "0                             0                                     0   \n",
       "1                             4                                     0   \n",
       "2                             1                                     0   \n",
       "3                             2                                     0   \n",
       "4                             0                                     0   \n",
       "\n",
       "   NumberOfDependents  \n",
       "0                 0.0  \n",
       "1                 2.0  \n",
       "2                 2.0  \n",
       "3                 0.0  \n",
       "4                 1.0  "
      ]
     },
     "metadata": {},
     "output_type": "display_data"
    },
    {
     "name": "stdout",
     "output_type": "stream",
     "text": [
      "- - - - - - - - - - - - - - - - - - - - - - - - - - - - - - - - - - - - - - - - \n"
     ]
    },
    {
     "data": {
      "text/html": [
       "<div>\n",
       "<style scoped>\n",
       "    .dataframe tbody tr th:only-of-type {\n",
       "        vertical-align: middle;\n",
       "    }\n",
       "\n",
       "    .dataframe tbody tr th {\n",
       "        vertical-align: top;\n",
       "    }\n",
       "\n",
       "    .dataframe thead th {\n",
       "        text-align: right;\n",
       "    }\n",
       "</style>\n",
       "<table border=\"1\" class=\"dataframe\">\n",
       "  <thead>\n",
       "    <tr style=\"text-align: right;\">\n",
       "      <th></th>\n",
       "      <th>Unnamed: 0</th>\n",
       "      <th>SeriousDlqin2yrs</th>\n",
       "      <th>RevolvingUtilizationOfUnsecuredLines</th>\n",
       "      <th>age</th>\n",
       "      <th>NumberOfTime30-59DaysPastDueNotWorse</th>\n",
       "      <th>DebtRatio</th>\n",
       "      <th>MonthlyIncome</th>\n",
       "      <th>NumberOfOpenCreditLinesAndLoans</th>\n",
       "      <th>NumberOfTimes90DaysLate</th>\n",
       "      <th>NumberRealEstateLoansOrLines</th>\n",
       "      <th>NumberOfTime60-89DaysPastDueNotWorse</th>\n",
       "      <th>NumberOfDependents</th>\n",
       "    </tr>\n",
       "  </thead>\n",
       "  <tbody>\n",
       "    <tr>\n",
       "      <th>0</th>\n",
       "      <td>1</td>\n",
       "      <td>1</td>\n",
       "      <td>0.766127</td>\n",
       "      <td>45</td>\n",
       "      <td>2</td>\n",
       "      <td>0.802982</td>\n",
       "      <td>9120.0</td>\n",
       "      <td>13</td>\n",
       "      <td>0</td>\n",
       "      <td>6</td>\n",
       "      <td>0</td>\n",
       "      <td>2.0</td>\n",
       "    </tr>\n",
       "    <tr>\n",
       "      <th>1</th>\n",
       "      <td>2</td>\n",
       "      <td>0</td>\n",
       "      <td>0.957151</td>\n",
       "      <td>40</td>\n",
       "      <td>0</td>\n",
       "      <td>0.121876</td>\n",
       "      <td>2600.0</td>\n",
       "      <td>4</td>\n",
       "      <td>0</td>\n",
       "      <td>0</td>\n",
       "      <td>0</td>\n",
       "      <td>1.0</td>\n",
       "    </tr>\n",
       "    <tr>\n",
       "      <th>2</th>\n",
       "      <td>3</td>\n",
       "      <td>0</td>\n",
       "      <td>0.658180</td>\n",
       "      <td>38</td>\n",
       "      <td>1</td>\n",
       "      <td>0.085113</td>\n",
       "      <td>3042.0</td>\n",
       "      <td>2</td>\n",
       "      <td>1</td>\n",
       "      <td>0</td>\n",
       "      <td>0</td>\n",
       "      <td>0.0</td>\n",
       "    </tr>\n",
       "    <tr>\n",
       "      <th>3</th>\n",
       "      <td>4</td>\n",
       "      <td>0</td>\n",
       "      <td>0.233810</td>\n",
       "      <td>30</td>\n",
       "      <td>0</td>\n",
       "      <td>0.036050</td>\n",
       "      <td>3300.0</td>\n",
       "      <td>5</td>\n",
       "      <td>0</td>\n",
       "      <td>0</td>\n",
       "      <td>0</td>\n",
       "      <td>0.0</td>\n",
       "    </tr>\n",
       "    <tr>\n",
       "      <th>4</th>\n",
       "      <td>5</td>\n",
       "      <td>0</td>\n",
       "      <td>0.907239</td>\n",
       "      <td>49</td>\n",
       "      <td>1</td>\n",
       "      <td>0.024926</td>\n",
       "      <td>63588.0</td>\n",
       "      <td>7</td>\n",
       "      <td>0</td>\n",
       "      <td>1</td>\n",
       "      <td>0</td>\n",
       "      <td>0.0</td>\n",
       "    </tr>\n",
       "  </tbody>\n",
       "</table>\n",
       "</div>"
      ],
      "text/plain": [
       "   Unnamed: 0  SeriousDlqin2yrs  RevolvingUtilizationOfUnsecuredLines  age  \\\n",
       "0           1                 1                              0.766127   45   \n",
       "1           2                 0                              0.957151   40   \n",
       "2           3                 0                              0.658180   38   \n",
       "3           4                 0                              0.233810   30   \n",
       "4           5                 0                              0.907239   49   \n",
       "\n",
       "   NumberOfTime30-59DaysPastDueNotWorse  DebtRatio  MonthlyIncome  \\\n",
       "0                                     2   0.802982         9120.0   \n",
       "1                                     0   0.121876         2600.0   \n",
       "2                                     1   0.085113         3042.0   \n",
       "3                                     0   0.036050         3300.0   \n",
       "4                                     1   0.024926        63588.0   \n",
       "\n",
       "   NumberOfOpenCreditLinesAndLoans  NumberOfTimes90DaysLate  \\\n",
       "0                               13                        0   \n",
       "1                                4                        0   \n",
       "2                                2                        1   \n",
       "3                                5                        0   \n",
       "4                                7                        0   \n",
       "\n",
       "   NumberRealEstateLoansOrLines  NumberOfTime60-89DaysPastDueNotWorse  \\\n",
       "0                             6                                     0   \n",
       "1                             0                                     0   \n",
       "2                             0                                     0   \n",
       "3                             0                                     0   \n",
       "4                             1                                     0   \n",
       "\n",
       "   NumberOfDependents  \n",
       "0                 2.0  \n",
       "1                 1.0  \n",
       "2                 0.0  \n",
       "3                 0.0  \n",
       "4                 0.0  "
      ]
     },
     "metadata": {},
     "output_type": "display_data"
    }
   ],
   "source": [
    "# test数据中没有SeriousDlqin2yrs的值  \n",
    "\n",
    "display(test.head())\n",
    "print '- - ' * 20\n",
    "display(train.head())"
   ]
  },
  {
   "cell_type": "code",
   "execution_count": 4,
   "metadata": {
    "scrolled": false
   },
   "outputs": [
    {
     "data": {
      "text/html": [
       "<div>\n",
       "<style scoped>\n",
       "    .dataframe tbody tr th:only-of-type {\n",
       "        vertical-align: middle;\n",
       "    }\n",
       "\n",
       "    .dataframe tbody tr th {\n",
       "        vertical-align: top;\n",
       "    }\n",
       "\n",
       "    .dataframe thead th {\n",
       "        text-align: right;\n",
       "    }\n",
       "</style>\n",
       "<table border=\"1\" class=\"dataframe\">\n",
       "  <thead>\n",
       "    <tr style=\"text-align: right;\">\n",
       "      <th></th>\n",
       "      <th>Variable Name</th>\n",
       "      <th>Description</th>\n",
       "      <th>Type</th>\n",
       "    </tr>\n",
       "  </thead>\n",
       "  <tbody>\n",
       "    <tr>\n",
       "      <th>0</th>\n",
       "      <td>SeriousDlqin2yrs</td>\n",
       "      <td>Person experienced 90 days past due delinquenc...</td>\n",
       "      <td>Y/N</td>\n",
       "    </tr>\n",
       "    <tr>\n",
       "      <th>1</th>\n",
       "      <td>RevolvingUtilizationOfUnsecuredLines</td>\n",
       "      <td>Total balance on credit cards and personal lin...</td>\n",
       "      <td>percentage</td>\n",
       "    </tr>\n",
       "    <tr>\n",
       "      <th>2</th>\n",
       "      <td>age</td>\n",
       "      <td>Age of borrower in years</td>\n",
       "      <td>integer</td>\n",
       "    </tr>\n",
       "    <tr>\n",
       "      <th>3</th>\n",
       "      <td>NumberOfTime30-59DaysPastDueNotWorse</td>\n",
       "      <td>Number of times borrower has been 30-59 days p...</td>\n",
       "      <td>integer</td>\n",
       "    </tr>\n",
       "    <tr>\n",
       "      <th>4</th>\n",
       "      <td>DebtRatio</td>\n",
       "      <td>Monthly debt payments, alimony,living costs di...</td>\n",
       "      <td>percentage</td>\n",
       "    </tr>\n",
       "    <tr>\n",
       "      <th>5</th>\n",
       "      <td>MonthlyIncome</td>\n",
       "      <td>Monthly income</td>\n",
       "      <td>real</td>\n",
       "    </tr>\n",
       "    <tr>\n",
       "      <th>6</th>\n",
       "      <td>NumberOfOpenCreditLinesAndLoans</td>\n",
       "      <td>Number of Open loans (installment like car loa...</td>\n",
       "      <td>integer</td>\n",
       "    </tr>\n",
       "    <tr>\n",
       "      <th>7</th>\n",
       "      <td>NumberOfTimes90DaysLate</td>\n",
       "      <td>Number of times borrower has been 90 days or m...</td>\n",
       "      <td>integer</td>\n",
       "    </tr>\n",
       "    <tr>\n",
       "      <th>8</th>\n",
       "      <td>NumberRealEstateLoansOrLines</td>\n",
       "      <td>Number of mortgage and real estate loans inclu...</td>\n",
       "      <td>integer</td>\n",
       "    </tr>\n",
       "    <tr>\n",
       "      <th>9</th>\n",
       "      <td>NumberOfTime60-89DaysPastDueNotWorse</td>\n",
       "      <td>Number of times borrower has been 60-89 days p...</td>\n",
       "      <td>integer</td>\n",
       "    </tr>\n",
       "    <tr>\n",
       "      <th>10</th>\n",
       "      <td>NumberOfDependents</td>\n",
       "      <td>Number of dependents in family excluding thems...</td>\n",
       "      <td>integer</td>\n",
       "    </tr>\n",
       "  </tbody>\n",
       "</table>\n",
       "</div>"
      ],
      "text/plain": [
       "                           Variable Name  \\\n",
       "0                       SeriousDlqin2yrs   \n",
       "1   RevolvingUtilizationOfUnsecuredLines   \n",
       "2                                    age   \n",
       "3   NumberOfTime30-59DaysPastDueNotWorse   \n",
       "4                              DebtRatio   \n",
       "5                          MonthlyIncome   \n",
       "6        NumberOfOpenCreditLinesAndLoans   \n",
       "7                NumberOfTimes90DaysLate   \n",
       "8           NumberRealEstateLoansOrLines   \n",
       "9   NumberOfTime60-89DaysPastDueNotWorse   \n",
       "10                    NumberOfDependents   \n",
       "\n",
       "                                          Description        Type  \n",
       "0   Person experienced 90 days past due delinquenc...         Y/N  \n",
       "1   Total balance on credit cards and personal lin...  percentage  \n",
       "2                            Age of borrower in years     integer  \n",
       "3   Number of times borrower has been 30-59 days p...     integer  \n",
       "4   Monthly debt payments, alimony,living costs di...  percentage  \n",
       "5                                      Monthly income        real  \n",
       "6   Number of Open loans (installment like car loa...     integer  \n",
       "7   Number of times borrower has been 90 days or m...     integer  \n",
       "8   Number of mortgage and real estate loans inclu...     integer  \n",
       "9   Number of times borrower has been 60-89 days p...     integer  \n",
       "10  Number of dependents in family excluding thems...     integer  "
      ]
     },
     "metadata": {},
     "output_type": "display_data"
    }
   ],
   "source": [
    "# cs_train 和 cs_test 中表头含义的说明\n",
    "datatype = pd.read_excel('Data Dictionary.xls')\n",
    "display(datatype)"
   ]
  },
  {
   "cell_type": "markdown",
   "metadata": {},
   "source": [
    "## 数据类别的划分\n",
    "\n",
    "1. 基本属性：age（年龄）\n",
    "2. 财产状况：NumberOfOpenCreditLinesAndLoans（开放式贷款和信贷），NumberRealEstateLoansOrLines（不动产抵押贷款或房屋将会信贷额度）\n",
    "3. 信用状况：NumberOfTimes90DaysLate（逾期>=90天），NumberOfTime60-89DaysPastDueNotWorse（逾期60-89天的次数），NumberOfTime30-59DaysPastDueNotWorse（逾期30-59天的次数）\n",
    "4. 偿还能力：MonthlyIncome（月收入），DebtRatio（负债率）\n",
    "5. 其他因素：NumberOfDependents（家属数量）\n",
    "\n",
    "其中**SeriousDlqin2yrs**应该是我们需要进行预测的**y**值，其他数据属于基本变量。"
   ]
  },
  {
   "cell_type": "code",
   "execution_count": 5,
   "metadata": {},
   "outputs": [],
   "source": [
    "import seaborn as sns\n",
    "%matplotlib inline"
   ]
  },
  {
   "cell_type": "code",
   "execution_count": 7,
   "metadata": {},
   "outputs": [
    {
     "data": {
      "image/png": "[encoded data removed]",
      "text/plain": [
       "<matplotlib.figure.Figure at 0x7f78fa893750>"
      ]
     },
     "metadata": {},
     "output_type": "display_data"
    }
   ],
   "source": [
    "sns.set_style(\"whitegrid\")\n",
    "tips = sns.load_dataset(\"tips\")\n",
    "ax = sns.boxplot(x=tips[\"day\"], y=tips['total_bill'])"
   ]
  },
  {
   "cell_type": "code",
   "execution_count": 8,
   "metadata": {},
   "outputs": [
    {
     "data": {
      "text/html": [
       "<div>\n",
       "<style scoped>\n",
       "    .dataframe tbody tr th:only-of-type {\n",
       "        vertical-align: middle;\n",
       "    }\n",
       "\n",
       "    .dataframe tbody tr th {\n",
       "        vertical-align: top;\n",
       "    }\n",
       "\n",
       "    .dataframe thead th {\n",
       "        text-align: right;\n",
       "    }\n",
       "</style>\n",
       "<table border=\"1\" class=\"dataframe\">\n",
       "  <thead>\n",
       "    <tr style=\"text-align: right;\">\n",
       "      <th></th>\n",
       "      <th>total_bill</th>\n",
       "      <th>tip</th>\n",
       "      <th>sex</th>\n",
       "      <th>smoker</th>\n",
       "      <th>day</th>\n",
       "      <th>time</th>\n",
       "      <th>size</th>\n",
       "    </tr>\n",
       "  </thead>\n",
       "  <tbody>\n",
       "    <tr>\n",
       "      <th>0</th>\n",
       "      <td>16.99</td>\n",
       "      <td>1.01</td>\n",
       "      <td>Female</td>\n",
       "      <td>No</td>\n",
       "      <td>Sun</td>\n",
       "      <td>Dinner</td>\n",
       "      <td>2</td>\n",
       "    </tr>\n",
       "    <tr>\n",
       "      <th>1</th>\n",
       "      <td>10.34</td>\n",
       "      <td>1.66</td>\n",
       "      <td>Male</td>\n",
       "      <td>No</td>\n",
       "      <td>Sun</td>\n",
       "      <td>Dinner</td>\n",
       "      <td>3</td>\n",
       "    </tr>\n",
       "    <tr>\n",
       "      <th>2</th>\n",
       "      <td>21.01</td>\n",
       "      <td>3.50</td>\n",
       "      <td>Male</td>\n",
       "      <td>No</td>\n",
       "      <td>Sun</td>\n",
       "      <td>Dinner</td>\n",
       "      <td>3</td>\n",
       "    </tr>\n",
       "    <tr>\n",
       "      <th>3</th>\n",
       "      <td>23.68</td>\n",
       "      <td>3.31</td>\n",
       "      <td>Male</td>\n",
       "      <td>No</td>\n",
       "      <td>Sun</td>\n",
       "      <td>Dinner</td>\n",
       "      <td>2</td>\n",
       "    </tr>\n",
       "    <tr>\n",
       "      <th>4</th>\n",
       "      <td>24.59</td>\n",
       "      <td>3.61</td>\n",
       "      <td>Female</td>\n",
       "      <td>No</td>\n",
       "      <td>Sun</td>\n",
       "      <td>Dinner</td>\n",
       "      <td>4</td>\n",
       "    </tr>\n",
       "  </tbody>\n",
       "</table>\n",
       "</div>"
      ],
      "text/plain": [
       "   total_bill   tip     sex smoker  day    time  size\n",
       "0       16.99  1.01  Female     No  Sun  Dinner     2\n",
       "1       10.34  1.66    Male     No  Sun  Dinner     3\n",
       "2       21.01  3.50    Male     No  Sun  Dinner     3\n",
       "3       23.68  3.31    Male     No  Sun  Dinner     2\n",
       "4       24.59  3.61  Female     No  Sun  Dinner     4"
      ]
     },
     "metadata": {},
     "output_type": "display_data"
    }
   ],
   "source": [
    "display(tips.head())"
   ]
  },
  {
   "cell_type": "markdown",
   "metadata": {},
   "source": [
    "## 1. 缺失值的处理\n",
    "\n",
    "首先观察一下Train数据集中各行中缺失值的比例"
   ]
  },
  {
   "cell_type": "code",
   "execution_count": 8,
   "metadata": {},
   "outputs": [],
   "source": [
    "import numpy as np\n",
    "# 去除序列号列\n",
    "train = train.drop('Unnamed: 0', axis=1)"
   ]
  },
  {
   "cell_type": "code",
   "execution_count": 7,
   "metadata": {
    "scrolled": true
   },
   "outputs": [
    {
     "name": "stdout",
     "output_type": "stream",
     "text": [
      "SeriousDlqin2yrs\tNAN: 0, ratio:0.00%\n",
      "RevolvingUtilizationOfUnsecuredLines\tNAN: 0, ratio:0.00%\n",
      "age\tNAN: 0, ratio:0.00%\n",
      "NumberOfTime30-59DaysPastDueNotWorse\tNAN: 0, ratio:0.00%\n",
      "DebtRatio\tNAN: 0, ratio:0.00%\n",
      "MonthlyIncome\tNAN: 29731, ratio:19.82%\n",
      "NumberOfOpenCreditLinesAndLoans\tNAN: 0, ratio:0.00%\n",
      "NumberOfTimes90DaysLate\tNAN: 0, ratio:0.00%\n",
      "NumberRealEstateLoansOrLines\tNAN: 0, ratio:0.00%\n",
      "NumberOfTime60-89DaysPastDueNotWorse\tNAN: 0, ratio:0.00%\n",
      "NumberOfDependents\tNAN: 3924, ratio:2.62%\n"
     ]
    }
   ],
   "source": [
    "# 统计每列数据中NAN值的比例\n",
    "for col in train.columns:\n",
    "    nanCount = np.count_nonzero(np.isnan(train[col]))\n",
    "    print \"%s\\tNAN: %s, ratio:%.2f%%\" %(col, nanCount, nanCount/150000.0*100)"
   ]
  },
  {
   "cell_type": "markdown",
   "metadata": {},
   "source": [
    "可以看到在**MonthlyIncome**和**NumberOfDependents**存在缺失，分别有29731和3924个，其中MonthlyIncome缺失比例比较大。缺失值的处理方法有基于聚类，基于回归，基于均值，去除等。因为这里所占的比例比较大，不能简单的去除。这里借助`fancyimpute`中的KNN方法，对缺失值进行补全。"
   ]
  },
  {
   "cell_type": "code",
   "execution_count": 8,
   "metadata": {},
   "outputs": [],
   "source": [
    "from fancyimpute import KNN\n",
    "\n",
    "# 没有必要对字符型数据进行过滤\n",
    "#tmpNum = train.select_dtypes(include=[np.float])\n",
    "#print tmpNum.shape, tmpNum.columns\n",
    "newList = [KNN(k=5, verbose=False).complete(x) for x in np.array_split(train, 15)]\n"
   ]
  },
  {
   "cell_type": "code",
   "execution_count": 9,
   "metadata": {},
   "outputs": [],
   "source": [
    "train_filled = np.concatenate(newList)"
   ]
  },
  {
   "cell_type": "code",
   "execution_count": 9,
   "metadata": {},
   "outputs": [],
   "source": [
    "# 将缺失值实例的结果保存到文件中\n",
    "#np.savetxt('train_filled.txt', train_filled, header=' '.join(train.columns.tolist()))\n",
    "train_filled = np.loadtxt('train_filled.txt')"
   ]
  },
  {
   "cell_type": "markdown",
   "metadata": {},
   "source": [
    "## 2. 变量分析"
   ]
  },
  {
   "cell_type": "code",
   "execution_count": 10,
   "metadata": {},
   "outputs": [
    {
     "name": "stdout",
     "output_type": "stream",
     "text": [
      "(150000, 11)\n"
     ]
    }
   ],
   "source": [
    "print train_filled.shape"
   ]
  },
  {
   "cell_type": "code",
   "execution_count": 11,
   "metadata": {},
   "outputs": [
    {
     "data": {
      "text/plain": [
       "<matplotlib.axes._subplots.AxesSubplot at 0x7f34250f5e10>"
      ]
     },
     "execution_count": 11,
     "metadata": {},
     "output_type": "execute_result"
    },
    {
     "data": {
      "image/png": "[encoded data removed]",
      "text/plain": [
       "<matplotlib.figure.Figure at 0x7f34250f5910>"
      ]
     },
     "metadata": {},
     "output_type": "display_data"
    }
   ],
   "source": [
    "# 对年龄分布进行统计\n",
    "sns.distplot(train_filled[:,2])"
   ]
  },
  {
   "cell_type": "code",
   "execution_count": 155,
   "metadata": {},
   "outputs": [
    {
     "data": {
      "text/plain": [
       "<matplotlib.axes._subplots.AxesSubplot at 0x7f2845065110>"
      ]
     },
     "execution_count": 155,
     "metadata": {},
     "output_type": "execute_result"
    },
    {
     "data": {
      "image/png": "[encoded data removed]",
      "text/plain": [
       "<matplotlib.figure.Figure at 0x7f28451dac10>"
      ]
     },
     "metadata": {},
     "output_type": "display_data"
    }
   ],
   "source": [
    "# 月收分布\n",
    "sns.distplot(train_filled[:,5])"
   ]
  },
  {
   "cell_type": "code",
   "execution_count": 52,
   "metadata": {},
   "outputs": [
    {
     "data": {
      "text/plain": [
       "<matplotlib.axes._subplots.AxesSubplot at 0x7f0cd11c0b90>"
      ]
     },
     "execution_count": 52,
     "metadata": {},
     "output_type": "execute_result"
    },
    {
     "data": {
      "image/png": "[encoded data removed]",
      "text/plain": [
       "<matplotlib.figure.Figure at 0x7f0cd760d590>"
      ]
     },
     "metadata": {},
     "output_type": "display_data"
    }
   ],
   "source": [
    "# 月收入在0-20000之间的分布\n",
    "sns.distplot(train_filled[train_filled[:,4] < 20000,4])"
   ]
  },
  {
   "cell_type": "markdown",
   "metadata": {},
   "source": [
    "异常值的处理"
   ]
  },
  {
   "cell_type": "code",
   "execution_count": 12,
   "metadata": {},
   "outputs": [
    {
     "name": "stdout",
     "output_type": "stream",
     "text": [
      "Index([u'SeriousDlqin2yrs', u'RevolvingUtilizationOfUnsecuredLines', u'age',\n",
      "       u'NumberOfTime30-59DaysPastDueNotWorse', u'DebtRatio', u'MonthlyIncome',\n",
      "       u'NumberOfOpenCreditLinesAndLoans', u'NumberOfTimes90DaysLate',\n",
      "       u'NumberRealEstateLoansOrLines',\n",
      "       u'NumberOfTime60-89DaysPastDueNotWorse', u'NumberOfDependents'],\n",
      "      dtype='object')\n"
     ]
    }
   ],
   "source": [
    "# 过滤掉年龄为0的数据 \n",
    "print train.columns"
   ]
  },
  {
   "cell_type": "code",
   "execution_count": 14,
   "metadata": {},
   "outputs": [],
   "source": [
    "train_filled = train_filled[train_filled[:,2] > 0,:]"
   ]
  },
  {
   "cell_type": "code",
   "execution_count": 15,
   "metadata": {},
   "outputs": [
    {
     "name": "stdout",
     "output_type": "stream",
     "text": [
      "(149999, 11)\n"
     ]
    }
   ],
   "source": [
    "print train_filled.shape"
   ]
  },
  {
   "cell_type": "code",
   "execution_count": 25,
   "metadata": {},
   "outputs": [
    {
     "name": "stdout",
     "output_type": "stream",
     "text": [
      "age\n"
     ]
    },
    {
     "data": {
      "image/png": "[encoded data removed]",
      "text/plain": [
       "<matplotlib.figure.Figure at 0x7f2845c6bc50>"
      ]
     },
     "metadata": {},
     "output_type": "display_data"
    },
    {
     "name": "stdout",
     "output_type": "stream",
     "text": [
      "NumberOfTime30-59DaysPastDueNotWorse\n"
     ]
    },
    {
     "data": {
      "image/png": "[encoded data removed]",
      "text/plain": [
       "<matplotlib.figure.Figure at 0x7f2845c2b810>"
      ]
     },
     "metadata": {},
     "output_type": "display_data"
    },
    {
     "name": "stdout",
     "output_type": "stream",
     "text": [
      "DebtRatio\n"
     ]
    },
    {
     "data": {
      "image/png": "[encoded data removed]",
      "text/plain": [
       "<matplotlib.figure.Figure at 0x7f2845b57fd0>"
      ]
     },
     "metadata": {},
     "output_type": "display_data"
    },
    {
     "name": "stdout",
     "output_type": "stream",
     "text": [
      "MonthlyIncome\n"
     ]
    },
    {
     "data": {
      "image/png": "[encoded data removed]",
      "text/plain": [
       "<matplotlib.figure.Figure at 0x7f2845ad2c50>"
      ]
     },
     "metadata": {},
     "output_type": "display_data"
    },
    {
     "name": "stdout",
     "output_type": "stream",
     "text": [
      "NumberOfOpenCreditLinesAndLoans\n"
     ]
    },
    {
     "data": {
      "image/png": "[encoded data removed]",
      "text/plain": [
       "<matplotlib.figure.Figure at 0x7f2845a4efd0>"
      ]
     },
     "metadata": {},
     "output_type": "display_data"
    },
    {
     "name": "stdout",
     "output_type": "stream",
     "text": [
      "NumberOfTimes90DaysLate\n"
     ]
    },
    {
     "data": {
      "image/png": "[encoded data removed]",
      "text/plain": [
       "<matplotlib.figure.Figure at 0x7f2845a61a90>"
      ]
     },
     "metadata": {},
     "output_type": "display_data"
    },
    {
     "name": "stdout",
     "output_type": "stream",
     "text": [
      "NumberRealEstateLoansOrLines\n"
     ]
    },
    {
     "data": {
      "image/png": "[encoded data removed]",
      "text/plain": [
       "<matplotlib.figure.Figure at 0x7f2845c49bd0>"
      ]
     },
     "metadata": {},
     "output_type": "display_data"
    },
    {
     "name": "stdout",
     "output_type": "stream",
     "text": [
      "NumberOfTime60-89DaysPastDueNotWorse\n"
     ]
    },
    {
     "data": {
      "image/png": "[encoded data removed]",
      "text/plain": [
       "<matplotlib.figure.Figure at 0x7f2843869ed0>"
      ]
     },
     "metadata": {},
     "output_type": "display_data"
    },
    {
     "name": "stdout",
     "output_type": "stream",
     "text": [
      "NumberOfDependents\n"
     ]
    },
    {
     "data": {
      "image/png": "[encoded data removed]",
      "text/plain": [
       "<matplotlib.figure.Figure at 0x7f2845a96fd0>"
      ]
     },
     "metadata": {},
     "output_type": "display_data"
    }
   ],
   "source": [
    "import matplotlib.pyplot as plt\n",
    "for i, col in enumerate(train.columns):\n",
    "    if i == 0 or i == 1:\n",
    "        pass\n",
    "    else:\n",
    "        print col\n",
    "        sns.boxplot(train_filled[:,i])\n",
    "        plt.show()\n",
    "    "
   ]
  },
  {
   "cell_type": "markdown",
   "metadata": {},
   "source": [
    "NumberOfTime30-59DaysPastDueNotWorse,NumberOfTime30-59DaysPastDueNotWorse和NumberOfTime60-89DaysPastDueNotWorse三组数据存在很明显的异常值，可以进行过滤。其他变量中的离群值因为没有具体的业务信息，不能做出判断是不是符合异常值。"
   ]
  },
  {
   "cell_type": "code",
   "execution_count": 16,
   "metadata": {},
   "outputs": [
    {
     "data": {
      "text/plain": [
       "array([  0.,   1.,   2.,   3.,   4.,   5.,   6.,   7.,   8.,   9.,  11.,\n",
       "        96.,  98.])"
      ]
     },
     "execution_count": 16,
     "metadata": {},
     "output_type": "execute_result"
    }
   ],
   "source": [
    "np.unique(train_filled[:,9])"
   ]
  },
  {
   "cell_type": "code",
   "execution_count": 17,
   "metadata": {},
   "outputs": [
    {
     "name": "stdout",
     "output_type": "stream",
     "text": [
      "(149730, 11)\n"
     ]
    }
   ],
   "source": [
    "a = train_filled[:,9]< 95\n",
    "train_filled = train_filled[a, :]\n",
    "print train_filled.shape"
   ]
  },
  {
   "cell_type": "code",
   "execution_count": 33,
   "metadata": {},
   "outputs": [
    {
     "name": "stdout",
     "output_type": "stream",
     "text": [
      "RevolvingUtilizationOfUnsecuredLines X age\n",
      "(-0.0017438295666420359, 0.49982250757328073)\n",
      "RevolvingUtilizationOfUnsecuredLines X NumberOfTime30-59DaysPastDueNotWorse\n",
      "(-0.11297879078283807, 0.0)\n",
      "RevolvingUtilizationOfUnsecuredLines X DebtRatio\n",
      "(0.27455276619184316, 0.0)\n",
      "RevolvingUtilizationOfUnsecuredLines X MonthlyIncome\n",
      "(-0.0070694001491645115, 0.0062283132603648279)\n",
      "RevolvingUtilizationOfUnsecuredLines X NumberOfOpenCreditLinesAndLoans\n",
      "(-0.01325893694361035, 2.8863117319033718e-07)\n",
      "RevolvingUtilizationOfUnsecuredLines X NumberOfTimes90DaysLate\n",
      "(-0.024232041465668614, 6.7314043367713414e-21)\n",
      "RevolvingUtilizationOfUnsecuredLines X NumberRealEstateLoansOrLines\n",
      "(0.31453488826940856, 0.0)\n",
      "RevolvingUtilizationOfUnsecuredLines X NumberOfTime60-89DaysPastDueNotWorse\n",
      "(-0.0039571297843511112, 0.12571922109265479)\n",
      "RevolvingUtilizationOfUnsecuredLines X NumberOfDependents\n",
      "(0.26812973562158487, 0.0)\n",
      "age X NumberOfTime30-59DaysPastDueNotWorse\n",
      "(-0.0059554461032751433, 0.021196906094641241)\n",
      "age X DebtRatio\n",
      "(-0.002818462281614502, 0.27545071715274494)\n",
      "age X MonthlyIncome\n",
      "(0.0039550987336552431, 0.12591351462019787)\n",
      "age X NumberOfOpenCreditLinesAndLoans\n",
      "(0.0090410907630216163, 0.00046790269722498236)\n",
      "age X NumberOfTimes90DaysLate\n",
      "(-0.011367949272143558, 1.0878644248888014e-05)\n",
      "age X NumberRealEstateLoansOrLines\n",
      "(-0.0018075202546210315, 0.48429334846071159)\n",
      "age X NumberOfTime60-89DaysPastDueNotWorse\n",
      "(0.0062066489533609522, 0.016320715318836464)\n",
      "age X NumberOfDependents\n",
      "(-0.0024414435217691784, 0.3448073908536371)\n",
      "NumberOfTime30-59DaysPastDueNotWorse X DebtRatio\n",
      "(-0.071845043757793409, 1.5845638866939079e-170)\n",
      "NumberOfTime30-59DaysPastDueNotWorse X MonthlyIncome\n",
      "(0.023856671379982562, 2.6422364780161738e-20)\n",
      "NumberOfTime30-59DaysPastDueNotWorse X NumberOfOpenCreditLinesAndLoans\n",
      "(0.0096550309854900821, 0.00018692136870231208)\n",
      "NumberOfTime30-59DaysPastDueNotWorse X NumberOfTimes90DaysLate\n",
      "(0.14474196405513121, 0.0)\n",
      "NumberOfTime30-59DaysPastDueNotWorse X NumberRealEstateLoansOrLines\n",
      "(-0.0823917705562109, 8.5883349342091641e-224)\n",
      "NumberOfTime30-59DaysPastDueNotWorse X NumberOfTime60-89DaysPastDueNotWorse\n",
      "(0.031280273517740112, 9.7271422556561599e-34)\n",
      "NumberOfTime30-59DaysPastDueNotWorse X NumberOfDependents\n",
      "(-0.069853807101766682, 2.7046879640507535e-161)\n",
      "DebtRatio X MonthlyIncome\n",
      "(0.0034923194180177474, 0.17658511219948941)\n",
      "DebtRatio X NumberOfOpenCreditLinesAndLoans\n",
      "(0.0056629648384752245, 0.028431442046566269)\n",
      "DebtRatio X NumberOfTimes90DaysLate\n",
      "(0.080072814999092357, 1.8918481158308224e-211)\n",
      "DebtRatio X NumberRealEstateLoansOrLines\n",
      "(0.21814877394791587, 0.0)\n",
      "DebtRatio X NumberOfTime60-89DaysPastDueNotWorse\n",
      "(0.042756455591450963, 1.5480822588705186e-61)\n",
      "DebtRatio X NumberOfDependents\n",
      "(0.30587902460495592, 0.0)\n",
      "MonthlyIncome X NumberOfOpenCreditLinesAndLoans\n",
      "(-0.071555846354521349, 3.6055995995367231e-169)\n",
      "MonthlyIncome X NumberOfTimes90DaysLate\n",
      "(0.049182773679244889, 7.5647018763509938e-81)\n",
      "MonthlyIncome X NumberRealEstateLoansOrLines\n",
      "(-0.0098481888263273545, 0.00013851028908783101)\n",
      "MonthlyIncome X NumberOfTime60-89DaysPastDueNotWorse\n",
      "(0.11986204784290087, 0.0)\n",
      "MonthlyIncome X NumberOfDependents\n",
      "(-0.0041955459704302442, 0.10449143552797363)\n",
      "NumberOfOpenCreditLinesAndLoans X NumberOfTimes90DaysLate\n",
      "(0.098241130903875901, 1.0093647509438123e-317)\n",
      "NumberOfOpenCreditLinesAndLoans X NumberRealEstateLoansOrLines\n",
      "(-0.017063817607956069, 4.0220467588241656e-11)\n",
      "NumberOfOpenCreditLinesAndLoans X NumberOfTime60-89DaysPastDueNotWorse\n",
      "(0.11868524280382872, 0.0)\n",
      "NumberOfOpenCreditLinesAndLoans X NumberOfDependents\n",
      "(-0.0080686543825073537, 0.0017951262439940641)\n",
      "NumberOfTimes90DaysLate X NumberRealEstateLoansOrLines\n",
      "(-0.093869328908955191, 3.8449786803475276e-290)\n",
      "NumberOfTimes90DaysLate X NumberOfTime60-89DaysPastDueNotWorse\n",
      "(0.43266866422509553, 0.0)\n",
      "NumberOfTimes90DaysLate X NumberOfDependents\n",
      "(-0.021906933077331096, 2.2944130687378463e-17)\n",
      "NumberRealEstateLoansOrLines X NumberOfTime60-89DaysPastDueNotWorse\n",
      "(-0.062471134795042287, 2.4150195977200885e-129)\n",
      "NumberRealEstateLoansOrLines X NumberOfDependents\n",
      "(0.2946380175166563, 0.0)\n",
      "NumberOfTime60-89DaysPastDueNotWorse X NumberOfDependents\n",
      "(-0.020695464352233246, 1.1574588409560954e-15)\n"
     ]
    }
   ],
   "source": [
    "from scipy.stats.stats import pearsonr   \n",
    "for i in range(10):\n",
    "    for j in range(i+1, 10):\n",
    "        c = pearsonr(train_filled[:,i], train_filled[:,j])\n",
    "        print \"%s X %s\" % (train.columns[i+1], train.columns[j+1])\n",
    "        print c"
   ]
  },
  {
   "cell_type": "markdown",
   "metadata": {},
   "source": [
    "## 3. logistic线性回归"
   ]
  },
  {
   "cell_type": "code",
   "execution_count": 18,
   "metadata": {},
   "outputs": [],
   "source": [
    "from sklearn.linear_model import LogisticRegression\n",
    "clf = LogisticRegression()"
   ]
  },
  {
   "cell_type": "markdown",
   "metadata": {},
   "source": [
    "因为SeriousDlqin2yrs列中0和1的分布差异很大，所以在拆分数据时，应该考虑两个值的比例的平衡。"
   ]
  },
  {
   "cell_type": "code",
   "execution_count": 19,
   "metadata": {},
   "outputs": [
    {
     "name": "stderr",
     "output_type": "stream",
     "text": [
      "/home/l0o0/.local/lib/python2.7/site-packages/sklearn/model_selection/_split.py:2026: FutureWarning: From version 0.21, test_size will always complement train_size unless both are specified.\n",
      "  FutureWarning)\n"
     ]
    }
   ],
   "source": [
    "from sklearn.model_selection import train_test_split\n",
    "X = train_filled[:,1:]\n",
    "y = train_filled[:,0]\n",
    "X_train, X_test, y_train, y_test = train_test_split(X, y, stratify=y, train_size=0.8)"
   ]
  },
  {
   "cell_type": "code",
   "execution_count": 20,
   "metadata": {},
   "outputs": [
    {
     "data": {
      "text/plain": [
       "0.06597709209911173"
      ]
     },
     "execution_count": 20,
     "metadata": {},
     "output_type": "execute_result"
    }
   ],
   "source": [
    "np.count_nonzero(y_train) / float(len(y_train))"
   ]
  },
  {
   "cell_type": "code",
   "execution_count": 21,
   "metadata": {},
   "outputs": [
    {
     "data": {
      "text/plain": [
       "0.06598544045949375"
      ]
     },
     "execution_count": 21,
     "metadata": {},
     "output_type": "execute_result"
    }
   ],
   "source": [
    "np.count_nonzero(y_test) / float(len(y_test))"
   ]
  },
  {
   "cell_type": "code",
   "execution_count": 22,
   "metadata": {},
   "outputs": [
    {
     "data": {
      "text/plain": [
       "LogisticRegression(C=1.0, class_weight=None, dual=False, fit_intercept=True,\n",
       "          intercept_scaling=1, max_iter=100, multi_class='ovr', n_jobs=1,\n",
       "          penalty='l2', random_state=None, solver='liblinear', tol=0.0001,\n",
       "          verbose=0, warm_start=False)"
      ]
     },
     "execution_count": 22,
     "metadata": {},
     "output_type": "execute_result"
    }
   ],
   "source": [
    "clf.fit(X_train, y_train)"
   ]
  },
  {
   "cell_type": "code",
   "execution_count": 24,
   "metadata": {},
   "outputs": [
    {
     "data": {
      "text/plain": [
       "(119784, 10)"
      ]
     },
     "execution_count": 24,
     "metadata": {},
     "output_type": "execute_result"
    }
   ],
   "source": [
    "X_train.shape"
   ]
  },
  {
   "cell_type": "code",
   "execution_count": 25,
   "metadata": {},
   "outputs": [
    {
     "name": "stderr",
     "output_type": "stream",
     "text": [
      "/home/l0o0/.local/lib/python2.7/site-packages/statsmodels/compat/pandas.py:56: FutureWarning: The pandas.core.datetools module is deprecated and will be removed in a future version. Please use the pandas.tseries module instead.\n",
      "  from pandas.core import datetools\n"
     ]
    },
    {
     "name": "stdout",
     "output_type": "stream",
     "text": [
      "                 Generalized Linear Model Regression Results                  \n",
      "==============================================================================\n",
      "Dep. Variable:                      y   No. Observations:               119784\n",
      "Model:                            GLM   Df Residuals:                   119773\n",
      "Model Family:                Gaussian   Df Model:                           10\n",
      "Link Function:               identity   Scale:                 0.0513520194208\n",
      "Method:                          IRLS   Log-Likelihood:                 7861.8\n",
      "Date:                Fri, 10 Nov 2017   Deviance:                       6150.6\n",
      "Time:                        10:03:38   Pearson chi2:                 6.15e+03\n",
      "No. Iterations:                     2                                         \n",
      "==============================================================================\n",
      "                 coef    std err          z      P>|z|      [0.025      0.975]\n",
      "------------------------------------------------------------------------------\n",
      "const          0.0942      0.003     34.597      0.000       0.089       0.100\n",
      "x1         -1.459e-06   2.43e-06     -0.601      0.548   -6.22e-06     3.3e-06\n",
      "x2            -0.0012   4.63e-05    -24.999      0.000      -0.001      -0.001\n",
      "x3             0.0636      0.001     63.754      0.000       0.062       0.066\n",
      "x4         -5.844e-07   3.27e-07     -1.785      0.074   -1.23e-06    5.72e-08\n",
      "x5         -1.748e-07   4.79e-08     -3.649      0.000   -2.69e-07   -8.09e-08\n",
      "x6            -0.0004      0.000     -3.031      0.002      -0.001      -0.000\n",
      "x7             0.1182      0.001     82.073      0.000       0.115       0.121\n",
      "x8             0.0027      0.001      4.156      0.000       0.001       0.004\n",
      "x9             0.1026      0.002     47.657      0.000       0.098       0.107\n",
      "x10            0.0019      0.001      3.038      0.002       0.001       0.003\n",
      "==============================================================================\n"
     ]
    }
   ],
   "source": [
    "import statsmodels.api as sm\n",
    "X2 = sm.add_constant(X_train)\n",
    "est = sm.GLM(y_train, X2)\n",
    "est2 = est.fit()\n",
    "print est2.summary()"
   ]
  },
  {
   "cell_type": "code",
   "execution_count": 26,
   "metadata": {},
   "outputs": [
    {
     "name": "stdout",
     "output_type": "stream",
     "text": [
      "                 Generalized Linear Model Regression Results                  \n",
      "==============================================================================\n",
      "Dep. Variable:                      y   No. Observations:               119784\n",
      "Model:                            GLM   Df Residuals:                   119773\n",
      "Model Family:                Binomial   Df Model:                           10\n",
      "Link Function:                  logit   Scale:                             1.0\n",
      "Method:                          IRLS   Log-Likelihood:                -23670.\n",
      "Date:                Fri, 10 Nov 2017   Deviance:                       47339.\n",
      "Time:                        10:03:42   Pearson chi2:                 2.97e+05\n",
      "No. Iterations:                     7                                         \n",
      "==============================================================================\n",
      "                 coef    std err          z      P>|z|      [0.025      0.975]\n",
      "------------------------------------------------------------------------------\n",
      "const         -1.7893      0.051    -35.161      0.000      -1.889      -1.690\n",
      "x1         -2.283e-05    6.8e-05     -0.336      0.737      -0.000       0.000\n",
      "x2            -0.0282      0.001    -28.007      0.000      -0.030      -0.026\n",
      "x3             0.5786      0.012     46.756      0.000       0.554       0.603\n",
      "x4         -7.133e-05   1.44e-05     -4.954      0.000   -9.96e-05   -4.31e-05\n",
      "x5         -2.806e-05   3.44e-06     -8.147      0.000   -3.48e-05   -2.13e-05\n",
      "x6            -0.0006      0.003     -0.210      0.834      -0.007       0.005\n",
      "x7             0.8682      0.019     45.073      0.000       0.830       0.906\n",
      "x8             0.0980      0.012      7.919      0.000       0.074       0.122\n",
      "x9             0.7284      0.026     27.943      0.000       0.677       0.779\n",
      "x10            0.0583      0.011      5.251      0.000       0.037       0.080\n",
      "==============================================================================\n"
     ]
    }
   ],
   "source": [
    "X2 = sm.add_constant(X_train)\n",
    "est = sm.GLM(y_train, X2,family = sm.families.Binomial())\n",
    "est2 = est.fit()\n",
    "print est2.summary()"
   ]
  },
  {
   "cell_type": "code",
   "execution_count": 27,
   "metadata": {},
   "outputs": [
    {
     "name": "stdout",
     "output_type": "stream",
     "text": [
      "                 Generalized Linear Model Regression Results                  \n",
      "==============================================================================\n",
      "Dep. Variable:                      y   No. Observations:               119784\n",
      "Model:                            GLM   Df Residuals:                   119775\n",
      "Model Family:                Binomial   Df Model:                            8\n",
      "Link Function:                  logit   Scale:                             1.0\n",
      "Method:                          IRLS   Log-Likelihood:                -23670.\n",
      "Date:                Fri, 10 Nov 2017   Deviance:                       47340.\n",
      "Time:                        10:03:45   Pearson chi2:                 2.99e+05\n",
      "No. Iterations:                     7                                         \n",
      "==============================================================================\n",
      "                 coef    std err          z      P>|z|      [0.025      0.975]\n",
      "------------------------------------------------------------------------------\n",
      "const         -1.7911      0.050    -35.648      0.000      -1.890      -1.693\n",
      "x1            -0.0283      0.001    -28.523      0.000      -0.030      -0.026\n",
      "x2             0.5783      0.012     47.224      0.000       0.554       0.602\n",
      "x3         -7.159e-05   1.44e-05     -4.981      0.000   -9.98e-05   -4.34e-05\n",
      "x4          -2.82e-05   3.41e-06     -8.279      0.000   -3.49e-05   -2.15e-05\n",
      "x5             0.8689      0.019     45.667      0.000       0.832       0.906\n",
      "x6             0.0971      0.012      8.385      0.000       0.074       0.120\n",
      "x7             0.7285      0.026     27.952      0.000       0.677       0.780\n",
      "x8             0.0583      0.011      5.249      0.000       0.037       0.080\n",
      "==============================================================================\n"
     ]
    }
   ],
   "source": [
    "X2 = sm.add_constant(np.delete(X_train, np.s_[0,5],1))\n",
    "est = sm.GLM(y_train, X2, family = sm.families.Binomial())\n",
    "est2 = est.fit()\n",
    "print est2.summary()"
   ]
  },
  {
   "cell_type": "markdown",
   "metadata": {},
   "source": [
    "将变量x1和x6去除，这两个变量的p值比较低，回归效果不好"
   ]
  },
  {
   "cell_type": "code",
   "execution_count": 28,
   "metadata": {},
   "outputs": [],
   "source": [
    "train_filled = np.delete(train_filled, np.s_[1,6], 1)"
   ]
  },
  {
   "cell_type": "markdown",
   "metadata": {},
   "source": [
    "## 4. 模型评估"
   ]
  },
  {
   "cell_type": "code",
   "execution_count": 29,
   "metadata": {
    "scrolled": true
   },
   "outputs": [
    {
     "name": "stdout",
     "output_type": "stream",
     "text": [
      "0.794198233139\n"
     ]
    }
   ],
   "source": [
    "from sklearn.metrics import roc_auc_score\n",
    "roc_score = roc_auc_score(y_train, clf.decision_function(X_train))\n",
    "print roc_score"
   ]
  },
  {
   "cell_type": "code",
   "execution_count": 30,
   "metadata": {},
   "outputs": [
    {
     "name": "stdout",
     "output_type": "stream",
     "text": [
      "0.811302211574\n"
     ]
    }
   ],
   "source": [
    "X_train2 = np.delete(X_train, np.s_[0,5],1)\n",
    "clf2 = LogisticRegression()\n",
    "clf2.fit(X_train2, y_train)\n",
    "roc_score2 = roc_auc_score(y_train, clf2.decision_function(X_train2))\n",
    "print roc_score2"
   ]
  },
  {
   "cell_type": "markdown",
   "metadata": {},
   "source": [
    "## 5. WOE转换"
   ]
  },
  {
   "cell_type": "code",
   "execution_count": 31,
   "metadata": {},
   "outputs": [
    {
     "data": {
      "text/plain": [
       "Index([u'SeriousDlqin2yrs', u'RevolvingUtilizationOfUnsecuredLines', u'age',\n",
       "       u'NumberOfTime30-59DaysPastDueNotWorse', u'DebtRatio', u'MonthlyIncome',\n",
       "       u'NumberOfOpenCreditLinesAndLoans', u'NumberOfTimes90DaysLate',\n",
       "       u'NumberRealEstateLoansOrLines',\n",
       "       u'NumberOfTime60-89DaysPastDueNotWorse', u'NumberOfDependents'],\n",
       "      dtype='object')"
      ]
     },
     "execution_count": 31,
     "metadata": {},
     "output_type": "execute_result"
    }
   ],
   "source": [
    "train.columns"
   ]
  },
  {
   "cell_type": "code",
   "execution_count": 32,
   "metadata": {},
   "outputs": [],
   "source": [
    "columns = np.delete(train.columns, np.s_[1,6])"
   ]
  },
  {
   "cell_type": "code",
   "execution_count": 33,
   "metadata": {},
   "outputs": [],
   "source": [
    "# 对Array数据按照边界进行划分，生成一个array的dict, key为对应的划分区间\n",
    "\n",
    "def cut(x, step):\n",
    "    '''\n",
    "    -x : a numpy array\n",
    "    -step : a border list\n",
    "    '''\n",
    "    out = {}\n",
    "    for i, j in enumerate(step):\n",
    "        if i == 0:\n",
    "            k = '-inf,%s' % j\n",
    "            tmp = np.logical_and(x>=0, x<j)\n",
    "        else:\n",
    "            k = '%s,%s' % (step[i-1],j)\n",
    "            tmp = np.logical_and(x>=step[i-1], x<step[i])\n",
    "        out[k] = x[tmp]\n",
    "    out['%s,inf' % j] = x[x>=step[-1]]\n",
    "    return out"
   ]
  },
  {
   "cell_type": "code",
   "execution_count": 34,
   "metadata": {},
   "outputs": [],
   "source": [
    "from matplotlib.pylab import plt\n",
    "def barplot(i, region):\n",
    "    i = i + 1\n",
    "    data = train_filled[:,i]\n",
    "    col = columns[i]\n",
    "    state = cut(data, region)\n",
    "    print col\n",
    "    df = pd.DataFrame([(k, len(state[k])) for k in sorted(state.keys(), key=lambda x:float(x.split(',')[1]))], columns=['Range', \"Number\"])\n",
    "    p = sns.barplot(x='Range', y='Number', data=df)\n",
    "    p.set_xticklabels(p.get_xticklabels(), rotation=30)\n",
    "    plt.show(p)\n",
    "    return state"
   ]
  },
  {
   "cell_type": "code",
   "execution_count": 35,
   "metadata": {},
   "outputs": [
    {
     "name": "stdout",
     "output_type": "stream",
     "text": [
      "(149730, 9)\n",
      "Index([u'SeriousDlqin2yrs', u'age', u'NumberOfTime30-59DaysPastDueNotWorse',\n",
      "       u'DebtRatio', u'MonthlyIncome', u'NumberOfTimes90DaysLate',\n",
      "       u'NumberRealEstateLoansOrLines',\n",
      "       u'NumberOfTime60-89DaysPastDueNotWorse', u'NumberOfDependents'],\n",
      "      dtype='object')\n"
     ]
    }
   ],
   "source": [
    "print train_filled.shape\n",
    "print columns"
   ]
  },
  {
   "cell_type": "code",
   "execution_count": 36,
   "metadata": {},
   "outputs": [
    {
     "name": "stdout",
     "output_type": "stream",
     "text": [
      "age\n"
     ]
    },
    {
     "data": {
      "image/png": "[encoded data removed]",
      "text/plain": [
       "<matplotlib.figure.Figure at 0x7f34241ad710>"
      ]
     },
     "metadata": {},
     "output_type": "display_data"
    }
   ],
   "source": [
    "# for age \n",
    "x1 = barplot(0, range(25,80,5))\n"
   ]
  },
  {
   "cell_type": "code",
   "execution_count": 37,
   "metadata": {},
   "outputs": [
    {
     "name": "stdout",
     "output_type": "stream",
     "text": [
      "NumberOfTime30-59DaysPastDueNotWorse\n"
     ]
    },
    {
     "data": {
      "image/png": "[encoded data removed]",
      "text/plain": [
       "<matplotlib.figure.Figure at 0x7f341eba1950>"
      ]
     },
     "metadata": {},
     "output_type": "display_data"
    }
   ],
   "source": [
    "# for NumberOfTime30-59DaysPastDueNotWorse\n",
    "x2 = barplot(1, range(1,7,2))"
   ]
  },
  {
   "cell_type": "code",
   "execution_count": 38,
   "metadata": {},
   "outputs": [
    {
     "name": "stdout",
     "output_type": "stream",
     "text": [
      "DebtRatio\n"
     ]
    },
    {
     "data": {
      "image/png": "[encoded data removed]",
      "text/plain": [
       "<matplotlib.figure.Figure at 0x7f341ebaa350>"
      ]
     },
     "metadata": {},
     "output_type": "display_data"
    }
   ],
   "source": [
    "# for DebtRatio\n",
    "x3 = barplot(2, range(100, 2400, 500))"
   ]
  },
  {
   "cell_type": "code",
   "execution_count": 39,
   "metadata": {},
   "outputs": [
    {
     "name": "stdout",
     "output_type": "stream",
     "text": [
      "MonthlyIncome\n"
     ]
    },
    {
     "data": {
      "image/png": "[encoded data removed]",
      "text/plain": [
       "<matplotlib.figure.Figure at 0x7f341eaebe50>"
      ]
     },
     "metadata": {},
     "output_type": "display_data"
    }
   ],
   "source": [
    "# for MonthlyIncome\n",
    "x4 = barplot(3, range(1000, 12000, 1000))"
   ]
  },
  {
   "cell_type": "code",
   "execution_count": 40,
   "metadata": {},
   "outputs": [
    {
     "name": "stdout",
     "output_type": "stream",
     "text": [
      "NumberOfTimes90DaysLate\n"
     ]
    },
    {
     "data": {
      "image/png": "[encoded data removed]",
      "text/plain": [
       "<matplotlib.figure.Figure at 0x7f341ea41e90>"
      ]
     },
     "metadata": {},
     "output_type": "display_data"
    }
   ],
   "source": [
    "# for NumberOfTimes90DaysLate\n",
    "x5 = barplot(4, range(1,5,2))"
   ]
  },
  {
   "cell_type": "code",
   "execution_count": 41,
   "metadata": {},
   "outputs": [
    {
     "name": "stdout",
     "output_type": "stream",
     "text": [
      "NumberRealEstateLoansOrLines\n"
     ]
    },
    {
     "data": {
      "image/png": "[encoded data removed]",
      "text/plain": [
       "<matplotlib.figure.Figure at 0x7f341ea02210>"
      ]
     },
     "metadata": {},
     "output_type": "display_data"
    }
   ],
   "source": [
    "# for NumberRealEstateLoansOrLines\n",
    "x6 = barplot(5, range(1,10,2))"
   ]
  },
  {
   "cell_type": "code",
   "execution_count": 42,
   "metadata": {},
   "outputs": [
    {
     "name": "stdout",
     "output_type": "stream",
     "text": [
      "NumberOfTime60-89DaysPastDueNotWorse\n"
     ]
    },
    {
     "data": {
      "image/png": "[encoded data removed]",
      "text/plain": [
       "<matplotlib.figure.Figure at 0x7f341e9dfd50>"
      ]
     },
     "metadata": {},
     "output_type": "display_data"
    }
   ],
   "source": [
    "# for NumberOfTime60-89DaysPastDueNotWorse\n",
    "x7 = barplot(6, range(1,5,1))"
   ]
  },
  {
   "cell_type": "code",
   "execution_count": 43,
   "metadata": {},
   "outputs": [
    {
     "name": "stdout",
     "output_type": "stream",
     "text": [
      "NumberOfDependents\n"
     ]
    },
    {
     "data": {
      "image/png": "[encoded data removed]",
      "text/plain": [
       "<matplotlib.figure.Figure at 0x7f341e861590>"
      ]
     },
     "metadata": {},
     "output_type": "display_data"
    }
   ],
   "source": [
    "# NumberOfDependents\n",
    "x8 = barplot(7, range(1,5))"
   ]
  },
  {
   "cell_type": "markdown",
   "metadata": {},
   "source": [
    "**计算WOE值**"
   ]
  },
  {
   "cell_type": "code",
   "execution_count": 44,
   "metadata": {},
   "outputs": [],
   "source": [
    "from math import log\n",
    "def getWOE(i, x):\n",
    "    '''\n",
    "    totalgood, counts of 0 in column SeriousDlqin2yrs,\n",
    "    totalbad, counts of 1 in clumn SeriousDlqin2yrs\n",
    "    -i : column index\n",
    "    -x : result of cut function\n",
    "    '''\n",
    "    col = columns[i]\n",
    "    out = {}\n",
    "    for k in x:\n",
    "        start, end = [float(x) for x in k.split(',')]\n",
    "        region = train_filled[np.logical_and(train_filled[:,i]>=start, train_filled[:,i]<=end),0]\n",
    "        bad = np.count_nonzero(region)\n",
    "        good = len(region) - bad\n",
    "        woe = log((float(bad)/totalbad)/(float(good)/totalgood))\n",
    "        out[\"%s:%s\" % (col, k)] = woe\n",
    "    return out\n",
    "    \n",
    "    "
   ]
  },
  {
   "cell_type": "code",
   "execution_count": 45,
   "metadata": {},
   "outputs": [
    {
     "name": "stdout",
     "output_type": "stream",
     "text": [
      "139851 9879\n"
     ]
    }
   ],
   "source": [
    "totalbad = np.count_nonzero(train_filled[:,0])\n",
    "totalgood = train_filled.shape[0] - totalbad\n",
    "print totalgood, totalbad"
   ]
  },
  {
   "cell_type": "code",
   "execution_count": 46,
   "metadata": {},
   "outputs": [],
   "source": [
    "x1_woe = getWOE(1, x1)\n",
    "x2_woe = getWOE(2, x2)\n",
    "x3_woe = getWOE(3, x3)\n",
    "x4_woe = getWOE(4, x4)\n",
    "x5_woe = getWOE(5, x5)\n",
    "x6_woe = getWOE(6, x6)\n",
    "x7_woe = getWOE(7, x7)\n",
    "x8_woe = getWOE(8, x8)"
   ]
  },
  {
   "cell_type": "code",
   "execution_count": 47,
   "metadata": {},
   "outputs": [
    {
     "name": "stdout",
     "output_type": "stream",
     "text": [
      "age:25,30 25.0 30.0\n",
      "age:60,65 60.0 65.0\n",
      "age:50,55 50.0 55.0\n",
      "age:35,40 35.0 40.0\n",
      "age:70,75 70.0 75.0\n",
      "age:75,inf 75.0 inf\n",
      "age:-inf,25 -inf 25.0\n",
      "age:30,35 30.0 35.0\n",
      "age:65,70 65.0 70.0\n",
      "age:40,45 40.0 45.0\n",
      "age:45,50 45.0 50.0\n",
      "age:55,60 55.0 60.0\n",
      "NumberOfTime30-59DaysPastDueNotWorse:3,5 3.0 5.0\n",
      "NumberOfTime30-59DaysPastDueNotWorse:-inf,1 -inf 1.0\n",
      "NumberOfTime30-59DaysPastDueNotWorse:5,inf 5.0 inf\n",
      "NumberOfTime30-59DaysPastDueNotWorse:1,3 1.0 3.0\n",
      "DebtRatio:100,600 100.0 600.0\n",
      "DebtRatio:1100,1600 1100.0 1600.0\n",
      "DebtRatio:-inf,100 -inf 100.0\n",
      "DebtRatio:600,1100 600.0 1100.0\n",
      "DebtRatio:1600,2100 1600.0 2100.0\n",
      "DebtRatio:2100,inf 2100.0 inf\n",
      "MonthlyIncome:7000,8000 7000.0 8000.0\n",
      "MonthlyIncome:-inf,1000 -inf 1000.0\n",
      "MonthlyIncome:2000,3000 2000.0 3000.0\n",
      "MonthlyIncome:9000,10000 9000.0 10000.0\n",
      "MonthlyIncome:5000,6000 5000.0 6000.0\n",
      "MonthlyIncome:3000,4000 3000.0 4000.0\n",
      "MonthlyIncome:6000,7000 6000.0 7000.0\n",
      "MonthlyIncome:8000,9000 8000.0 9000.0\n",
      "MonthlyIncome:11000,inf 11000.0 inf\n",
      "MonthlyIncome:1000,2000 1000.0 2000.0\n",
      "MonthlyIncome:10000,11000 10000.0 11000.0\n",
      "MonthlyIncome:4000,5000 4000.0 5000.0\n",
      "NumberOfTimes90DaysLate:3,inf 3.0 inf\n",
      "NumberOfTimes90DaysLate:1,3 1.0 3.0\n",
      "NumberOfTimes90DaysLate:-inf,1 -inf 1.0\n",
      "NumberRealEstateLoansOrLines:-inf,1 -inf 1.0\n",
      "NumberRealEstateLoansOrLines:5,7 5.0 7.0\n",
      "NumberRealEstateLoansOrLines:7,9 7.0 9.0\n",
      "NumberRealEstateLoansOrLines:1,3 1.0 3.0\n",
      "NumberRealEstateLoansOrLines:9,inf 9.0 inf\n",
      "NumberRealEstateLoansOrLines:3,5 3.0 5.0\n",
      "NumberOfTime60-89DaysPastDueNotWorse:3,4 3.0 4.0\n",
      "NumberOfTime60-89DaysPastDueNotWorse:4,inf 4.0 inf\n",
      "NumberOfTime60-89DaysPastDueNotWorse:1,2 1.0 2.0\n",
      "NumberOfTime60-89DaysPastDueNotWorse:-inf,1 -inf 1.0\n",
      "NumberOfTime60-89DaysPastDueNotWorse:2,3 2.0 3.0\n",
      "NumberOfDependents:2,3 2.0 3.0\n",
      "NumberOfDependents:1,2 1.0 2.0\n",
      "NumberOfDependents:-inf,1 -inf 1.0\n",
      "NumberOfDependents:4,inf 4.0 inf\n",
      "NumberOfDependents:3,4 3.0 4.0\n"
     ]
    }
   ],
   "source": [
    "train_woe = train_filled\n",
    "for i in range(1,9):\n",
    "    tmp = eval('x%s_woe'%i)\n",
    "    for j in tmp.keys():\n",
    "        start, end = [float(x) for x in j.split(':')[1].split(',')]\n",
    "        print j,start, end\n",
    "        region = np.logical_and(train_filled[:,i]>=start, train_filled[:,i]<=end)\n",
    "        train_woe[region, i] = tmp[j]"
   ]
  },
  {
   "cell_type": "code",
   "execution_count": 48,
   "metadata": {},
   "outputs": [
    {
     "data": {
      "text/plain": [
       "{'age:-inf,25': 0.4825374176555449,\n",
       " 'age:25,30': 0.60335805708633,\n",
       " 'age:30,35': 0.5137225066688411,\n",
       " 'age:35,40': 0.37335137941437163,\n",
       " 'age:40,45': 0.2687938044562604,\n",
       " 'age:45,50': 0.20723450436301646,\n",
       " 'age:50,55': 0.0843686806638802,\n",
       " 'age:55,60': -0.23404811164589195,\n",
       " 'age:60,65': -0.5100126169029346,\n",
       " 'age:65,70': -0.895511112697344,\n",
       " 'age:70,75': -0.9661867319671943,\n",
       " 'age:75,inf': -1.238875369026396}"
      ]
     },
     "execution_count": 48,
     "metadata": {},
     "output_type": "execute_result"
    }
   ],
   "source": [
    "x1_woe"
   ]
  },
  {
   "cell_type": "code",
   "execution_count": 49,
   "metadata": {},
   "outputs": [
    {
     "name": "stdout",
     "output_type": "stream",
     "text": [
      "(149730, 8)\n"
     ]
    }
   ],
   "source": [
    "# 最终得到的woe矩阵\n",
    "train_woe = train_woe[:,1:]\n",
    "print train_woe.shape"
   ]
  },
  {
   "cell_type": "code",
   "execution_count": 50,
   "metadata": {},
   "outputs": [
    {
     "data": {
      "text/plain": [
       "array([[ 0.2687938 ,  1.19813446,  0.02577656, -0.29939813, -0.16277552,\n",
       "         0.81216742, -0.08409196, -0.0919479 ],\n",
       "       [ 0.48253742, -0.24392711,  0.02577656,  0.36904628, -0.16277552,\n",
       "         0.01937305, -0.08409196, -0.0919479 ],\n",
       "       [ 0.48253742, -0.24392711,  0.02577656,  0.2894482 ,  2.21109586,\n",
       "         0.01937305, -0.08409196, -0.0919479 ],\n",
       "       [ 0.48253742, -0.24392711,  0.02577656,  0.2894482 , -0.16277552,\n",
       "         0.01937305, -0.08409196, -0.0919479 ],\n",
       "       [ 0.2072345 , -0.24392711,  0.02577656, -0.42514388, -0.16277552,\n",
       "         0.01937305, -0.08409196, -0.0919479 ],\n",
       "       [ 0.48253742, -0.24392711,  0.02577656,  0.2894482 , -0.16277552,\n",
       "         0.01937305, -0.08409196, -0.0919479 ],\n",
       "       [-0.23404811, -0.24392711, -0.25134484, -0.18781807, -0.16277552,\n",
       "        -0.19876413, -0.08409196, -0.0919479 ],\n",
       "       [ 0.48253742, -0.24392711,  0.02577656,  0.2894482 , -0.16277552,\n",
       "         0.01937305, -0.08409196, -0.0919479 ],\n",
       "       [ 0.48253742, -0.24392711,  0.02577656, -0.18781807, -0.16277552,\n",
       "         0.01937305, -0.08409196, -0.0919479 ],\n",
       "       [-0.23404811, -0.24392711,  0.02577656, -0.42514388, -0.16277552,\n",
       "         0.15671257, -0.08409196, -0.0919479 ]])"
      ]
     },
     "execution_count": 50,
     "metadata": {},
     "output_type": "execute_result"
    }
   ],
   "source": [
    "train_woe[:10,:]"
   ]
  },
  {
   "cell_type": "code",
   "execution_count": 125,
   "metadata": {},
   "outputs": [
    {
     "data": {
      "text/plain": [
       "LogisticRegression(C=1.0, class_weight=None, dual=False, fit_intercept=True,\n",
       "          intercept_scaling=1, max_iter=100, multi_class='ovr', n_jobs=1,\n",
       "          penalty='l2', random_state=1, solver='liblinear', tol=0.0001,\n",
       "          verbose=0, warm_start=False)"
      ]
     },
     "execution_count": 125,
     "metadata": {},
     "output_type": "execute_result"
    }
   ],
   "source": [
    "# y 中1表示违约，0表示没有违约，如果按照这样的表示，线性模型预测的就是违约的概率，就是此时p表示违约的概率\n",
    "# 如果用1表示未违约，0表示违约，那p表示是的未违约的概率，log(odd) = log(p/(1-p))，也就是好坏比\n",
    "X = train_woe\n",
    "y = 1 - train_filled[:,0]\n",
    "clf3 = LogisticRegression(random_state=1)\n",
    "clf3.fit(X,y)"
   ]
  },
  {
   "cell_type": "code",
   "execution_count": 126,
   "metadata": {},
   "outputs": [
    {
     "name": "stdout",
     "output_type": "stream",
     "text": [
      "[[-0.37889412 -0.94352789 -0.32537145 -0.66156377 -0.79807924 -0.68857876\n",
      "  -0.62541461 -0.71954035]] [ 2.85453967]\n"
     ]
    }
   ],
   "source": [
    "print clf3.coef_, clf3.intercept_\n",
    "coes = clf3.coef_[0]"
   ]
  },
  {
   "cell_type": "markdown",
   "metadata": {},
   "source": [
    "## 6 标准评分卡\n",
    "下面是一个标准评分卡的示例：\n",
    "\n",
    "|变量| 条件 | 分值|\n",
    "|--  | -- | -- |\n",
    "| Age | if Age < 25 | 19 | \n",
    "| Age | if Age >= 25 and Age < 30 | 28 |\n",
    "| Age | if Age >= 30 and Age < 35 | 39 | \n",
    "| Age | if Age >= 35 | 24 | \n",
    "| Job | if Job == 'Full Time' | 38 | \n",
    "| Job | if Job == 'Part Time' | 19 | \n",
    "| Job | if Job == 'Others' | 25 | \n",
    "\n",
    "\n",
    "如果对于一个用户`{'Age':24, 'Job':'Part Time'}`，那根据上面的评分表，其得分为`19 + 19 = 38`。  \n",
    "**采用标准评分卡这种形式有以下几个优势：**\n",
    "1. 由于各变量得分相加得到最终得分，每个变量对最终得分的影响都清楚明了。这样的话，可以很容易和客户进行解释，能让客户理解得分背后的原因以及如何提高得分\n",
    "2. 可以很容易算出最高得分和最低得分\n",
    "3. 分值分配是根据比率的概念，随着分值的降低，违约的比率将提高一倍\n",
    "4. 每个得分都对应一个特定的违约比率，所以用评分系统可以很容易设定信贷政策\n",
    "\n",
    "### 评分卡刻度计算\n",
    "前面提供的比率是指一个记录被划为违约的概率和被划为违约概率之间的比率。将估计的违约比例定为$p$，那未违约的估计概率为$1-p$，两个互斥事件的概率之和为1，那二者的比率可以表示为：\n",
    "\n",
    "$$\n",
    "Odds = \\frac{p}{1 - p}\n",
    "$$\n",
    "\n",
    "那评分卡设定的分值刻度公式可以用一个线性表达式来表示：  \n",
    "\n",
    "$$ \n",
    "Score = A - B \\log{(Odds)}\n",
    "$$\n",
    "\n",
    "其中A被补偿常数，B称为刻度常数，违约概率越小，得分越高，表明风险越低。\n",
    "logistic回归模型的比例计算公式如下：\n",
    "\n",
    "$$\n",
    "\\log {(Odds)} = \\beta_0 + \\beta_1 x_1 + \\beta_2 x_2 + \\cdots + \\beta_n x_n\n",
    "$$  \n",
    "\n",
    "其中 $\\beta_0$ 是指线性回归的截距，$\\beta_1, \\cdots, \\beta_n$ 表示线性回归得到的各个系数。\n",
    "\n",
    "常数 $A$ 和 $B$ 的值可以通过将两个已知或假设的分值代入到分值刻度公式中就可以计算得到，通常需要的两个假设：\n",
    "\n",
    "+ 在某个特定的比率设定特定的预期分值\n",
    "+ 指定比率翻番的分数（PDO）\n",
    "\n",
    "如果假设在违约比正常为{1:60}时的分值为600， PDO = 20，通过解下面的方程可得：\n",
    "\n",
    "$$\n",
    "\\begin{cases}\n",
    "600 = A - B \\log {(\\frac{1}{60})} \\\\\n",
    "600 + 20 = A - B \\log {(\\frac{1}{30})}\\\\\n",
    "\\end{cases}\n",
    "$$\n",
    "\n",
    "得到 $A = 718.14 $, $B = -28.85$，代入分值刻度公式中：\n",
    "\n",
    "$$ \n",
    "Score = 718.14 + 28.85 \\log{(Odds)}\n",
    "$$\n",
    "\n"
   ]
  },
  {
   "cell_type": "code",
   "execution_count": 127,
   "metadata": {},
   "outputs": [],
   "source": [
    "p = 20/log(2)\n",
    "q = 600-20*log(15)/log(2)"
   ]
  },
  {
   "cell_type": "code",
   "execution_count": 128,
   "metadata": {},
   "outputs": [
    {
     "name": "stdout",
     "output_type": "stream",
     "text": [
      "604.226792531\n"
     ]
    }
   ],
   "source": [
    "base = q + p * clf3.intercept_[0]\n",
    "print base\n"
   ]
  },
  {
   "cell_type": "code",
   "execution_count": 56,
   "metadata": {},
   "outputs": [],
   "source": [
    "def getScore(p, coe, woe):\n",
    "    out = []\n",
    "    for k in woe.keys():\n",
    "        score = p * coe * woe[k]\n",
    "        out.append((k, score))\n",
    "    return np.array(out, dtype=[('group','S60'), ('score', 'f4')])"
   ]
  },
  {
   "cell_type": "markdown",
   "metadata": {},
   "source": [
    "对每个变量的woe值进行统计，分别计算出每个分段对应的得分"
   ]
  },
  {
   "cell_type": "code",
   "execution_count": 90,
   "metadata": {},
   "outputs": [],
   "source": [
    "# 查看每个变量的值，并将结果保存到字典\n",
    "def SCORE(coes):\n",
    "    out = {}\n",
    "    for i in range(1,9):\n",
    "        print \"x%s_woe\" % i\n",
    "        woe = eval(\"x%s_woe\" % i)\n",
    "        tmp = pd.DataFrame(getScore(p, coes[i-1], woe)).T\n",
    "        display(tmp)\n",
    "        tmpDict = dict(zip(tmp.loc['group'], tmp.loc['score']))\n",
    "        out[i]=tmpDict\n",
    "    return out"
   ]
  },
  {
   "cell_type": "code",
   "execution_count": 129,
   "metadata": {},
   "outputs": [
    {
     "name": "stdout",
     "output_type": "stream",
     "text": [
      "x1_woe\n"
     ]
    },
    {
     "data": {
      "text/html": [
       "<div>\n",
       "<style scoped>\n",
       "    .dataframe tbody tr th:only-of-type {\n",
       "        vertical-align: middle;\n",
       "    }\n",
       "\n",
       "    .dataframe tbody tr th {\n",
       "        vertical-align: top;\n",
       "    }\n",
       "\n",
       "    .dataframe thead th {\n",
       "        text-align: right;\n",
       "    }\n",
       "</style>\n",
       "<table border=\"1\" class=\"dataframe\">\n",
       "  <thead>\n",
       "    <tr style=\"text-align: right;\">\n",
       "      <th></th>\n",
       "      <th>0</th>\n",
       "      <th>1</th>\n",
       "      <th>2</th>\n",
       "      <th>3</th>\n",
       "      <th>4</th>\n",
       "      <th>5</th>\n",
       "      <th>6</th>\n",
       "      <th>7</th>\n",
       "      <th>8</th>\n",
       "      <th>9</th>\n",
       "      <th>10</th>\n",
       "      <th>11</th>\n",
       "    </tr>\n",
       "  </thead>\n",
       "  <tbody>\n",
       "    <tr>\n",
       "      <th>group</th>\n",
       "      <td>age:25,30</td>\n",
       "      <td>age:60,65</td>\n",
       "      <td>age:50,55</td>\n",
       "      <td>age:35,40</td>\n",
       "      <td>age:70,75</td>\n",
       "      <td>age:75,inf</td>\n",
       "      <td>age:-inf,25</td>\n",
       "      <td>age:30,35</td>\n",
       "      <td>age:65,70</td>\n",
       "      <td>age:40,45</td>\n",
       "      <td>age:45,50</td>\n",
       "      <td>age:55,60</td>\n",
       "    </tr>\n",
       "    <tr>\n",
       "      <th>score</th>\n",
       "      <td>-6.59626</td>\n",
       "      <td>5.57575</td>\n",
       "      <td>-0.922367</td>\n",
       "      <td>-4.08169</td>\n",
       "      <td>10.5629</td>\n",
       "      <td>13.5441</td>\n",
       "      <td>-5.27538</td>\n",
       "      <td>-5.61631</td>\n",
       "      <td>9.79024</td>\n",
       "      <td>-2.93861</td>\n",
       "      <td>-2.26561</td>\n",
       "      <td>2.55875</td>\n",
       "    </tr>\n",
       "  </tbody>\n",
       "</table>\n",
       "</div>"
      ],
      "text/plain": [
       "              0          1          2          3          4           5   \\\n",
       "group  age:25,30  age:60,65  age:50,55  age:35,40  age:70,75  age:75,inf   \n",
       "score   -6.59626    5.57575  -0.922367   -4.08169    10.5629     13.5441   \n",
       "\n",
       "                6          7          8          9          10         11  \n",
       "group  age:-inf,25  age:30,35  age:65,70  age:40,45  age:45,50  age:55,60  \n",
       "score     -5.27538   -5.61631    9.79024   -2.93861   -2.26561    2.55875  "
      ]
     },
     "metadata": {},
     "output_type": "display_data"
    },
    {
     "name": "stdout",
     "output_type": "stream",
     "text": [
      "x2_woe\n"
     ]
    },
    {
     "data": {
      "text/html": [
       "<div>\n",
       "<style scoped>\n",
       "    .dataframe tbody tr th:only-of-type {\n",
       "        vertical-align: middle;\n",
       "    }\n",
       "\n",
       "    .dataframe tbody tr th {\n",
       "        vertical-align: top;\n",
       "    }\n",
       "\n",
       "    .dataframe thead th {\n",
       "        text-align: right;\n",
       "    }\n",
       "</style>\n",
       "<table border=\"1\" class=\"dataframe\">\n",
       "  <thead>\n",
       "    <tr style=\"text-align: right;\">\n",
       "      <th></th>\n",
       "      <th>0</th>\n",
       "      <th>1</th>\n",
       "      <th>2</th>\n",
       "      <th>3</th>\n",
       "    </tr>\n",
       "  </thead>\n",
       "  <tbody>\n",
       "    <tr>\n",
       "      <th>group</th>\n",
       "      <td>NumberOfTime30-59DaysPastDueNotWorse:3,5</td>\n",
       "      <td>NumberOfTime30-59DaysPastDueNotWorse:-inf,1</td>\n",
       "      <td>NumberOfTime30-59DaysPastDueNotWorse:5,inf</td>\n",
       "      <td>NumberOfTime30-59DaysPastDueNotWorse:1,3</td>\n",
       "    </tr>\n",
       "    <tr>\n",
       "      <th>score</th>\n",
       "      <td>-59.2136</td>\n",
       "      <td>6.64078</td>\n",
       "      <td>-69.0534</td>\n",
       "      <td>-32.6186</td>\n",
       "    </tr>\n",
       "  </tbody>\n",
       "</table>\n",
       "</div>"
      ],
      "text/plain": [
       "                                              0  \\\n",
       "group  NumberOfTime30-59DaysPastDueNotWorse:3,5   \n",
       "score                                  -59.2136   \n",
       "\n",
       "                                                 1  \\\n",
       "group  NumberOfTime30-59DaysPastDueNotWorse:-inf,1   \n",
       "score                                      6.64078   \n",
       "\n",
       "                                                2  \\\n",
       "group  NumberOfTime30-59DaysPastDueNotWorse:5,inf   \n",
       "score                                    -69.0534   \n",
       "\n",
       "                                              3  \n",
       "group  NumberOfTime30-59DaysPastDueNotWorse:1,3  \n",
       "score                                  -32.6186  "
      ]
     },
     "metadata": {},
     "output_type": "display_data"
    },
    {
     "name": "stdout",
     "output_type": "stream",
     "text": [
      "x3_woe\n"
     ]
    },
    {
     "data": {
      "text/html": [
       "<div>\n",
       "<style scoped>\n",
       "    .dataframe tbody tr th:only-of-type {\n",
       "        vertical-align: middle;\n",
       "    }\n",
       "\n",
       "    .dataframe tbody tr th {\n",
       "        vertical-align: top;\n",
       "    }\n",
       "\n",
       "    .dataframe thead th {\n",
       "        text-align: right;\n",
       "    }\n",
       "</style>\n",
       "<table border=\"1\" class=\"dataframe\">\n",
       "  <thead>\n",
       "    <tr style=\"text-align: right;\">\n",
       "      <th></th>\n",
       "      <th>0</th>\n",
       "      <th>1</th>\n",
       "      <th>2</th>\n",
       "      <th>3</th>\n",
       "      <th>4</th>\n",
       "      <th>5</th>\n",
       "    </tr>\n",
       "  </thead>\n",
       "  <tbody>\n",
       "    <tr>\n",
       "      <th>group</th>\n",
       "      <td>DebtRatio:100,600</td>\n",
       "      <td>DebtRatio:1100,1600</td>\n",
       "      <td>DebtRatio:-inf,100</td>\n",
       "      <td>DebtRatio:600,1100</td>\n",
       "      <td>DebtRatio:1600,2100</td>\n",
       "      <td>DebtRatio:2100,inf</td>\n",
       "    </tr>\n",
       "    <tr>\n",
       "      <th>score</th>\n",
       "      <td>-2.3156</td>\n",
       "      <td>3.64829</td>\n",
       "      <td>-0.241996</td>\n",
       "      <td>0.406125</td>\n",
       "      <td>3.85328</td>\n",
       "      <td>2.35968</td>\n",
       "    </tr>\n",
       "  </tbody>\n",
       "</table>\n",
       "</div>"
      ],
      "text/plain": [
       "                       0                    1                   2  \\\n",
       "group  DebtRatio:100,600  DebtRatio:1100,1600  DebtRatio:-inf,100   \n",
       "score            -2.3156              3.64829           -0.241996   \n",
       "\n",
       "                        3                    4                   5  \n",
       "group  DebtRatio:600,1100  DebtRatio:1600,2100  DebtRatio:2100,inf  \n",
       "score            0.406125              3.85328             2.35968  "
      ]
     },
     "metadata": {},
     "output_type": "display_data"
    },
    {
     "name": "stdout",
     "output_type": "stream",
     "text": [
      "x4_woe\n"
     ]
    },
    {
     "data": {
      "text/html": [
       "<div>\n",
       "<style scoped>\n",
       "    .dataframe tbody tr th:only-of-type {\n",
       "        vertical-align: middle;\n",
       "    }\n",
       "\n",
       "    .dataframe tbody tr th {\n",
       "        vertical-align: top;\n",
       "    }\n",
       "\n",
       "    .dataframe thead th {\n",
       "        text-align: right;\n",
       "    }\n",
       "</style>\n",
       "<table border=\"1\" class=\"dataframe\">\n",
       "  <thead>\n",
       "    <tr style=\"text-align: right;\">\n",
       "      <th></th>\n",
       "      <th>0</th>\n",
       "      <th>1</th>\n",
       "      <th>2</th>\n",
       "      <th>3</th>\n",
       "      <th>4</th>\n",
       "      <th>5</th>\n",
       "      <th>6</th>\n",
       "      <th>7</th>\n",
       "      <th>8</th>\n",
       "      <th>9</th>\n",
       "      <th>10</th>\n",
       "      <th>11</th>\n",
       "    </tr>\n",
       "  </thead>\n",
       "  <tbody>\n",
       "    <tr>\n",
       "      <th>group</th>\n",
       "      <td>MonthlyIncome:7000,8000</td>\n",
       "      <td>MonthlyIncome:-inf,1000</td>\n",
       "      <td>MonthlyIncome:2000,3000</td>\n",
       "      <td>MonthlyIncome:9000,10000</td>\n",
       "      <td>MonthlyIncome:5000,6000</td>\n",
       "      <td>MonthlyIncome:3000,4000</td>\n",
       "      <td>MonthlyIncome:6000,7000</td>\n",
       "      <td>MonthlyIncome:8000,9000</td>\n",
       "      <td>MonthlyIncome:11000,inf</td>\n",
       "      <td>MonthlyIncome:1000,2000</td>\n",
       "      <td>MonthlyIncome:10000,11000</td>\n",
       "      <td>MonthlyIncome:4000,5000</td>\n",
       "    </tr>\n",
       "    <tr>\n",
       "      <th>score</th>\n",
       "      <td>3.50001</td>\n",
       "      <td>3.5852</td>\n",
       "      <td>-7.04461</td>\n",
       "      <td>5.71512</td>\n",
       "      <td>-0.261038</td>\n",
       "      <td>-5.52519</td>\n",
       "      <td>1.35776</td>\n",
       "      <td>5.21404</td>\n",
       "      <td>8.11544</td>\n",
       "      <td>-7.77624</td>\n",
       "      <td>9.66987</td>\n",
       "      <td>-2.75327</td>\n",
       "    </tr>\n",
       "  </tbody>\n",
       "</table>\n",
       "</div>"
      ],
      "text/plain": [
       "                            0                        1   \\\n",
       "group  MonthlyIncome:7000,8000  MonthlyIncome:-inf,1000   \n",
       "score                  3.50001                   3.5852   \n",
       "\n",
       "                            2                         3   \\\n",
       "group  MonthlyIncome:2000,3000  MonthlyIncome:9000,10000   \n",
       "score                 -7.04461                   5.71512   \n",
       "\n",
       "                            4                        5   \\\n",
       "group  MonthlyIncome:5000,6000  MonthlyIncome:3000,4000   \n",
       "score                -0.261038                 -5.52519   \n",
       "\n",
       "                            6                        7   \\\n",
       "group  MonthlyIncome:6000,7000  MonthlyIncome:8000,9000   \n",
       "score                  1.35776                  5.21404   \n",
       "\n",
       "                            8                        9   \\\n",
       "group  MonthlyIncome:11000,inf  MonthlyIncome:1000,2000   \n",
       "score                  8.11544                 -7.77624   \n",
       "\n",
       "                              10                       11  \n",
       "group  MonthlyIncome:10000,11000  MonthlyIncome:4000,5000  \n",
       "score                    9.66987                 -2.75327  "
      ]
     },
     "metadata": {},
     "output_type": "display_data"
    },
    {
     "name": "stdout",
     "output_type": "stream",
     "text": [
      "x5_woe\n"
     ]
    },
    {
     "data": {
      "text/html": [
       "<div>\n",
       "<style scoped>\n",
       "    .dataframe tbody tr th:only-of-type {\n",
       "        vertical-align: middle;\n",
       "    }\n",
       "\n",
       "    .dataframe tbody tr th {\n",
       "        vertical-align: top;\n",
       "    }\n",
       "\n",
       "    .dataframe thead th {\n",
       "        text-align: right;\n",
       "    }\n",
       "</style>\n",
       "<table border=\"1\" class=\"dataframe\">\n",
       "  <thead>\n",
       "    <tr style=\"text-align: right;\">\n",
       "      <th></th>\n",
       "      <th>0</th>\n",
       "      <th>1</th>\n",
       "      <th>2</th>\n",
       "    </tr>\n",
       "  </thead>\n",
       "  <tbody>\n",
       "    <tr>\n",
       "      <th>group</th>\n",
       "      <td>NumberOfTimes90DaysLate:3,inf</td>\n",
       "      <td>NumberOfTimes90DaysLate:1,3</td>\n",
       "      <td>NumberOfTimes90DaysLate:-inf,1</td>\n",
       "    </tr>\n",
       "    <tr>\n",
       "      <th>score</th>\n",
       "      <td>-71.9918</td>\n",
       "      <td>-50.9165</td>\n",
       "      <td>3.74835</td>\n",
       "    </tr>\n",
       "  </tbody>\n",
       "</table>\n",
       "</div>"
      ],
      "text/plain": [
       "                                   0                            1  \\\n",
       "group  NumberOfTimes90DaysLate:3,inf  NumberOfTimes90DaysLate:1,3   \n",
       "score                       -71.9918                     -50.9165   \n",
       "\n",
       "                                    2  \n",
       "group  NumberOfTimes90DaysLate:-inf,1  \n",
       "score                         3.74835  "
      ]
     },
     "metadata": {},
     "output_type": "display_data"
    },
    {
     "name": "stdout",
     "output_type": "stream",
     "text": [
      "x6_woe\n"
     ]
    },
    {
     "data": {
      "text/html": [
       "<div>\n",
       "<style scoped>\n",
       "    .dataframe tbody tr th:only-of-type {\n",
       "        vertical-align: middle;\n",
       "    }\n",
       "\n",
       "    .dataframe tbody tr th {\n",
       "        vertical-align: top;\n",
       "    }\n",
       "\n",
       "    .dataframe thead th {\n",
       "        text-align: right;\n",
       "    }\n",
       "</style>\n",
       "<table border=\"1\" class=\"dataframe\">\n",
       "  <thead>\n",
       "    <tr style=\"text-align: right;\">\n",
       "      <th></th>\n",
       "      <th>0</th>\n",
       "      <th>1</th>\n",
       "      <th>2</th>\n",
       "      <th>3</th>\n",
       "      <th>4</th>\n",
       "      <th>5</th>\n",
       "    </tr>\n",
       "  </thead>\n",
       "  <tbody>\n",
       "    <tr>\n",
       "      <th>group</th>\n",
       "      <td>NumberRealEstateLoansOrLines:-inf,1</td>\n",
       "      <td>NumberRealEstateLoansOrLines:5,7</td>\n",
       "      <td>NumberRealEstateLoansOrLines:7,9</td>\n",
       "      <td>NumberRealEstateLoansOrLines:1,3</td>\n",
       "      <td>NumberRealEstateLoansOrLines:9,inf</td>\n",
       "      <td>NumberRealEstateLoansOrLines:3,5</td>\n",
       "    </tr>\n",
       "    <tr>\n",
       "      <th>score</th>\n",
       "      <td>-0.384907</td>\n",
       "      <td>-16.1363</td>\n",
       "      <td>-24.9653</td>\n",
       "      <td>3.94908</td>\n",
       "      <td>-24.0236</td>\n",
       "      <td>-3.11359</td>\n",
       "    </tr>\n",
       "  </tbody>\n",
       "</table>\n",
       "</div>"
      ],
      "text/plain": [
       "                                         0                                 1  \\\n",
       "group  NumberRealEstateLoansOrLines:-inf,1  NumberRealEstateLoansOrLines:5,7   \n",
       "score                            -0.384907                          -16.1363   \n",
       "\n",
       "                                      2                                 3  \\\n",
       "group  NumberRealEstateLoansOrLines:7,9  NumberRealEstateLoansOrLines:1,3   \n",
       "score                          -24.9653                           3.94908   \n",
       "\n",
       "                                        4                                 5  \n",
       "group  NumberRealEstateLoansOrLines:9,inf  NumberRealEstateLoansOrLines:3,5  \n",
       "score                            -24.0236                          -3.11359  "
      ]
     },
     "metadata": {},
     "output_type": "display_data"
    },
    {
     "name": "stdout",
     "output_type": "stream",
     "text": [
      "x7_woe\n"
     ]
    },
    {
     "data": {
      "text/html": [
       "<div>\n",
       "<style scoped>\n",
       "    .dataframe tbody tr th:only-of-type {\n",
       "        vertical-align: middle;\n",
       "    }\n",
       "\n",
       "    .dataframe tbody tr th {\n",
       "        vertical-align: top;\n",
       "    }\n",
       "\n",
       "    .dataframe thead th {\n",
       "        text-align: right;\n",
       "    }\n",
       "</style>\n",
       "<table border=\"1\" class=\"dataframe\">\n",
       "  <thead>\n",
       "    <tr style=\"text-align: right;\">\n",
       "      <th></th>\n",
       "      <th>0</th>\n",
       "      <th>1</th>\n",
       "      <th>2</th>\n",
       "      <th>3</th>\n",
       "      <th>4</th>\n",
       "    </tr>\n",
       "  </thead>\n",
       "  <tbody>\n",
       "    <tr>\n",
       "      <th>group</th>\n",
       "      <td>NumberOfTime60-89DaysPastDueNotWorse:3,4</td>\n",
       "      <td>NumberOfTime60-89DaysPastDueNotWorse:4,inf</td>\n",
       "      <td>NumberOfTime60-89DaysPastDueNotWorse:1,2</td>\n",
       "      <td>NumberOfTime60-89DaysPastDueNotWorse:-inf,1</td>\n",
       "      <td>NumberOfTime60-89DaysPastDueNotWorse:2,3</td>\n",
       "    </tr>\n",
       "    <tr>\n",
       "      <th>score</th>\n",
       "      <td>-53.5891</td>\n",
       "      <td>-57.0422</td>\n",
       "      <td>-35.964</td>\n",
       "      <td>1.51749</td>\n",
       "      <td>-48.9805</td>\n",
       "    </tr>\n",
       "  </tbody>\n",
       "</table>\n",
       "</div>"
      ],
      "text/plain": [
       "                                              0  \\\n",
       "group  NumberOfTime60-89DaysPastDueNotWorse:3,4   \n",
       "score                                  -53.5891   \n",
       "\n",
       "                                                1  \\\n",
       "group  NumberOfTime60-89DaysPastDueNotWorse:4,inf   \n",
       "score                                    -57.0422   \n",
       "\n",
       "                                              2  \\\n",
       "group  NumberOfTime60-89DaysPastDueNotWorse:1,2   \n",
       "score                                   -35.964   \n",
       "\n",
       "                                                 3  \\\n",
       "group  NumberOfTime60-89DaysPastDueNotWorse:-inf,1   \n",
       "score                                      1.51749   \n",
       "\n",
       "                                              4  \n",
       "group  NumberOfTime60-89DaysPastDueNotWorse:2,3  \n",
       "score                                  -48.9805  "
      ]
     },
     "metadata": {},
     "output_type": "display_data"
    },
    {
     "name": "stdout",
     "output_type": "stream",
     "text": [
      "x8_woe\n"
     ]
    },
    {
     "data": {
      "text/html": [
       "<div>\n",
       "<style scoped>\n",
       "    .dataframe tbody tr th:only-of-type {\n",
       "        vertical-align: middle;\n",
       "    }\n",
       "\n",
       "    .dataframe tbody tr th {\n",
       "        vertical-align: top;\n",
       "    }\n",
       "\n",
       "    .dataframe thead th {\n",
       "        text-align: right;\n",
       "    }\n",
       "</style>\n",
       "<table border=\"1\" class=\"dataframe\">\n",
       "  <thead>\n",
       "    <tr style=\"text-align: right;\">\n",
       "      <th></th>\n",
       "      <th>0</th>\n",
       "      <th>1</th>\n",
       "      <th>2</th>\n",
       "      <th>3</th>\n",
       "      <th>4</th>\n",
       "    </tr>\n",
       "  </thead>\n",
       "  <tbody>\n",
       "    <tr>\n",
       "      <th>group</th>\n",
       "      <td>NumberOfDependents:2,3</td>\n",
       "      <td>NumberOfDependents:1,2</td>\n",
       "      <td>NumberOfDependents:-inf,1</td>\n",
       "      <td>NumberOfDependents:4,inf</td>\n",
       "      <td>NumberOfDependents:3,4</td>\n",
       "    </tr>\n",
       "    <tr>\n",
       "      <th>score</th>\n",
       "      <td>-5.11547</td>\n",
       "      <td>-3.2442</td>\n",
       "      <td>1.90898</td>\n",
       "      <td>-9.99014</td>\n",
       "      <td>-7.351</td>\n",
       "    </tr>\n",
       "  </tbody>\n",
       "</table>\n",
       "</div>"
      ],
      "text/plain": [
       "                            0                       1  \\\n",
       "group  NumberOfDependents:2,3  NumberOfDependents:1,2   \n",
       "score                -5.11547                 -3.2442   \n",
       "\n",
       "                               2                         3  \\\n",
       "group  NumberOfDependents:-inf,1  NumberOfDependents:4,inf   \n",
       "score                    1.90898                  -9.99014   \n",
       "\n",
       "                            4  \n",
       "group  NumberOfDependents:3,4  \n",
       "score                  -7.351  "
      ]
     },
     "metadata": {},
     "output_type": "display_data"
    }
   ],
   "source": [
    "var_scores = SCORE(coes)"
   ]
  },
  {
   "cell_type": "code",
   "execution_count": 130,
   "metadata": {},
   "outputs": [
    {
     "data": {
      "text/html": [
       "<div>\n",
       "<style scoped>\n",
       "    .dataframe tbody tr th:only-of-type {\n",
       "        vertical-align: middle;\n",
       "    }\n",
       "\n",
       "    .dataframe tbody tr th {\n",
       "        vertical-align: top;\n",
       "    }\n",
       "\n",
       "    .dataframe thead th {\n",
       "        text-align: right;\n",
       "    }\n",
       "</style>\n",
       "<table border=\"1\" class=\"dataframe\">\n",
       "  <thead>\n",
       "    <tr style=\"text-align: right;\">\n",
       "      <th></th>\n",
       "      <th>0</th>\n",
       "      <th>1</th>\n",
       "      <th>2</th>\n",
       "      <th>3</th>\n",
       "      <th>4</th>\n",
       "      <th>5</th>\n",
       "      <th>6</th>\n",
       "      <th>7</th>\n",
       "      <th>8</th>\n",
       "      <th>9</th>\n",
       "      <th>10</th>\n",
       "      <th>11</th>\n",
       "    </tr>\n",
       "  </thead>\n",
       "  <tbody>\n",
       "    <tr>\n",
       "      <th>group</th>\n",
       "      <td>age:25,30</td>\n",
       "      <td>age:60,65</td>\n",
       "      <td>age:50,55</td>\n",
       "      <td>age:35,40</td>\n",
       "      <td>age:70,75</td>\n",
       "      <td>age:75,inf</td>\n",
       "      <td>age:-inf,25</td>\n",
       "      <td>age:30,35</td>\n",
       "      <td>age:65,70</td>\n",
       "      <td>age:40,45</td>\n",
       "      <td>age:45,50</td>\n",
       "      <td>age:55,60</td>\n",
       "    </tr>\n",
       "    <tr>\n",
       "      <th>score</th>\n",
       "      <td>-6.59626</td>\n",
       "      <td>5.57575</td>\n",
       "      <td>-0.922367</td>\n",
       "      <td>-4.08169</td>\n",
       "      <td>10.5629</td>\n",
       "      <td>13.5441</td>\n",
       "      <td>-5.27538</td>\n",
       "      <td>-5.61631</td>\n",
       "      <td>9.79024</td>\n",
       "      <td>-2.93861</td>\n",
       "      <td>-2.26561</td>\n",
       "      <td>2.55875</td>\n",
       "    </tr>\n",
       "  </tbody>\n",
       "</table>\n",
       "</div>"
      ],
      "text/plain": [
       "              0          1          2          3          4           5   \\\n",
       "group  age:25,30  age:60,65  age:50,55  age:35,40  age:70,75  age:75,inf   \n",
       "score   -6.59626    5.57575  -0.922367   -4.08169    10.5629     13.5441   \n",
       "\n",
       "                6          7          8          9          10         11  \n",
       "group  age:-inf,25  age:30,35  age:65,70  age:40,45  age:45,50  age:55,60  \n",
       "score     -5.27538   -5.61631    9.79024   -2.93861   -2.26561    2.55875  "
      ]
     },
     "execution_count": 130,
     "metadata": {},
     "output_type": "execute_result"
    }
   ],
   "source": [
    "pd.DataFrame(getScore(p, coes[0], x1_woe)).T"
   ]
  },
  {
   "cell_type": "markdown",
   "metadata": {},
   "source": [
    "特征 \t数据 \t分数\n",
    "Age \t38 \t7\n",
    "NumberOfTime30-59DaysPastDueNotWorse \t4 \t47\n",
    "MonthlyIncome \t1500 \t10\n",
    "NumberOfTimes90DaysLate \t2 \t38\n",
    "NumberRealEstateLoansOrLines \t1.5 \t-3\n",
    "NumberOfTime60-89DaysPastDueNotWorse \t4 \t62\n",
    "NumberOfDependents \t1.5 \t2"
   ]
  },
  {
   "cell_type": "code",
   "execution_count": 64,
   "metadata": {},
   "outputs": [
    {
     "data": {
      "text/plain": [
       "617.82293359723792"
      ]
     },
     "execution_count": 64,
     "metadata": {},
     "output_type": "execute_result"
    }
   ],
   "source": [
    "base + 4.08169 + 59.2136 + 7.77624 \t + 50.9165 + -3.94908 + 57.0422 + 3.2442 "
   ]
  },
  {
   "cell_type": "code",
   "execution_count": 65,
   "metadata": {
    "scrolled": true
   },
   "outputs": [
    {
     "data": {
      "text/plain": [
       "484.89459959723797"
      ]
     },
     "execution_count": 65,
     "metadata": {},
     "output_type": "execute_result"
    }
   ],
   "source": [
    "# SeriousDlqin2yrs = 1\n",
    "base + 2.26561 + 32.6186 + 0.241996 + -5.71512 + -3.74835 + 16.1363 + -1.51749 + 5.11547"
   ]
  },
  {
   "cell_type": "code",
   "execution_count": 66,
   "metadata": {},
   "outputs": [
    {
     "data": {
      "text/plain": [
       "441.4452865972379"
      ]
     },
     "execution_count": 66,
     "metadata": {},
     "output_type": "execute_result"
    }
   ],
   "source": [
    "# SeriousDlqin2yrs = 0\n",
    "base + 2.93861 + -6.64078 + 0.241996 + 7.04461 + -3.74835 + 0.384907 + -1.51749 + 3.2442"
   ]
  },
  {
   "cell_type": "code",
   "execution_count": 109,
   "metadata": {},
   "outputs": [],
   "source": [
    "# 输入对应的变量值，输入对应的得分\n",
    "def evaluate(var_scores, values, base):\n",
    "    tmp_values = [base, ]\n",
    "    for i,j in enumerate(values):\n",
    "        tmp_key = [x for x in var_scores[i+1] if float(x.split(':')[1].split(',')[0]) <= j and float(x.split(':')[1].split(',')[1]) > j]\n",
    "        #print tmp_key\n",
    "        tmp_values.append(var_scores[i+1][tmp_key[0]])\n",
    "    #print tmp_values, sum(tmp_values)\n",
    "    return tmp_values"
   ]
  },
  {
   "cell_type": "code",
   "execution_count": 103,
   "metadata": {},
   "outputs": [
    {
     "name": "stdout",
     "output_type": "stream",
     "text": [
      "['age:45,50']\n",
      "['NumberOfTime30-59DaysPastDueNotWorse:1,3']\n",
      "['DebtRatio:-inf,100']\n",
      "['MonthlyIncome:9000,10000']\n",
      "['NumberOfTimes90DaysLate:-inf,1']\n",
      "['NumberRealEstateLoansOrLines:5,7']\n",
      "['NumberOfTime60-89DaysPastDueNotWorse:-inf,1']\n",
      "['NumberOfDependents:2,3']\n",
      "[439.49758359723802, 2.26560640335083, 32.61856460571289, 0.24199645221233368, -5.7151198387146, -3.7483458518981934, 16.13629150390625, -1.5174940824508667, 5.115468978881836] 484.894551768\n"
     ]
    }
   ],
   "source": [
    "a = evaluate(var_scores,[45,2,0.802982129,9120,0,6,0,2], base)"
   ]
  },
  {
   "cell_type": "code",
   "execution_count": 131,
   "metadata": {},
   "outputs": [],
   "source": [
    "# 对train_filled中的数据进行评分统计，按照违约1或0的进行分别记录\n",
    "train_scores = {1:[],0:[]}\n",
    "for i in range(train_filled.shape[0]):\n",
    "    tmp_array = train_filled[i,:]\n",
    "    scores = evaluate(var_scores, tmp_array[1:], base)\n",
    "    train_scores[tmp_array[0]].append(sum(scores))"
   ]
  },
  {
   "cell_type": "code",
   "execution_count": 132,
   "metadata": {},
   "outputs": [
    {
     "name": "stdout",
     "output_type": "stream",
     "text": [
      "9879 139851\n"
     ]
    }
   ],
   "source": [
    "print len(train_scores[1]), len(train_scores[0])"
   ]
  },
  {
   "cell_type": "code",
   "execution_count": 133,
   "metadata": {},
   "outputs": [
    {
     "data": {
      "text/plain": [
       "<matplotlib.axes._subplots.AxesSubplot at 0x7f341cdbb810>"
      ]
     },
     "execution_count": 133,
     "metadata": {},
     "output_type": "execute_result"
    },
    {
     "data": {
      "image/png": "[encoded data removed]",
      "text/plain": [
       "<matplotlib.figure.Figure at 0x7f341cdb3a50>"
      ]
     },
     "metadata": {},
     "output_type": "display_data"
    }
   ],
   "source": [
    "sns.boxplot(train_scores[0])"
   ]
  },
  {
   "cell_type": "code",
   "execution_count": 134,
   "metadata": {},
   "outputs": [
    {
     "data": {
      "text/plain": [
       "<matplotlib.axes._subplots.AxesSubplot at 0x7f341ed56b10>"
      ]
     },
     "execution_count": 134,
     "metadata": {},
     "output_type": "execute_result"
    },
    {
     "data": {
      "image/png": "[encoded data removed]",
      "text/plain": [
       "<matplotlib.figure.Figure at 0x7f341e68bd90>"
      ]
     },
     "metadata": {},
     "output_type": "display_data"
    }
   ],
   "source": [
    "sns.boxplot(train_scores[1])"
   ]
  },
  {
   "cell_type": "code",
   "execution_count": 19,
   "metadata": {
    "scrolled": true
   },
   "outputs": [
    {
     "name": "stdout",
     "output_type": "stream",
     "text": [
      "718.137811912 -28.8539008178\n"
     ]
    }
   ],
   "source": [
    "from math import log\n",
    "B = -20/log(2)\n",
    "A = 600 + B * log(1/60.0)\n",
    "print A, B"
   ]
  },
  {
   "cell_type": "code",
   "execution_count": 20,
   "metadata": {},
   "outputs": [
    {
     "data": {
      "text/plain": [
       "600.0"
      ]
     },
     "execution_count": 20,
     "metadata": {},
     "output_type": "execute_result"
    }
   ],
   "source": [
    "A - B * log(1/60.0)"
   ]
  },
  {
   "cell_type": "code",
   "execution_count": 21,
   "metadata": {},
   "outputs": [
    {
     "data": {
      "text/plain": [
       "620.0"
      ]
     },
     "execution_count": 21,
     "metadata": {},
     "output_type": "execute_result"
    }
   ],
   "source": [
    "A - B * log(1/30.0)"
   ]
  }
 ],
 "metadata": {
  "kernelspec": {
   "display_name": "Python 2",
   "language": "python",
   "name": "python2"
  },
  "language_info": {
   "codemirror_mode": {
    "name": "ipython",
    "version": 2
   },
   "file_extension": ".py",
   "mimetype": "text/x-python",
   "name": "python",
   "nbconvert_exporter": "python",
   "pygments_lexer": "ipython2",
   "version": "2.7.14"
  }
 },
 "nbformat": 4,
 "nbformat_minor": 2
}
