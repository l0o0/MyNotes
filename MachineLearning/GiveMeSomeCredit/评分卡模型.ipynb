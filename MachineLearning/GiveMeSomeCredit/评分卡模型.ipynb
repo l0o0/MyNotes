{
 "cells": [
  {
   "cell_type": "code",
   "execution_count": 2,
   "metadata": {},
   "outputs": [],
   "source": [
    "import pandas as pd"
   ]
  },
  {
   "cell_type": "code",
   "execution_count": 3,
   "metadata": {},
   "outputs": [
    {
     "name": "stdout",
     "output_type": "stream",
     "text": [
      "Test data shape:  (101503, 12)\n",
      "Training data shape:  (150000, 12)\n"
     ]
    }
   ],
   "source": [
    "test = pd.read_csv('cs-test.csv')\n",
    "train = pd.read_csv('cs-training.csv')\n",
    "print \"Test data shape: \", test.shape\n",
    "print \"Training data shape: \", train.shape"
   ]
  },
  {
   "cell_type": "code",
   "execution_count": 4,
   "metadata": {
    "scrolled": true
   },
   "outputs": [
    {
     "data": {
      "text/html": [
       "<div>\n",
       "<style scoped>\n",
       "    .dataframe tbody tr th:only-of-type {\n",
       "        vertical-align: middle;\n",
       "    }\n",
       "\n",
       "    .dataframe tbody tr th {\n",
       "        vertical-align: top;\n",
       "    }\n",
       "\n",
       "    .dataframe thead th {\n",
       "        text-align: right;\n",
       "    }\n",
       "</style>\n",
       "<table border=\"1\" class=\"dataframe\">\n",
       "  <thead>\n",
       "    <tr style=\"text-align: right;\">\n",
       "      <th></th>\n",
       "      <th>Unnamed: 0</th>\n",
       "      <th>SeriousDlqin2yrs</th>\n",
       "      <th>RevolvingUtilizationOfUnsecuredLines</th>\n",
       "      <th>age</th>\n",
       "      <th>NumberOfTime30-59DaysPastDueNotWorse</th>\n",
       "      <th>DebtRatio</th>\n",
       "      <th>MonthlyIncome</th>\n",
       "      <th>NumberOfOpenCreditLinesAndLoans</th>\n",
       "      <th>NumberOfTimes90DaysLate</th>\n",
       "      <th>NumberRealEstateLoansOrLines</th>\n",
       "      <th>NumberOfTime60-89DaysPastDueNotWorse</th>\n",
       "      <th>NumberOfDependents</th>\n",
       "    </tr>\n",
       "  </thead>\n",
       "  <tbody>\n",
       "    <tr>\n",
       "      <th>0</th>\n",
       "      <td>1</td>\n",
       "      <td>NaN</td>\n",
       "      <td>0.885519</td>\n",
       "      <td>43</td>\n",
       "      <td>0</td>\n",
       "      <td>0.177513</td>\n",
       "      <td>5700.0</td>\n",
       "      <td>4</td>\n",
       "      <td>0</td>\n",
       "      <td>0</td>\n",
       "      <td>0</td>\n",
       "      <td>0.0</td>\n",
       "    </tr>\n",
       "    <tr>\n",
       "      <th>1</th>\n",
       "      <td>2</td>\n",
       "      <td>NaN</td>\n",
       "      <td>0.463295</td>\n",
       "      <td>57</td>\n",
       "      <td>0</td>\n",
       "      <td>0.527237</td>\n",
       "      <td>9141.0</td>\n",
       "      <td>15</td>\n",
       "      <td>0</td>\n",
       "      <td>4</td>\n",
       "      <td>0</td>\n",
       "      <td>2.0</td>\n",
       "    </tr>\n",
       "    <tr>\n",
       "      <th>2</th>\n",
       "      <td>3</td>\n",
       "      <td>NaN</td>\n",
       "      <td>0.043275</td>\n",
       "      <td>59</td>\n",
       "      <td>0</td>\n",
       "      <td>0.687648</td>\n",
       "      <td>5083.0</td>\n",
       "      <td>12</td>\n",
       "      <td>0</td>\n",
       "      <td>1</td>\n",
       "      <td>0</td>\n",
       "      <td>2.0</td>\n",
       "    </tr>\n",
       "    <tr>\n",
       "      <th>3</th>\n",
       "      <td>4</td>\n",
       "      <td>NaN</td>\n",
       "      <td>0.280308</td>\n",
       "      <td>38</td>\n",
       "      <td>1</td>\n",
       "      <td>0.925961</td>\n",
       "      <td>3200.0</td>\n",
       "      <td>7</td>\n",
       "      <td>0</td>\n",
       "      <td>2</td>\n",
       "      <td>0</td>\n",
       "      <td>0.0</td>\n",
       "    </tr>\n",
       "    <tr>\n",
       "      <th>4</th>\n",
       "      <td>5</td>\n",
       "      <td>NaN</td>\n",
       "      <td>1.000000</td>\n",
       "      <td>27</td>\n",
       "      <td>0</td>\n",
       "      <td>0.019917</td>\n",
       "      <td>3865.0</td>\n",
       "      <td>4</td>\n",
       "      <td>0</td>\n",
       "      <td>0</td>\n",
       "      <td>0</td>\n",
       "      <td>1.0</td>\n",
       "    </tr>\n",
       "  </tbody>\n",
       "</table>\n",
       "</div>"
      ],
      "text/plain": [
       "   Unnamed: 0  SeriousDlqin2yrs  RevolvingUtilizationOfUnsecuredLines  age  \\\n",
       "0           1               NaN                              0.885519   43   \n",
       "1           2               NaN                              0.463295   57   \n",
       "2           3               NaN                              0.043275   59   \n",
       "3           4               NaN                              0.280308   38   \n",
       "4           5               NaN                              1.000000   27   \n",
       "\n",
       "   NumberOfTime30-59DaysPastDueNotWorse  DebtRatio  MonthlyIncome  \\\n",
       "0                                     0   0.177513         5700.0   \n",
       "1                                     0   0.527237         9141.0   \n",
       "2                                     0   0.687648         5083.0   \n",
       "3                                     1   0.925961         3200.0   \n",
       "4                                     0   0.019917         3865.0   \n",
       "\n",
       "   NumberOfOpenCreditLinesAndLoans  NumberOfTimes90DaysLate  \\\n",
       "0                                4                        0   \n",
       "1                               15                        0   \n",
       "2                               12                        0   \n",
       "3                                7                        0   \n",
       "4                                4                        0   \n",
       "\n",
       "   NumberRealEstateLoansOrLines  NumberOfTime60-89DaysPastDueNotWorse  \\\n",
       "0                             0                                     0   \n",
       "1                             4                                     0   \n",
       "2                             1                                     0   \n",
       "3                             2                                     0   \n",
       "4                             0                                     0   \n",
       "\n",
       "   NumberOfDependents  \n",
       "0                 0.0  \n",
       "1                 2.0  \n",
       "2                 2.0  \n",
       "3                 0.0  \n",
       "4                 1.0  "
      ]
     },
     "metadata": {},
     "output_type": "display_data"
    },
    {
     "name": "stdout",
     "output_type": "stream",
     "text": [
      "- - - - - - - - - - - - - - - - - - - - - - - - - - - - - - - - - - - - - - - - \n"
     ]
    },
    {
     "data": {
      "text/html": [
       "<div>\n",
       "<style scoped>\n",
       "    .dataframe tbody tr th:only-of-type {\n",
       "        vertical-align: middle;\n",
       "    }\n",
       "\n",
       "    .dataframe tbody tr th {\n",
       "        vertical-align: top;\n",
       "    }\n",
       "\n",
       "    .dataframe thead th {\n",
       "        text-align: right;\n",
       "    }\n",
       "</style>\n",
       "<table border=\"1\" class=\"dataframe\">\n",
       "  <thead>\n",
       "    <tr style=\"text-align: right;\">\n",
       "      <th></th>\n",
       "      <th>Unnamed: 0</th>\n",
       "      <th>SeriousDlqin2yrs</th>\n",
       "      <th>RevolvingUtilizationOfUnsecuredLines</th>\n",
       "      <th>age</th>\n",
       "      <th>NumberOfTime30-59DaysPastDueNotWorse</th>\n",
       "      <th>DebtRatio</th>\n",
       "      <th>MonthlyIncome</th>\n",
       "      <th>NumberOfOpenCreditLinesAndLoans</th>\n",
       "      <th>NumberOfTimes90DaysLate</th>\n",
       "      <th>NumberRealEstateLoansOrLines</th>\n",
       "      <th>NumberOfTime60-89DaysPastDueNotWorse</th>\n",
       "      <th>NumberOfDependents</th>\n",
       "    </tr>\n",
       "  </thead>\n",
       "  <tbody>\n",
       "    <tr>\n",
       "      <th>0</th>\n",
       "      <td>1</td>\n",
       "      <td>1</td>\n",
       "      <td>0.766127</td>\n",
       "      <td>45</td>\n",
       "      <td>2</td>\n",
       "      <td>0.802982</td>\n",
       "      <td>9120.0</td>\n",
       "      <td>13</td>\n",
       "      <td>0</td>\n",
       "      <td>6</td>\n",
       "      <td>0</td>\n",
       "      <td>2.0</td>\n",
       "    </tr>\n",
       "    <tr>\n",
       "      <th>1</th>\n",
       "      <td>2</td>\n",
       "      <td>0</td>\n",
       "      <td>0.957151</td>\n",
       "      <td>40</td>\n",
       "      <td>0</td>\n",
       "      <td>0.121876</td>\n",
       "      <td>2600.0</td>\n",
       "      <td>4</td>\n",
       "      <td>0</td>\n",
       "      <td>0</td>\n",
       "      <td>0</td>\n",
       "      <td>1.0</td>\n",
       "    </tr>\n",
       "    <tr>\n",
       "      <th>2</th>\n",
       "      <td>3</td>\n",
       "      <td>0</td>\n",
       "      <td>0.658180</td>\n",
       "      <td>38</td>\n",
       "      <td>1</td>\n",
       "      <td>0.085113</td>\n",
       "      <td>3042.0</td>\n",
       "      <td>2</td>\n",
       "      <td>1</td>\n",
       "      <td>0</td>\n",
       "      <td>0</td>\n",
       "      <td>0.0</td>\n",
       "    </tr>\n",
       "    <tr>\n",
       "      <th>3</th>\n",
       "      <td>4</td>\n",
       "      <td>0</td>\n",
       "      <td>0.233810</td>\n",
       "      <td>30</td>\n",
       "      <td>0</td>\n",
       "      <td>0.036050</td>\n",
       "      <td>3300.0</td>\n",
       "      <td>5</td>\n",
       "      <td>0</td>\n",
       "      <td>0</td>\n",
       "      <td>0</td>\n",
       "      <td>0.0</td>\n",
       "    </tr>\n",
       "    <tr>\n",
       "      <th>4</th>\n",
       "      <td>5</td>\n",
       "      <td>0</td>\n",
       "      <td>0.907239</td>\n",
       "      <td>49</td>\n",
       "      <td>1</td>\n",
       "      <td>0.024926</td>\n",
       "      <td>63588.0</td>\n",
       "      <td>7</td>\n",
       "      <td>0</td>\n",
       "      <td>1</td>\n",
       "      <td>0</td>\n",
       "      <td>0.0</td>\n",
       "    </tr>\n",
       "  </tbody>\n",
       "</table>\n",
       "</div>"
      ],
      "text/plain": [
       "   Unnamed: 0  SeriousDlqin2yrs  RevolvingUtilizationOfUnsecuredLines  age  \\\n",
       "0           1                 1                              0.766127   45   \n",
       "1           2                 0                              0.957151   40   \n",
       "2           3                 0                              0.658180   38   \n",
       "3           4                 0                              0.233810   30   \n",
       "4           5                 0                              0.907239   49   \n",
       "\n",
       "   NumberOfTime30-59DaysPastDueNotWorse  DebtRatio  MonthlyIncome  \\\n",
       "0                                     2   0.802982         9120.0   \n",
       "1                                     0   0.121876         2600.0   \n",
       "2                                     1   0.085113         3042.0   \n",
       "3                                     0   0.036050         3300.0   \n",
       "4                                     1   0.024926        63588.0   \n",
       "\n",
       "   NumberOfOpenCreditLinesAndLoans  NumberOfTimes90DaysLate  \\\n",
       "0                               13                        0   \n",
       "1                                4                        0   \n",
       "2                                2                        1   \n",
       "3                                5                        0   \n",
       "4                                7                        0   \n",
       "\n",
       "   NumberRealEstateLoansOrLines  NumberOfTime60-89DaysPastDueNotWorse  \\\n",
       "0                             6                                     0   \n",
       "1                             0                                     0   \n",
       "2                             0                                     0   \n",
       "3                             0                                     0   \n",
       "4                             1                                     0   \n",
       "\n",
       "   NumberOfDependents  \n",
       "0                 2.0  \n",
       "1                 1.0  \n",
       "2                 0.0  \n",
       "3                 0.0  \n",
       "4                 0.0  "
      ]
     },
     "metadata": {},
     "output_type": "display_data"
    }
   ],
   "source": [
    "display(test.head())\n",
    "print '- - ' * 20\n",
    "display(train.head())"
   ]
  },
  {
   "cell_type": "code",
   "execution_count": 5,
   "metadata": {
    "scrolled": false
   },
   "outputs": [
    {
     "data": {
      "text/html": [
       "<div>\n",
       "<style scoped>\n",
       "    .dataframe tbody tr th:only-of-type {\n",
       "        vertical-align: middle;\n",
       "    }\n",
       "\n",
       "    .dataframe tbody tr th {\n",
       "        vertical-align: top;\n",
       "    }\n",
       "\n",
       "    .dataframe thead th {\n",
       "        text-align: right;\n",
       "    }\n",
       "</style>\n",
       "<table border=\"1\" class=\"dataframe\">\n",
       "  <thead>\n",
       "    <tr style=\"text-align: right;\">\n",
       "      <th></th>\n",
       "      <th>Variable Name</th>\n",
       "      <th>Description</th>\n",
       "      <th>Type</th>\n",
       "    </tr>\n",
       "  </thead>\n",
       "  <tbody>\n",
       "    <tr>\n",
       "      <th>0</th>\n",
       "      <td>SeriousDlqin2yrs</td>\n",
       "      <td>Person experienced 90 days past due delinquenc...</td>\n",
       "      <td>Y/N</td>\n",
       "    </tr>\n",
       "    <tr>\n",
       "      <th>1</th>\n",
       "      <td>RevolvingUtilizationOfUnsecuredLines</td>\n",
       "      <td>Total balance on credit cards and personal lin...</td>\n",
       "      <td>percentage</td>\n",
       "    </tr>\n",
       "    <tr>\n",
       "      <th>2</th>\n",
       "      <td>age</td>\n",
       "      <td>Age of borrower in years</td>\n",
       "      <td>integer</td>\n",
       "    </tr>\n",
       "    <tr>\n",
       "      <th>3</th>\n",
       "      <td>NumberOfTime30-59DaysPastDueNotWorse</td>\n",
       "      <td>Number of times borrower has been 30-59 days p...</td>\n",
       "      <td>integer</td>\n",
       "    </tr>\n",
       "    <tr>\n",
       "      <th>4</th>\n",
       "      <td>DebtRatio</td>\n",
       "      <td>Monthly debt payments, alimony,living costs di...</td>\n",
       "      <td>percentage</td>\n",
       "    </tr>\n",
       "    <tr>\n",
       "      <th>5</th>\n",
       "      <td>MonthlyIncome</td>\n",
       "      <td>Monthly income</td>\n",
       "      <td>real</td>\n",
       "    </tr>\n",
       "    <tr>\n",
       "      <th>6</th>\n",
       "      <td>NumberOfOpenCreditLinesAndLoans</td>\n",
       "      <td>Number of Open loans (installment like car loa...</td>\n",
       "      <td>integer</td>\n",
       "    </tr>\n",
       "    <tr>\n",
       "      <th>7</th>\n",
       "      <td>NumberOfTimes90DaysLate</td>\n",
       "      <td>Number of times borrower has been 90 days or m...</td>\n",
       "      <td>integer</td>\n",
       "    </tr>\n",
       "    <tr>\n",
       "      <th>8</th>\n",
       "      <td>NumberRealEstateLoansOrLines</td>\n",
       "      <td>Number of mortgage and real estate loans inclu...</td>\n",
       "      <td>integer</td>\n",
       "    </tr>\n",
       "    <tr>\n",
       "      <th>9</th>\n",
       "      <td>NumberOfTime60-89DaysPastDueNotWorse</td>\n",
       "      <td>Number of times borrower has been 60-89 days p...</td>\n",
       "      <td>integer</td>\n",
       "    </tr>\n",
       "    <tr>\n",
       "      <th>10</th>\n",
       "      <td>NumberOfDependents</td>\n",
       "      <td>Number of dependents in family excluding thems...</td>\n",
       "      <td>integer</td>\n",
       "    </tr>\n",
       "  </tbody>\n",
       "</table>\n",
       "</div>"
      ],
      "text/plain": [
       "                           Variable Name  \\\n",
       "0                       SeriousDlqin2yrs   \n",
       "1   RevolvingUtilizationOfUnsecuredLines   \n",
       "2                                    age   \n",
       "3   NumberOfTime30-59DaysPastDueNotWorse   \n",
       "4                              DebtRatio   \n",
       "5                          MonthlyIncome   \n",
       "6        NumberOfOpenCreditLinesAndLoans   \n",
       "7                NumberOfTimes90DaysLate   \n",
       "8           NumberRealEstateLoansOrLines   \n",
       "9   NumberOfTime60-89DaysPastDueNotWorse   \n",
       "10                    NumberOfDependents   \n",
       "\n",
       "                                          Description        Type  \n",
       "0   Person experienced 90 days past due delinquenc...         Y/N  \n",
       "1   Total balance on credit cards and personal lin...  percentage  \n",
       "2                            Age of borrower in years     integer  \n",
       "3   Number of times borrower has been 30-59 days p...     integer  \n",
       "4   Monthly debt payments, alimony,living costs di...  percentage  \n",
       "5                                      Monthly income        real  \n",
       "6   Number of Open loans (installment like car loa...     integer  \n",
       "7   Number of times borrower has been 90 days or m...     integer  \n",
       "8   Number of mortgage and real estate loans inclu...     integer  \n",
       "9   Number of times borrower has been 60-89 days p...     integer  \n",
       "10  Number of dependents in family excluding thems...     integer  "
      ]
     },
     "metadata": {},
     "output_type": "display_data"
    }
   ],
   "source": [
    "# cs_train 和 cs_test 中表头含义的说明\n",
    "datatype = pd.read_excel('Data Dictionary.xls')\n",
    "display(datatype)"
   ]
  },
  {
   "cell_type": "markdown",
   "metadata": {},
   "source": [
    "## 数据类别的划分\n",
    "\n",
    "1. 基本属性：age（年龄）\n",
    "2. 财产状况：NumberOfOpenCreditLinesAndLoans（开放式贷款和信贷），NumberRealEstateLoansOrLines（不动产抵押贷款或房屋将会信贷额度）\n",
    "3. 信用状况：NumberOfTimes90DaysLate（逾期>=90天），NumberOfTime60-89DaysPastDueNotWorse（逾期60-89天的次数），NumberOfTime30-59DaysPastDueNotWorse（逾期30-59天的次数）\n",
    "4. 偿还能力：MonthlyIncome（月收入），DebtRatio（负债率）\n",
    "5. 其他因素：NumberOfDependents（家属数量）\n",
    "\n",
    "其中**SeriousDlqin2yrs**应该是我们需要进行预测的**y**值，其他数据属于基本变量。"
   ]
  },
  {
   "cell_type": "code",
   "execution_count": 6,
   "metadata": {},
   "outputs": [],
   "source": [
    "import seaborn as sns\n",
    "%matplotlib inline"
   ]
  },
  {
   "cell_type": "code",
   "execution_count": 23,
   "metadata": {},
   "outputs": [
    {
     "data": {
      "image/png": "[encoded data removed]",
      "text/plain": [
       "<matplotlib.figure.Figure at 0xd4dca90>"
      ]
     },
     "metadata": {},
     "output_type": "display_data"
    }
   ],
   "source": [
    "sns.set_style(\"whitegrid\")\n",
    "tips = sns.load_dataset(\"tips\")\n",
    "ax = sns.boxplot(x=tips[\"day\"], y=tips['total_bill'])"
   ]
  },
  {
   "cell_type": "code",
   "execution_count": 22,
   "metadata": {},
   "outputs": [
    {
     "data": {
      "text/html": [
       "<div>\n",
       "<style>\n",
       "    .dataframe thead tr:only-child th {\n",
       "        text-align: right;\n",
       "    }\n",
       "\n",
       "    .dataframe thead th {\n",
       "        text-align: left;\n",
       "    }\n",
       "\n",
       "    .dataframe tbody tr th {\n",
       "        vertical-align: top;\n",
       "    }\n",
       "</style>\n",
       "<table border=\"1\" class=\"dataframe\">\n",
       "  <thead>\n",
       "    <tr style=\"text-align: right;\">\n",
       "      <th></th>\n",
       "      <th>total_bill</th>\n",
       "      <th>tip</th>\n",
       "      <th>sex</th>\n",
       "      <th>smoker</th>\n",
       "      <th>day</th>\n",
       "      <th>time</th>\n",
       "      <th>size</th>\n",
       "    </tr>\n",
       "  </thead>\n",
       "  <tbody>\n",
       "    <tr>\n",
       "      <th>0</th>\n",
       "      <td>16.99</td>\n",
       "      <td>1.01</td>\n",
       "      <td>Female</td>\n",
       "      <td>No</td>\n",
       "      <td>Sun</td>\n",
       "      <td>Dinner</td>\n",
       "      <td>2</td>\n",
       "    </tr>\n",
       "    <tr>\n",
       "      <th>1</th>\n",
       "      <td>10.34</td>\n",
       "      <td>1.66</td>\n",
       "      <td>Male</td>\n",
       "      <td>No</td>\n",
       "      <td>Sun</td>\n",
       "      <td>Dinner</td>\n",
       "      <td>3</td>\n",
       "    </tr>\n",
       "    <tr>\n",
       "      <th>2</th>\n",
       "      <td>21.01</td>\n",
       "      <td>3.50</td>\n",
       "      <td>Male</td>\n",
       "      <td>No</td>\n",
       "      <td>Sun</td>\n",
       "      <td>Dinner</td>\n",
       "      <td>3</td>\n",
       "    </tr>\n",
       "    <tr>\n",
       "      <th>3</th>\n",
       "      <td>23.68</td>\n",
       "      <td>3.31</td>\n",
       "      <td>Male</td>\n",
       "      <td>No</td>\n",
       "      <td>Sun</td>\n",
       "      <td>Dinner</td>\n",
       "      <td>2</td>\n",
       "    </tr>\n",
       "    <tr>\n",
       "      <th>4</th>\n",
       "      <td>24.59</td>\n",
       "      <td>3.61</td>\n",
       "      <td>Female</td>\n",
       "      <td>No</td>\n",
       "      <td>Sun</td>\n",
       "      <td>Dinner</td>\n",
       "      <td>4</td>\n",
       "    </tr>\n",
       "  </tbody>\n",
       "</table>\n",
       "</div>"
      ],
      "text/plain": [
       "   total_bill   tip     sex smoker  day    time  size\n",
       "0       16.99  1.01  Female     No  Sun  Dinner     2\n",
       "1       10.34  1.66    Male     No  Sun  Dinner     3\n",
       "2       21.01  3.50    Male     No  Sun  Dinner     3\n",
       "3       23.68  3.31    Male     No  Sun  Dinner     2\n",
       "4       24.59  3.61  Female     No  Sun  Dinner     4"
      ]
     },
     "metadata": {},
     "output_type": "display_data"
    }
   ],
   "source": [
    "display(tips.head())"
   ]
  },
  {
   "cell_type": "markdown",
   "metadata": {},
   "source": [
    "## 1. 缺失值的处理\n",
    "\n",
    "首先观察一下Train数据集中各行中缺失值的比例"
   ]
  },
  {
   "cell_type": "code",
   "execution_count": 7,
   "metadata": {},
   "outputs": [],
   "source": [
    "import numpy as np\n",
    "# 去除序列号列\n",
    "train = train.drop('Unnamed: 0', axis=1)"
   ]
  },
  {
   "cell_type": "code",
   "execution_count": 7,
   "metadata": {
    "scrolled": true
   },
   "outputs": [
    {
     "name": "stdout",
     "output_type": "stream",
     "text": [
      "SeriousDlqin2yrs\tNAN: 0, ratio:0.00%\n",
      "RevolvingUtilizationOfUnsecuredLines\tNAN: 0, ratio:0.00%\n",
      "age\tNAN: 0, ratio:0.00%\n",
      "NumberOfTime30-59DaysPastDueNotWorse\tNAN: 0, ratio:0.00%\n",
      "DebtRatio\tNAN: 0, ratio:0.00%\n",
      "MonthlyIncome\tNAN: 29731, ratio:19.82%\n",
      "NumberOfOpenCreditLinesAndLoans\tNAN: 0, ratio:0.00%\n",
      "NumberOfTimes90DaysLate\tNAN: 0, ratio:0.00%\n",
      "NumberRealEstateLoansOrLines\tNAN: 0, ratio:0.00%\n",
      "NumberOfTime60-89DaysPastDueNotWorse\tNAN: 0, ratio:0.00%\n",
      "NumberOfDependents\tNAN: 3924, ratio:2.62%\n"
     ]
    }
   ],
   "source": [
    "# 统计每列数据中NAN值的比例\n",
    "for col in train.columns:\n",
    "    nanCount = np.count_nonzero(np.isnan(train[col]))\n",
    "    print \"%s\\tNAN: %s, ratio:%.2f%%\" %(col, nanCount, nanCount/150000.0*100)"
   ]
  },
  {
   "cell_type": "markdown",
   "metadata": {},
   "source": [
    "可以看到在**MonthlyIncome**和**NumberOfDependents**存在缺失，分别有29731和3924个，其中MonthlyIncome缺失比例比较大。缺失值的处理方法有基于聚类，基于回归，基于均值，去除等。因为这里所占的比例比较大，不能简单的去除。这里借助`fancyimpute`中的KNN方法，对缺失值进行补全。"
   ]
  },
  {
   "cell_type": "code",
   "execution_count": 21,
   "metadata": {},
   "outputs": [],
   "source": [
    "from fancyimpute import KNN\n",
    "\n",
    "# 没有必要对字符型数据进行过滤\n",
    "#tmpNum = train.select_dtypes(include=[np.float])\n",
    "#print tmpNum.shape, tmpNum.columns\n",
    "newList = [KNN(k=5, verbose=False).complete(x) for x in np.array_split(train, 15)]\n"
   ]
  },
  {
   "cell_type": "code",
   "execution_count": 57,
   "metadata": {},
   "outputs": [],
   "source": [
    "train_filled = np.concatenate(newList)"
   ]
  },
  {
   "cell_type": "code",
   "execution_count": 15,
   "metadata": {},
   "outputs": [],
   "source": [
    "# 将缺失值实例的结果保存到文件中\n",
    "#np.savetxt('train_filled.txt', train_filled, header=' '.join(train.columns.tolist()))\n",
    "train_filled = np.loadtxt('train_filled.txt')"
   ]
  },
  {
   "cell_type": "markdown",
   "metadata": {},
   "source": [
    "## 2. 变量分析"
   ]
  },
  {
   "cell_type": "code",
   "execution_count": 12,
   "metadata": {},
   "outputs": [
    {
     "name": "stdout",
     "output_type": "stream",
     "text": [
      "(150000, 10)\n"
     ]
    }
   ],
   "source": [
    "print train_filled.shape"
   ]
  },
  {
   "cell_type": "code",
   "execution_count": 16,
   "metadata": {},
   "outputs": [
    {
     "data": {
      "text/plain": [
       "<matplotlib.axes._subplots.AxesSubplot at 0x7f035a68ec90>"
      ]
     },
     "execution_count": 16,
     "metadata": {},
     "output_type": "execute_result"
    },
    {
     "data": {
      "image/png": "[encoded data removed]",
      "text/plain": [
       "<matplotlib.figure.Figure at 0x7f035a68e6d0>"
      ]
     },
     "metadata": {},
     "output_type": "display_data"
    }
   ],
   "source": [
    "# 对年龄分布进行统计\n",
    "sns.distplot(train_filled[:,2])"
   ]
  },
  {
   "cell_type": "code",
   "execution_count": 49,
   "metadata": {},
   "outputs": [
    {
     "data": {
      "text/plain": [
       "<matplotlib.axes._subplots.AxesSubplot at 0x7f0cd127f750>"
      ]
     },
     "execution_count": 49,
     "metadata": {},
     "output_type": "execute_result"
    },
    {
     "data": {
      "image/png": "[encoded data removed]",
      "text/plain": [
       "<matplotlib.figure.Figure at 0x7f0cd1294c50>"
      ]
     },
     "metadata": {},
     "output_type": "display_data"
    }
   ],
   "source": [
    "# 月收分布\n",
    "sns.distplot(train_filled[:,5])"
   ]
  },
  {
   "cell_type": "code",
   "execution_count": 52,
   "metadata": {},
   "outputs": [
    {
     "data": {
      "text/plain": [
       "<matplotlib.axes._subplots.AxesSubplot at 0x7f0cd11c0b90>"
      ]
     },
     "execution_count": 52,
     "metadata": {},
     "output_type": "execute_result"
    },
    {
     "data": {
      "image/png": "[encoded data removed]",
      "text/plain": [
       "<matplotlib.figure.Figure at 0x7f0cd760d590>"
      ]
     },
     "metadata": {},
     "output_type": "display_data"
    }
   ],
   "source": [
    "# 月收入在0-20000之间的分布\n",
    "sns.distplot(train_filled[train_filled[:,4] < 20000,4])"
   ]
  },
  {
   "cell_type": "code",
   "execution_count": 56,
   "metadata": {},
   "outputs": [
    {
     "name": "stdout",
     "output_type": "stream",
     "text": [
      "RevolvingUtilizationOfUnsecuredLines X age\n",
      "(-0.0058981829864683793, 0.022350542122401579)\n",
      "RevolvingUtilizationOfUnsecuredLines X NumberOfTime30-59DaysPastDueNotWorse\n",
      "(-0.0013135009632522091, 0.61095360810196953)\n",
      "RevolvingUtilizationOfUnsecuredLines X DebtRatio\n",
      "(0.0039612049761634655, 0.1249899698845367)\n",
      "RevolvingUtilizationOfUnsecuredLines X MonthlyIncome\n",
      "(0.0090486818779366776, 0.00045732478072391114)\n",
      "RevolvingUtilizationOfUnsecuredLines X NumberOfOpenCreditLinesAndLoans\n",
      "(-0.011280732694152529, 1.247530166826671e-05)\n",
      "RevolvingUtilizationOfUnsecuredLines X NumberOfTimes90DaysLate\n",
      "(-0.001061246378135609, 0.68106106251649889)\n",
      "RevolvingUtilizationOfUnsecuredLines X NumberRealEstateLoansOrLines\n",
      "(0.0062347134238417172, 0.015748283927398694)\n",
      "RevolvingUtilizationOfUnsecuredLines X NumberOfTime60-89DaysPastDueNotWorse\n",
      "(-0.0010478272157644858, 0.68487599013541467)\n",
      "RevolvingUtilizationOfUnsecuredLines X NumberOfDependents\n",
      "(0.0024136868101047103, 0.34988599149809962)\n",
      "age X NumberOfTime30-59DaysPastDueNotWorse\n",
      "(-0.06299515780108525, 9.9930869715705446e-132)\n",
      "age X DebtRatio\n",
      "(0.024187804139156863, 7.3092117998801911e-21)\n",
      "age X MonthlyIncome\n",
      "(0.010217866884626657, 7.5759481004680318e-05)\n",
      "age X NumberOfOpenCreditLinesAndLoans\n",
      "(0.14770531827119118, 0.0)\n",
      "age X NumberOfTimes90DaysLate\n",
      "(-0.061004708276062719, 1.2128667725658521e-123)\n",
      "age X NumberRealEstateLoansOrLines\n",
      "(0.033150272947223912, 9.4803342334117682e-38)\n",
      "age X NumberOfTime60-89DaysPastDueNotWorse\n",
      "(-0.057159464299109272, 9.1931017445977252e-109)\n",
      "age X NumberOfDependents\n",
      "(-0.21617873790532149, 0.0)\n",
      "NumberOfTime30-59DaysPastDueNotWorse X DebtRatio\n",
      "(-0.0065419227904730138, 0.011287117504908614)\n",
      "NumberOfTime30-59DaysPastDueNotWorse X MonthlyIncome\n",
      "(-0.0086357685699301676, 0.0008238549371917945)\n",
      "NumberOfTime30-59DaysPastDueNotWorse X NumberOfOpenCreditLinesAndLoans\n",
      "(-0.055312236174244786, 5.8379356260896848e-102)\n",
      "NumberOfTime30-59DaysPastDueNotWorse X NumberOfTimes90DaysLate\n",
      "(0.98360268128207129, 0.0)\n",
      "NumberOfTime30-59DaysPastDueNotWorse X NumberRealEstateLoansOrLines\n",
      "(-0.030564534653276063, 2.4170035906353033e-32)\n",
      "NumberOfTime30-59DaysPastDueNotWorse X NumberOfTime60-89DaysPastDueNotWorse\n",
      "(0.98700544747994601, 0.0)\n",
      "NumberOfTime30-59DaysPastDueNotWorse X NumberOfDependents\n",
      "(-0.0046553809028681706, 0.071385699646030074)\n",
      "DebtRatio X MonthlyIncome\n",
      "(-0.07147850681954046, 4.1519586190025052e-169)\n",
      "DebtRatio X NumberOfOpenCreditLinesAndLoans\n",
      "(0.04956528631507208, 3.160434925343748e-82)\n",
      "DebtRatio X NumberOfTimes90DaysLate\n",
      "(-0.0083196401068189787, 0.0012720512517447021)\n",
      "DebtRatio X NumberRealEstateLoansOrLines\n",
      "(0.12004602812504978, 0.0)\n",
      "DebtRatio X NumberOfTime60-89DaysPastDueNotWorse\n",
      "(-0.0075330993093348083, 0.0035276605017632843)\n",
      "DebtRatio X NumberOfDependents\n",
      "(-0.040488716437275342, 1.8412615261133248e-55)\n",
      "MonthlyIncome X NumberOfOpenCreditLinesAndLoans\n",
      "(0.098670957119227951, 4.4614127819464563e-321)\n",
      "MonthlyIncome X NumberOfTimes90DaysLate\n",
      "(-0.011631783893789896, 6.6346262052436779e-06)\n",
      "MonthlyIncome X NumberRealEstateLoansOrLines\n",
      "(0.1189600979917713, 0.0)\n",
      "MonthlyIncome X NumberOfTime60-89DaysPastDueNotWorse\n",
      "(-0.01032223847457382, 6.391801843211958e-05)\n",
      "MonthlyIncome X NumberOfDependents\n",
      "(0.093228718165735316, 1.0161977486222812e-286)\n",
      "NumberOfOpenCreditLinesAndLoans X NumberOfTimes90DaysLate\n",
      "(-0.079984349780618316, 2.3121803332638885e-211)\n",
      "NumberOfOpenCreditLinesAndLoans X NumberRealEstateLoansOrLines\n",
      "(0.43395860305532019, 0.0)\n",
      "NumberOfOpenCreditLinesAndLoans X NumberOfTime60-89DaysPastDueNotWorse\n",
      "(-0.071076734958510968, 3.1314972300795735e-167)\n",
      "NumberOfOpenCreditLinesAndLoans X NumberOfDependents\n",
      "(0.071540730220484655, 2.1209305448682801e-169)\n",
      "NumberOfTimes90DaysLate X NumberRealEstateLoansOrLines\n",
      "(-0.045205216455485218, 1.0682079761883511e-68)\n",
      "NumberOfTimes90DaysLate X NumberOfTime60-89DaysPastDueNotWorse\n",
      "(0.99279618259160063, 0.0)\n",
      "NumberOfTimes90DaysLate X NumberOfDependents\n",
      "(-0.011989256664051706, 3.4247750796006651e-06)\n",
      "NumberRealEstateLoansOrLines X NumberOfTime60-89DaysPastDueNotWorse\n",
      "(-0.039722332366855857, 1.9003484449139591e-53)\n",
      "NumberRealEstateLoansOrLines X NumberOfDependents\n",
      "(0.1290270156796722, 0.0)\n",
      "NumberOfTime60-89DaysPastDueNotWorse X NumberOfDependents\n",
      "(-0.012735203030669204, 8.1191336167060582e-07)\n"
     ]
    }
   ],
   "source": [
    "from scipy.stats.stats import pearsonr   \n",
    "for i in range(10):\n",
    "    for j in range(i+1, 10):\n",
    "        c = pearsonr(train_filled[:,i], train_filled[:,j])\n",
    "        print \"%s X %s\" % (train.columns[i+1], train.columns[j+1])\n",
    "        print c"
   ]
  },
  {
   "cell_type": "markdown",
   "metadata": {},
   "source": [
    "## 3. logistic线性回归"
   ]
  },
  {
   "cell_type": "code",
   "execution_count": 29,
   "metadata": {},
   "outputs": [],
   "source": [
    "from sklearn.linear_model import LogisticRegression\n",
    "clf = LogisticRegression()"
   ]
  },
  {
   "cell_type": "markdown",
   "metadata": {},
   "source": [
    "因为SeriousDlqin2yrs列中0和1的分布差异很大，所以在拆分数据时，应该考虑两个值的比例的平衡。"
   ]
  },
  {
   "cell_type": "code",
   "execution_count": 17,
   "metadata": {},
   "outputs": [],
   "source": [
    "from sklearn.model_selection import train_test_split\n",
    "X = train_filled[:,1:]\n",
    "y = train_filled[:,0]\n",
    "X_train, X_test, y_train, y_test = train_test_split(X, y, stratify=y, train_size=0.8)"
   ]
  },
  {
   "cell_type": "code",
   "execution_count": 62,
   "metadata": {},
   "outputs": [
    {
     "data": {
      "text/plain": [
       "0.06684166666666666"
      ]
     },
     "execution_count": 62,
     "metadata": {},
     "output_type": "execute_result"
    }
   ],
   "source": [
    "np.count_nonzero(y_train) / float(len(y_train))"
   ]
  },
  {
   "cell_type": "code",
   "execution_count": 63,
   "metadata": {},
   "outputs": [
    {
     "data": {
      "text/plain": [
       "0.06683333333333333"
      ]
     },
     "execution_count": 63,
     "metadata": {},
     "output_type": "execute_result"
    }
   ],
   "source": [
    "np.count_nonzero(y_test) / float(len(y_test))"
   ]
  },
  {
   "cell_type": "code",
   "execution_count": 30,
   "metadata": {},
   "outputs": [
    {
     "data": {
      "text/plain": [
       "LogisticRegression(C=1.0, class_weight=None, dual=False, fit_intercept=True,\n",
       "          intercept_scaling=1, max_iter=100, multi_class='ovr', n_jobs=1,\n",
       "          penalty='l2', random_state=None, solver='liblinear', tol=0.0001,\n",
       "          verbose=0, warm_start=False)"
      ]
     },
     "execution_count": 30,
     "metadata": {},
     "output_type": "execute_result"
    }
   ],
   "source": [
    "clf.fit(X_train, y_train)"
   ]
  },
  {
   "cell_type": "code",
   "execution_count": 56,
   "metadata": {},
   "outputs": [
    {
     "data": {
      "text/plain": [
       "(120000, 10)"
      ]
     },
     "execution_count": 56,
     "metadata": {},
     "output_type": "execute_result"
    }
   ],
   "source": [
    "X_train.shape"
   ]
  },
  {
   "cell_type": "code",
   "execution_count": 26,
   "metadata": {},
   "outputs": [
    {
     "name": "stdout",
     "output_type": "stream",
     "text": [
      "                 Generalized Linear Model Regression Results                  \n",
      "==============================================================================\n",
      "Dep. Variable:                      y   No. Observations:               120000\n",
      "Model:                            GLM   Df Residuals:                   119989\n",
      "Model Family:                Gaussian   Df Model:                           10\n",
      "Link Function:               identity   Scale:                 0.0588330713399\n",
      "Method:                          IRLS   Log-Likelihood:                -284.06\n",
      "Date:                Wed, 08 Nov 2017   Deviance:                       7059.3\n",
      "Time:                        17:53:42   Pearson chi2:                 7.06e+03\n",
      "No. Iterations:                     2                                         \n",
      "==============================================================================\n",
      "                 coef    std err          z      P>|z|      [0.025      0.975]\n",
      "------------------------------------------------------------------------------\n",
      "const          0.1412      0.003     48.966      0.000       0.136       0.147\n",
      "x1         -2.601e-06   2.85e-06     -0.913      0.361   -8.19e-06    2.98e-06\n",
      "x2            -0.0016   4.93e-05    -31.990      0.000      -0.002      -0.001\n",
      "x3             0.0490      0.001     45.960      0.000       0.047       0.051\n",
      "x4         -5.568e-07   3.24e-07     -1.720      0.086   -1.19e-06    7.78e-08\n",
      "x5         -2.137e-07   5.01e-08     -4.266      0.000   -3.12e-07   -1.16e-07\n",
      "x6            -0.0008      0.000     -5.151      0.000      -0.001      -0.000\n",
      "x7             0.0513      0.001     35.537      0.000       0.049       0.054\n",
      "x8             0.0009      0.001      1.310      0.190      -0.000       0.002\n",
      "x9            -0.0942      0.002    -58.287      0.000      -0.097      -0.091\n",
      "x10            0.0051      0.001      7.733      0.000       0.004       0.006\n",
      "==============================================================================\n"
     ]
    }
   ],
   "source": [
    "import statsmodels.api as sm\n",
    "X2 = sm.add_constant(X_train)\n",
    "est = sm.GLM(y_train, X2)\n",
    "est2 = est.fit()\n",
    "print est2.summary()"
   ]
  },
  {
   "cell_type": "code",
   "execution_count": 50,
   "metadata": {},
   "outputs": [
    {
     "name": "stdout",
     "output_type": "stream",
     "text": [
      "                 Generalized Linear Model Regression Results                  \n",
      "==============================================================================\n",
      "Dep. Variable:                      y   No. Observations:               120000\n",
      "Model:                            GLM   Df Residuals:                   119989\n",
      "Model Family:                Binomial   Df Model:                           10\n",
      "Link Function:                  logit   Scale:                             1.0\n",
      "Method:                          IRLS   Log-Likelihood:                -26972.\n",
      "Date:                Wed, 08 Nov 2017   Deviance:                       53945.\n",
      "Time:                        18:25:10   Pearson chi2:                 4.46e+05\n",
      "No. Iterations:                     7                                         \n",
      "==============================================================================\n",
      "                 coef    std err          z      P>|z|      [0.025      0.975]\n",
      "------------------------------------------------------------------------------\n",
      "const         -1.3528      0.047    -29.028      0.000      -1.444      -1.261\n",
      "x1         -5.127e-05   8.17e-05     -0.627      0.530      -0.000       0.000\n",
      "x2            -0.0288      0.001    -31.199      0.000      -0.031      -0.027\n",
      "x3             0.5098      0.012     41.161      0.000       0.486       0.534\n",
      "x4          -6.94e-05   1.37e-05     -5.063      0.000   -9.63e-05   -4.25e-05\n",
      "x5         -3.014e-05   3.27e-06     -9.227      0.000   -3.65e-05   -2.37e-05\n",
      "x6            -0.0086      0.003     -2.994      0.003      -0.014      -0.003\n",
      "x7             0.4766      0.017     27.738      0.000       0.443       0.510\n",
      "x8             0.0734      0.012      6.188      0.000       0.050       0.097\n",
      "x9            -0.9543      0.020    -47.902      0.000      -0.993      -0.915\n",
      "x10            0.0987      0.010      9.680      0.000       0.079       0.119\n",
      "==============================================================================\n"
     ]
    }
   ],
   "source": [
    "X2 = sm.add_constant(X_train)\n",
    "est = sm.GLM(y_train, X2,family = sm.families.Binomial())\n",
    "est2 = est.fit()\n",
    "print est2.summary()"
   ]
  },
  {
   "cell_type": "code",
   "execution_count": 49,
   "metadata": {},
   "outputs": [
    {
     "ename": "AttributeError",
     "evalue": "'module' object has no attribute 'family'",
     "output_type": "error",
     "traceback": [
      "\u001b[0;31m---------------------------------------------------------------------------\u001b[0m",
      "\u001b[0;31mAttributeError\u001b[0m                            Traceback (most recent call last)",
      "\u001b[0;32m<ipython-input-49-e8d2a58a91c8>\u001b[0m in \u001b[0;36m<module>\u001b[0;34m()\u001b[0m\n\u001b[0;32m----> 1\u001b[0;31m \u001b[0mfamily\u001b[0m \u001b[0;34m=\u001b[0m \u001b[0msm\u001b[0m\u001b[0;34m.\u001b[0m\u001b[0mfamily\u001b[0m\u001b[0;34m.\u001b[0m\u001b[0mBinomial\u001b[0m\u001b[0;34m(\u001b[0m\u001b[0;34m)\u001b[0m\u001b[0;34m\u001b[0m\u001b[0m\n\u001b[0m",
      "\u001b[0;31mAttributeError\u001b[0m: 'module' object has no attribute 'family'"
     ]
    }
   ],
   "source": [
    "family = sm.families.Binomial()"
   ]
  },
  {
   "cell_type": "code",
   "execution_count": 25,
   "metadata": {},
   "outputs": [
    {
     "name": "stdout",
     "output_type": "stream",
     "text": [
      "                 Generalized Linear Model Regression Results                  \n",
      "==============================================================================\n",
      "Dep. Variable:                      y   No. Observations:               120000\n",
      "Model:                            GLM   Df Residuals:                   119992\n",
      "Model Family:                Gaussian   Df Model:                            7\n",
      "Link Function:               identity   Scale:                  0.058834064653\n",
      "Method:                          IRLS   Log-Likelihood:                -286.57\n",
      "Date:                Wed, 08 Nov 2017   Deviance:                       7059.6\n",
      "Time:                        17:53:29   Pearson chi2:                 7.06e+03\n",
      "No. Iterations:                     2                                         \n",
      "==============================================================================\n",
      "                 coef    std err          z      P>|z|      [0.025      0.975]\n",
      "------------------------------------------------------------------------------\n",
      "const          0.1412      0.003     49.026      0.000       0.136       0.147\n",
      "x1            -0.0016   4.93e-05    -32.017      0.000      -0.002      -0.001\n",
      "x2             0.0491      0.001     45.973      0.000       0.047       0.051\n",
      "x3          -2.04e-07   4.98e-08     -4.093      0.000   -3.02e-07   -1.06e-07\n",
      "x4            -0.0007      0.000     -5.142      0.000      -0.001      -0.000\n",
      "x5             0.0513      0.001     35.523      0.000       0.048       0.054\n",
      "x6            -0.0942      0.002    -58.276      0.000      -0.097      -0.091\n",
      "x7             0.0052      0.001      7.962      0.000       0.004       0.006\n",
      "==============================================================================\n"
     ]
    }
   ],
   "source": [
    "X2 = sm.add_constant(np.delete(X_train, np.s_[0,3,7],1))\n",
    "est = sm.GLM(y_train, X2)\n",
    "est2 = est.fit()\n",
    "print est2.summary()"
   ]
  },
  {
   "cell_type": "markdown",
   "metadata": {},
   "source": [
    "## 4. 模型评估"
   ]
  },
  {
   "cell_type": "code",
   "execution_count": 39,
   "metadata": {
    "scrolled": true
   },
   "outputs": [
    {
     "name": "stdout",
     "output_type": "stream",
     "text": [
      "0.696653963135\n"
     ]
    }
   ],
   "source": [
    "from sklearn.metrics import roc_auc_score\n",
    "roc_score = roc_auc_score(y_train, clf.decision_function(X_train))\n",
    "print roc_score"
   ]
  },
  {
   "cell_type": "code",
   "execution_count": 42,
   "metadata": {},
   "outputs": [
    {
     "name": "stdout",
     "output_type": "stream",
     "text": [
      "0.696363284802\n"
     ]
    }
   ],
   "source": [
    "X_train2 = np.delete(X_train, np.s_[0,3,7],1)\n",
    "clf2 = LogisticRegression()\n",
    "clf2.fit(X_train2, y_train)\n",
    "roc_score2 = roc_auc_score(y_train, clf2.decision_function(X_train2))\n",
    "print roc_score2"
   ]
  },
  {
   "cell_type": "markdown",
   "metadata": {},
   "source": [
    "## 5. WOE转换"
   ]
  },
  {
   "cell_type": "code",
   "execution_count": 59,
   "metadata": {},
   "outputs": [
    {
     "data": {
      "text/plain": [
       "Index([u'SeriousDlqin2yrs', u'RevolvingUtilizationOfUnsecuredLines', u'age',\n",
       "       u'NumberOfTime30-59DaysPastDueNotWorse', u'DebtRatio', u'MonthlyIncome',\n",
       "       u'NumberOfOpenCreditLinesAndLoans', u'NumberOfTimes90DaysLate',\n",
       "       u'NumberRealEstateLoansOrLines',\n",
       "       u'NumberOfTime60-89DaysPastDueNotWorse', u'NumberOfDependents'],\n",
       "      dtype='object')"
      ]
     },
     "execution_count": 59,
     "metadata": {},
     "output_type": "execute_result"
    }
   ],
   "source": [
    "train.columns"
   ]
  },
  {
   "cell_type": "code",
   "execution_count": 66,
   "metadata": {},
   "outputs": [],
   "source": [
    "x2 = np.split(train_filled[:,2], range(30,80,5))"
   ]
  },
  {
   "cell_type": "code",
   "execution_count": 72,
   "metadata": {},
   "outputs": [],
   "source": [
    "def cut(x, step):\n",
    "    out = []\n",
    "    for i, j in enumerate(step):\n",
    "        if i == 0:\n",
    "            tmp = np.where(np.logical_and(x>=0, x<j))\n",
    "        elif i == len(step)-1:\n",
    "            tmp = np.where(x>=j)\n",
    "        else:\n",
    "            tmp = np.where(np.logical_and(x>=step[i-1], x<step[i]))\n",
    "        out.append(tmp)\n",
    "    return out"
   ]
  },
  {
   "cell_type": "code",
   "execution_count": 75,
   "metadata": {},
   "outputs": [
    {
     "data": {
      "text/plain": [
       "[(array([0, 1]),), (array([6, 7]),)]"
      ]
     },
     "execution_count": 75,
     "metadata": {},
     "output_type": "execute_result"
    }
   ],
   "source": [
    "np.where(np.logical_and(x))"
   ]
  }
 ],
 "metadata": {
  "kernelspec": {
   "display_name": "Python 2",
   "language": "python",
   "name": "python2"
  },
  "language_info": {
   "codemirror_mode": {
    "name": "ipython",
    "version": 2
   },
   "file_extension": ".py",
   "mimetype": "text/x-python",
   "name": "python",
   "nbconvert_exporter": "python",
   "pygments_lexer": "ipython2",
   "version": "2.7.14"
  }
 },
 "nbformat": 4,
 "nbformat_minor": 2
}
