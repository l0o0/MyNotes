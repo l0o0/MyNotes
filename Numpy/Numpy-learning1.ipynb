{
 "cells": [
  {
   "cell_type": "markdown",
   "metadata": {},
   "source": [
    "# Numpy学习笔记\n",
    "\n",
    "## Numpy简介\n",
    "\n"
   ]
  },
  {
   "cell_type": "markdown",
   "metadata": {},
   "source": [
    "## 1. ndarray多维数据对象\n",
    "ndarray是一个通用的同构数据多维容器，也就是说里面的元素必需是相同类型。ndarray都有一个`shape`和`dtype`属性，用于指明数组的维度和数据中的数据类型。N维数据对象ndarray在数据分析中经常用到，熟悉掌握它能够方便我们进行数据分析。\n",
    "### 1.1 数组创建"
   ]
  },
  {
   "cell_type": "code",
   "execution_count": 2,
   "metadata": {
    "collapsed": false
   },
   "outputs": [
    {
     "name": "stdout",
     "output_type": "stream",
     "text": [
      "int64\n"
     ]
    }
   ],
   "source": [
    "import numpy as np\n",
    "\n",
    "# 按照正态分布（0，1）生成10个随机数\n",
    "data = np.array(np.random.normal(0,1,10))\n",
    "\n",
    "# 还可以这么创建，会自动推断dtype类型\n",
    "data1 = [[1,2,3,4], [5,6,7,8]]\n",
    "arry1 = np.array(data1) \n",
    "print arry1.dtype\n",
    "# 将上面的一维数据转换成2 X 5 的array，可以试试data.shape=(3.3)有什么结果\n",
    "data.shape = (2,5)"
   ]
  },
  {
   "cell_type": "code",
   "execution_count": 26,
   "metadata": {
    "collapsed": false
   },
   "outputs": [
    {
     "name": "stdout",
     "output_type": "stream",
     "text": [
      "[[ -0.19616902   2.49520245  -6.14555902  -9.04647232 -17.88230055]\n",
      " [  7.40377203   0.41996745   4.68369247  -3.58210019 -17.61736922]]\n",
      "[[-0.0196169   0.24952025 -0.6145559  -0.90464723 -1.78823005]\n",
      " [ 0.7403772   0.04199674  0.46836925 -0.35821002 -1.76173692]]\n",
      "(2, 5)\n",
      "float64\n"
     ]
    }
   ],
   "source": [
    "print data * 10\n",
    "print data\n",
    "print data.shape\n",
    "print data.dtype"
   ]
  },
  {
   "cell_type": "code",
   "execution_count": 9,
   "metadata": {
    "collapsed": false
   },
   "outputs": [
    {
     "data": {
      "text/plain": [
       "array([[0, 0, 0, 0],\n",
       "       [0, 0, 0, 0]])"
      ]
     },
     "execution_count": 9,
     "metadata": {},
     "output_type": "execute_result"
    }
   ],
   "source": [
    "# 创建一个全是0的数组\n",
    "np.zeros(10)"
   ]
  },
  {
   "cell_type": "code",
   "execution_count": 7,
   "metadata": {
    "collapsed": false
   },
   "outputs": [
    {
     "data": {
      "text/plain": [
       "array([[ 1.,  1.,  1.,  1.],\n",
       "       [ 1.,  1.,  1.,  1.],\n",
       "       [ 1.,  1.,  1.,  1.]])"
      ]
     },
     "execution_count": 7,
     "metadata": {},
     "output_type": "execute_result"
    }
   ],
   "source": [
    "# 创建一个全是1的数组\n",
    "np.ones((3,4))"
   ]
  },
  {
   "cell_type": "code",
   "execution_count": 8,
   "metadata": {
    "collapsed": false
   },
   "outputs": [
    {
     "data": {
      "text/plain": [
       "array([[  1.21802121e-312,   1.70335574e-316,   6.90383046e-310],\n",
       "       [  6.90384679e-310,   6.90384371e-310,   6.90383047e-310]])"
      ]
     },
     "execution_count": 8,
     "metadata": {},
     "output_type": "execute_result"
    }
   ],
   "source": [
    "# 创建一个空的数组，因为返回全0的数组是不安全的，所以会自动添加上值\n",
    "np.empty((2,3))"
   ]
  },
  {
   "cell_type": "code",
   "execution_count": 10,
   "metadata": {
    "collapsed": false
   },
   "outputs": [
    {
     "data": {
      "text/plain": [
       "array([0, 1, 2, 3, 4, 5, 6, 7, 8, 9])"
      ]
     },
     "execution_count": 10,
     "metadata": {},
     "output_type": "execute_result"
    }
   ],
   "source": [
    "# range函数创建\n",
    "np.arange(10)"
   ]
  },
  {
   "cell_type": "markdown",
   "metadata": {},
   "source": [
    "其他创建数组的方法：\n",
    "+ **asarray**：将输入转换为ndarray，如果输入是ndarray就不进行  \n",
    "+ **zeros_like**：根据输入数组的形状创建一个全是0的数组\n",
    "+ **ones_like**：根据输入数组的形状创建一个全是1的数组\n",
    "+ **empty_like**：根据输入数组形状创建一个空数组\n",
    "+ **eye**，**identity**：创建一个单位矩阵"
   ]
  },
  {
   "cell_type": "code",
   "execution_count": 11,
   "metadata": {
    "collapsed": false
   },
   "outputs": [
    {
     "data": {
      "text/plain": [
       "array([[ 1.,  0.,  0.,  0.,  0.],\n",
       "       [ 0.,  1.,  0.,  0.,  0.],\n",
       "       [ 0.,  0.,  1.,  0.,  0.],\n",
       "       [ 0.,  0.,  0.,  1.,  0.],\n",
       "       [ 0.,  0.,  0.,  0.,  1.]])"
      ]
     },
     "execution_count": 11,
     "metadata": {},
     "output_type": "execute_result"
    }
   ],
   "source": [
    "np.eye(5)"
   ]
  },
  {
   "cell_type": "code",
   "execution_count": 12,
   "metadata": {
    "collapsed": false
   },
   "outputs": [
    {
     "data": {
      "text/plain": [
       "array([[ 1.,  0.,  0.],\n",
       "       [ 0.,  1.,  0.],\n",
       "       [ 0.,  0.,  1.]])"
      ]
     },
     "execution_count": 12,
     "metadata": {},
     "output_type": "execute_result"
    }
   ],
   "source": [
    "np.identity(3)"
   ]
  },
  {
   "cell_type": "markdown",
   "metadata": {},
   "source": [
    "### 1.2 数组类型\n",
    "**dtype**是一种特殊的对象，含有ndarray将一块内存解释为特定数据类型的所需信息，方便将不同数据类型映射到计算机能识别的表示。数据型dytpe的命名格式相同：一个类型名（int，float），后面跟一个用于表示各元素位长的数字。标准双精度浮点数需要占用8个字节，所以用float64表示。"
   ]
  },
  {
   "cell_type": "code",
   "execution_count": 13,
   "metadata": {
    "collapsed": false
   },
   "outputs": [
    {
     "name": "stdout",
     "output_type": "stream",
     "text": [
      "float64\n",
      "int32\n"
     ]
    }
   ],
   "source": [
    "arr1 = np.array([1,2,3], dtype=np.float64)\n",
    "arr2 = np.array([3,4,5], dtype=np.int32)\n",
    "print arr1.dtype\n",
    "print arr2.dtype"
   ]
  },
  {
   "cell_type": "markdown",
   "metadata": {},
   "source": [
    "|Data type | Type code | Description| \n",
    "| -- | -- | -- |\n",
    "|bool_ | ? | \tBoolean (True or False) stored as a byte |\n",
    "|int_ |  | \tDefault integer type (same as C long; normally either int64 or int32) |\n",
    "|intc |  | \tIdentical to C int (normally int32 or int64) |\n",
    "|intp |  | \tInteger used for indexing (same as C ssize_t; normally either int32 or int64) |\n",
    "|int8 | i1 |\t一个字节，Byte (-128 to 127)|\n",
    "|int16 | i2 |\tInteger (-32768 to 32767)|\n",
    "|int32 | i4 |\tInteger (-2147483648 to 2147483647)|\n",
    "|int64 | i8 |\tInteger (-9223372036854775808 to 9223372036854775807)|\n",
    "|uint8 | u1 |\tUnsigned integer (0 to 255)|\n",
    "|uint16 | u2 |\tUnsigned integer (0 to 65535)|\n",
    "|uint32 | u4 |\tUnsigned integer (0 to 4294967295)|\n",
    "|uint64 | u8 |\tUnsigned integer (0 to 18446744073709551615)|\n",
    "|float_ |  |\tShorthand for float64.|\n",
    "|float16 | f2 |\tHalf precision float: sign bit, 5 bits exponent, 10 bits mantissa|\n",
    "|float32 | f4或f |\tSingle precision float: sign bit, 8 bits exponent, 23 bits mantissa|\n",
    "|float64 | f8或d |\tDouble precision float: sign bit, 11 bits exponent, 52 bits mantissa|\n",
    "|complex_ | |\tShorthand for complex128.|\n",
    "|complex64 | c8 |\tComplex number, represented by two 32-bit floats (real and imaginary components)|\n",
    "|complex128 | c16 |\tComplex number, represented by two 64-bit floats (real and imaginary components)| \n",
    "| object | O | python object 对象 |\n",
    "| string_ | S | 固定长度的字符串类型（每个字符一个字节），10个长度的字符串，应为S10 |\n",
    "| unicode_ | U | 固定长度的unicode类型，和字符串类似 |"
   ]
  },
  {
   "cell_type": "code",
   "execution_count": 16,
   "metadata": {
    "collapsed": false
   },
   "outputs": [
    {
     "data": {
      "text/plain": [
       "array([1, 2, 3, 4, 5], dtype=int8)"
      ]
     },
     "execution_count": 16,
     "metadata": {},
     "output_type": "execute_result"
    }
   ],
   "source": [
    "# 利用type code缩写来设置数组类型\n",
    "np.array([1,2,3,4,5], dtype='i1')"
   ]
  },
  {
   "cell_type": "code",
   "execution_count": 18,
   "metadata": {
    "collapsed": false
   },
   "outputs": [
    {
     "name": "stdout",
     "output_type": "stream",
     "text": [
      "['1' '2' '3' '4']\n"
     ]
    },
    {
     "data": {
      "text/plain": [
       "array([1, 2, 3, 4], dtype=int8)"
      ]
     },
     "execution_count": 18,
     "metadata": {},
     "output_type": "execute_result"
    }
   ],
   "source": [
    "# astype不同类型间的转换,该方法会创建一个新的数组\n",
    "str1 = np.array(['1', '2','3','4'], dtype=np.string_)\n",
    "print str1\n",
    "str1.astype('i1')"
   ]
  },
  {
   "cell_type": "markdown",
   "metadata": {},
   "source": [
    "### 1.3 数组与标题之间的运算\n",
    "数组可以不用循环就可以方便地对数据进行指计算，这个特性称为矢量化（vectorization），R语言中的**vector**,**data.frame**也支持这个特性。大小相同的两个数组之间的任何运算都会就到到元素级别。"
   ]
  },
  {
   "cell_type": "code",
   "execution_count": 9,
   "metadata": {
    "collapsed": false
   },
   "outputs": [
    {
     "name": "stdout",
     "output_type": "stream",
     "text": [
      "[[0 1 2]\n",
      " [3 4 5]]\n",
      "[[10 11 12]\n",
      " [13 14 15]]\n"
     ]
    }
   ],
   "source": [
    "arry1 = np.arange(6)\n",
    "arry1.shape = (2,3)\n",
    "arry2 = np.arange(10,16)\n",
    "arry2.shape = (2,3)\n",
    "print arry1\n",
    "print arry2"
   ]
  },
  {
   "cell_type": "code",
   "execution_count": 10,
   "metadata": {
    "collapsed": false
   },
   "outputs": [
    {
     "data": {
      "text/plain": [
       "array([[ 0, 11, 24],\n",
       "       [39, 56, 75]])"
      ]
     },
     "execution_count": 10,
     "metadata": {},
     "output_type": "execute_result"
    }
   ],
   "source": [
    "arry1 * arry2 "
   ]
  },
  {
   "cell_type": "code",
   "execution_count": 11,
   "metadata": {
    "collapsed": false
   },
   "outputs": [
    {
     "data": {
      "text/plain": [
       "array([[10, 12, 14],\n",
       "       [16, 18, 20]])"
      ]
     },
     "execution_count": 11,
     "metadata": {},
     "output_type": "execute_result"
    }
   ],
   "source": [
    "arry1 + arry2 "
   ]
  },
  {
   "cell_type": "code",
   "execution_count": 13,
   "metadata": {
    "collapsed": false
   },
   "outputs": [
    {
     "data": {
      "text/plain": [
       "array([[ 7,  8,  9],\n",
       "       [10, 11, 12]])"
      ]
     },
     "execution_count": 13,
     "metadata": {},
     "output_type": "execute_result"
    }
   ],
   "source": [
    "# 与标量的运算\n",
    "7 + arry1"
   ]
  },
  {
   "cell_type": "markdown",
   "metadata": {},
   "source": [
    "不同大小数组之间的运算称为广播（broadcasting），计算过程比较上面复杂。"
   ]
  },
  {
   "cell_type": "markdown",
   "metadata": {},
   "source": [
    "### 1.4 切片与索引\n",
    "和Python中的**list**一样，数组也可以进行切片与索引，从中选取部分数据。"
   ]
  },
  {
   "cell_type": "code",
   "execution_count": 23,
   "metadata": {
    "collapsed": false
   },
   "outputs": [
    {
     "data": {
      "text/plain": [
       "array([0, 1, 2, 3, 4, 5, 6, 7, 8, 9])"
      ]
     },
     "execution_count": 23,
     "metadata": {},
     "output_type": "execute_result"
    }
   ],
   "source": [
    "arr = np.arange(10)\n",
    "arr"
   ]
  },
  {
   "cell_type": "code",
   "execution_count": 16,
   "metadata": {
    "collapsed": false
   },
   "outputs": [
    {
     "data": {
      "text/plain": [
       "5"
      ]
     },
     "execution_count": 16,
     "metadata": {},
     "output_type": "execute_result"
    }
   ],
   "source": [
    "arr[5]"
   ]
  },
  {
   "cell_type": "code",
   "execution_count": 17,
   "metadata": {
    "collapsed": false
   },
   "outputs": [
    {
     "data": {
      "text/plain": [
       "array([5, 6, 7])"
      ]
     },
     "execution_count": 17,
     "metadata": {},
     "output_type": "execute_result"
    }
   ],
   "source": [
    "arr[5:8]"
   ]
  },
  {
   "cell_type": "code",
   "execution_count": 25,
   "metadata": {
    "collapsed": false
   },
   "outputs": [
    {
     "name": "stdout",
     "output_type": "stream",
     "text": [
      "[ 0  1  2  3  4 15 15 15  8  9]\n",
      "[15 15 15]\n",
      "[   15 12345    15]\n",
      "[    0     1     2     3     4    15 12345    15     8     9]\n",
      "140544018689912\n",
      "140544018689912\n"
     ]
    }
   ],
   "source": [
    "arr[5:8] = 15\n",
    "print arr\n",
    "x = arr[5:8]\n",
    "print x\n",
    "x[1] = 12345\n",
    "print x\n",
    "print arr\n",
    "# 查看这两个地方引用的内存地址是否一样\n",
    "print id(x[1])\n",
    "print id(arr[6])"
   ]
  },
  {
   "cell_type": "markdown",
   "metadata": {},
   "source": [
    "最后一个例子可以发现，数组对象和Python的列表对象一样，是可变的。不过有一种很重要的不一样是，当我们改变**x**中的值时，**arr**中的值也发生变化了（从15变为12345）。就明在切片的时候，数据不会复制，任何修改都会反映到原始数组上，因为它们引用的内存地址是一样的。设计成这样的原因大概是因为Numpy在用于处理大数据时，如果复制一个数据，可能会造成很大的内存开销。如果想要进行复制，可以利用`np.array.copy()`方法进行复制，可以把该值复制到新的变量上，而不影响原始数组。"
   ]
  },
  {
   "cell_type": "code",
   "execution_count": 26,
   "metadata": {
    "collapsed": false
   },
   "outputs": [
    {
     "data": {
      "text/plain": [
       "array([[0, 1, 2],\n",
       "       [3, 4, 5],\n",
       "       [6, 7, 8]])"
      ]
     },
     "execution_count": 26,
     "metadata": {},
     "output_type": "execute_result"
    }
   ],
   "source": [
    "arr2d = np.arange(9)\n",
    "arr2d.shape = (3,3)\n",
    "arr2d"
   ]
  },
  {
   "cell_type": "code",
   "execution_count": 27,
   "metadata": {
    "collapsed": false
   },
   "outputs": [
    {
     "name": "stdout",
     "output_type": "stream",
     "text": [
      "5\n",
      "5\n"
     ]
    }
   ],
   "source": [
    "# 这两种索引方法结果一样\n",
    "print arr2d[1][2]\n",
    "print arr2d[1,2]"
   ]
  },
  {
   "cell_type": "code",
   "execution_count": 29,
   "metadata": {
    "collapsed": false
   },
   "outputs": [
    {
     "data": {
      "text/plain": [
       "array([[[ 0,  1,  2],\n",
       "        [ 3,  4,  5],\n",
       "        [ 6,  7,  8]],\n",
       "\n",
       "       [[ 9, 10, 11],\n",
       "        [12, 13, 14],\n",
       "        [15, 16, 17]],\n",
       "\n",
       "       [[18, 19, 20],\n",
       "        [21, 22, 23],\n",
       "        [24, 25, 26]]])"
      ]
     },
     "execution_count": 29,
     "metadata": {},
     "output_type": "execute_result"
    }
   ],
   "source": [
    "arr3d = np.arange(27)\n",
    "arr3d.shape = (3,3,3)\n",
    "arr3d"
   ]
  },
  {
   "cell_type": "code",
   "execution_count": 34,
   "metadata": {
    "collapsed": false
   },
   "outputs": [
    {
     "name": "stdout",
     "output_type": "stream",
     "text": [
      "(3, 3)\n"
     ]
    },
    {
     "data": {
      "text/plain": [
       "array([[ 9, 10, 11],\n",
       "       [12, 13, 14],\n",
       "       [15, 16, 17]])"
      ]
     },
     "execution_count": 34,
     "metadata": {},
     "output_type": "execute_result"
    }
   ],
   "source": [
    "print arr3d[1].shape\n",
    "arr3d[1]"
   ]
  },
  {
   "cell_type": "code",
   "execution_count": 31,
   "metadata": {
    "collapsed": false
   },
   "outputs": [
    {
     "data": {
      "text/plain": [
       "14"
      ]
     },
     "execution_count": 31,
     "metadata": {},
     "output_type": "execute_result"
    }
   ],
   "source": [
    "arr3d[1,1,2]"
   ]
  },
  {
   "cell_type": "code",
   "execution_count": 32,
   "metadata": {
    "collapsed": false
   },
   "outputs": [
    {
     "data": {
      "text/plain": [
       "14"
      ]
     },
     "execution_count": 32,
     "metadata": {},
     "output_type": "execute_result"
    }
   ],
   "source": [
    "arr3d[1][1][2]"
   ]
  },
  {
   "cell_type": "code",
   "execution_count": 33,
   "metadata": {
    "collapsed": false
   },
   "outputs": [
    {
     "data": {
      "text/plain": [
       "array([[18, 19, 20],\n",
       "       [21, 22, 23],\n",
       "       [24, 25, 26]])"
      ]
     },
     "execution_count": 33,
     "metadata": {},
     "output_type": "execute_result"
    }
   ],
   "source": [
    "# 等于arr3d[:,2],得到一个二维数组\n",
    "arr3d[:][2]"
   ]
  }
 ],
 "metadata": {
  "kernelspec": {
   "display_name": "Python 2",
   "language": "python",
   "name": "python2"
  },
  "language_info": {
   "codemirror_mode": {
    "name": "ipython",
    "version": 2
   },
   "file_extension": ".py",
   "mimetype": "text/x-python",
   "name": "python",
   "nbconvert_exporter": "python",
   "pygments_lexer": "ipython2",
   "version": "2.7.10"
  }
 },
 "nbformat": 4,
 "nbformat_minor": 2
}
